{
 "cells": [
  {
   "cell_type": "markdown",
   "source": [
    "# Support Vector Machines for Fall detection\r\n",
    "\r\n",
    "In this Python notebook I create different SVM models for detecting falls using 3 sensors (accelerometer, gyroscope and magnetometer). This work uses FallAllD dataset, which was created by Saleh *et al*., (2021). The model will use all three axis of all three sensors. The dataset had to be modied for having a column for fall, in which 1 represents a fall, otherwise is an ADL. For comparison, another dataset has been created, which uses a second output column. This column, ADL, will have the opposite value of Fall. \r\n",
    "\r\n",
    "A third and fourth dataset was created in which basic statistical features are being used. Those features are: Mean, Standard Deviation and Range. These features were extracted for each of the axis of each sensor. A fifth and sixth dataset was created using the same features, altough just considering accelerometer data, just like Saleh *et al*., (2021) did in their work."
   ],
   "metadata": {}
  },
  {
   "cell_type": "markdown",
   "source": [
    "### Importing libraries\r\n",
    "\r\n",
    "This libraries will help throughout the code"
   ],
   "metadata": {}
  },
  {
   "cell_type": "code",
   "execution_count": 27,
   "source": [
    "import pandas as pd\r\n",
    "from sklearn.model_selection import cross_val_score, StratifiedKFold, train_test_split, GridSearchCV\r\n",
    "from sklearn.metrics import accuracy_score, confusion_matrix, ConfusionMatrixDisplay\r\n",
    "from sklearn.svm import SVC\r\n",
    "import matplotlib.pyplot as plt\r\n",
    "import requests\r\n",
    "import time\r\n",
    "import pickle"
   ],
   "outputs": [],
   "metadata": {}
  },
  {
   "cell_type": "markdown",
   "source": [
    "### Notification System\r\n",
    "\r\n",
    "This funciton will be used to send a Telegram message when training is done."
   ],
   "metadata": {}
  },
  {
   "cell_type": "code",
   "execution_count": 4,
   "source": [
    "f = open(\"Notification system/Telegram Token.txt\")\r\n",
    "token = f.read()\r\n",
    "\r\n",
    "def broadcast_message(chat, message):\r\n",
    "    for chat_to_send in chat:\r\n",
    "        URL = 'https://api.telegram.org/bot{}/sendMessage?chat_id={}&text={}'.format(token, chat_to_send, message)\r\n",
    "        resp = requests.get(URL)\r\n",
    "        print(resp.text)"
   ],
   "outputs": [],
   "metadata": {}
  },
  {
   "cell_type": "markdown",
   "source": [
    "### Reading frist dataframe\r\n",
    "\r\n",
    "This is the dataframe containing one output column with raw data from all 3 sensors."
   ],
   "metadata": {}
  },
  {
   "cell_type": "code",
   "execution_count": 5,
   "source": [
    "df = pd.read_pickle('Dataframes/Dataframe3.pkl')\r\n",
    "df.info()"
   ],
   "outputs": [
    {
     "output_type": "stream",
     "name": "stdout",
     "text": [
      "<class 'pandas.core.frame.DataFrame'>\n",
      "RangeIndex: 1798 entries, 0 to 1797\n",
      "Data columns (total 35 columns):\n",
      " #   Column      Non-Null Count  Dtype  \n",
      "---  ------      --------------  -----  \n",
      " 0   SubjectID   1798 non-null   int8   \n",
      " 1   Device      1798 non-null   object \n",
      " 2   ActivityID  1798 non-null   int16  \n",
      " 3   TrialNo     1798 non-null   int8   \n",
      " 4   Acc         1798 non-null   object \n",
      " 5   Gyr         1798 non-null   object \n",
      " 6   Mag         1798 non-null   object \n",
      " 7   Mean Acc X  1798 non-null   float64\n",
      " 8   Mean Acc Y  1798 non-null   float64\n",
      " 9   Mean Acc Z  1798 non-null   float64\n",
      " 10  Std Acc X   1798 non-null   float64\n",
      " 11  Std Acc Y   1798 non-null   float64\n",
      " 12  Std Acc Z   1798 non-null   float64\n",
      " 13  Rng Acc X   1798 non-null   float64\n",
      " 14  Rng Acc Y   1798 non-null   float64\n",
      " 15  Rng Acc Z   1798 non-null   float64\n",
      " 16  Mean Gyr X  1798 non-null   float64\n",
      " 17  Mean Gyr Y  1798 non-null   float64\n",
      " 18  Mean Gyr Z  1798 non-null   float64\n",
      " 19  Std Gyr X   1798 non-null   float64\n",
      " 20  Std Gyr Y   1798 non-null   float64\n",
      " 21  Std Gyr Z   1798 non-null   float64\n",
      " 22  Rng Gyr X   1798 non-null   float64\n",
      " 23  Rng Gyr Y   1798 non-null   float64\n",
      " 24  Rng Gyr Z   1798 non-null   float64\n",
      " 25  Mean Mag X  1798 non-null   float64\n",
      " 26  Mean Mag Y  1798 non-null   float64\n",
      " 27  Mean Mag Z  1798 non-null   float64\n",
      " 28  Std Mag X   1798 non-null   float64\n",
      " 29  Std Mag Y   1798 non-null   float64\n",
      " 30  Std Mag Z   1798 non-null   float64\n",
      " 31  Rng Mag X   1798 non-null   float64\n",
      " 32  Rng Mag Y   1798 non-null   float64\n",
      " 33  Rng Mag Z   1798 non-null   float64\n",
      " 34  Fall        1798 non-null   int64  \n",
      "dtypes: float64(27), int16(1), int64(1), int8(2), object(4)\n",
      "memory usage: 456.6+ KB\n"
     ]
    }
   ],
   "metadata": {}
  },
  {
   "cell_type": "code",
   "execution_count": 6,
   "source": [
    "X = df.iloc[:, 7:34]       # Defining X as Acce, Gyro and Mag data\r\n",
    "X.info()                   # Printing X's info"
   ],
   "outputs": [
    {
     "output_type": "stream",
     "name": "stdout",
     "text": [
      "<class 'pandas.core.frame.DataFrame'>\n",
      "RangeIndex: 1798 entries, 0 to 1797\n",
      "Data columns (total 27 columns):\n",
      " #   Column      Non-Null Count  Dtype  \n",
      "---  ------      --------------  -----  \n",
      " 0   Mean Acc X  1798 non-null   float64\n",
      " 1   Mean Acc Y  1798 non-null   float64\n",
      " 2   Mean Acc Z  1798 non-null   float64\n",
      " 3   Std Acc X   1798 non-null   float64\n",
      " 4   Std Acc Y   1798 non-null   float64\n",
      " 5   Std Acc Z   1798 non-null   float64\n",
      " 6   Rng Acc X   1798 non-null   float64\n",
      " 7   Rng Acc Y   1798 non-null   float64\n",
      " 8   Rng Acc Z   1798 non-null   float64\n",
      " 9   Mean Gyr X  1798 non-null   float64\n",
      " 10  Mean Gyr Y  1798 non-null   float64\n",
      " 11  Mean Gyr Z  1798 non-null   float64\n",
      " 12  Std Gyr X   1798 non-null   float64\n",
      " 13  Std Gyr Y   1798 non-null   float64\n",
      " 14  Std Gyr Z   1798 non-null   float64\n",
      " 15  Rng Gyr X   1798 non-null   float64\n",
      " 16  Rng Gyr Y   1798 non-null   float64\n",
      " 17  Rng Gyr Z   1798 non-null   float64\n",
      " 18  Mean Mag X  1798 non-null   float64\n",
      " 19  Mean Mag Y  1798 non-null   float64\n",
      " 20  Mean Mag Z  1798 non-null   float64\n",
      " 21  Std Mag X   1798 non-null   float64\n",
      " 22  Std Mag Y   1798 non-null   float64\n",
      " 23  Std Mag Z   1798 non-null   float64\n",
      " 24  Rng Mag X   1798 non-null   float64\n",
      " 25  Rng Mag Y   1798 non-null   float64\n",
      " 26  Rng Mag Z   1798 non-null   float64\n",
      "dtypes: float64(27)\n",
      "memory usage: 379.4 KB\n"
     ]
    }
   ],
   "metadata": {}
  },
  {
   "cell_type": "code",
   "execution_count": 7,
   "source": [
    "y = df['Fall']          # Defining y as Fall column, this means setting y to our output.\r\n",
    "y.tail()                # y is a Series object"
   ],
   "outputs": [
    {
     "output_type": "execute_result",
     "data": {
      "text/plain": [
       "1793    1\n",
       "1794    1\n",
       "1795    1\n",
       "1796    1\n",
       "1797    1\n",
       "Name: Fall, dtype: int64"
      ]
     },
     "metadata": {},
     "execution_count": 7
    }
   ],
   "metadata": {}
  },
  {
   "cell_type": "markdown",
   "source": [
    "### Creating first SVM model\r\n",
    "\r\n",
    "Choosing the best SVM kernel. The kernel can be Linear, Polynomial, Radial Basis Function and Sigmoid, so we will create, train and test every one of them to get the best model of a SVM classifier."
   ],
   "metadata": {}
  },
  {
   "cell_type": "code",
   "execution_count": 29,
   "source": [
    "clf_lin_1 = SVC(kernel='linear', C=1)          # Parameter tuning is needed to get better results"
   ],
   "outputs": [],
   "metadata": {}
  },
  {
   "cell_type": "markdown",
   "source": [
    "#### Using tain test split\r\n",
    "\r\n",
    "This function will help us to create a separate pandas DataFrame for testing the end result. So we are separating 10% of the data into a test set. With this we will be using the other 90% for training and validating our models."
   ],
   "metadata": {}
  },
  {
   "cell_type": "code",
   "execution_count": 13,
   "source": [
    "X, X_test, y, y_test = train_test_split(X, y, test_size=0.1, train_size=0.9, random_state=17, stratify=y)\r\n",
    "X.shape, X_test.shape"
   ],
   "outputs": [
    {
     "output_type": "execute_result",
     "data": {
      "text/plain": [
       "((1456, 27), (162, 27))"
      ]
     },
     "metadata": {},
     "execution_count": 13
    }
   ],
   "metadata": {}
  },
  {
   "cell_type": "markdown",
   "source": [
    "#### Using StratifiedKFold\r\n",
    "\r\n",
    "Since we are using a K-Fold Cross Validation approach, we have to use KFold to create our folds for training and testing. In this case we will be using k = 10, where 9 sets will be used for training and 1 for validating. So this way every set gets a chance to be validated. \r\n",
    "\r\n",
    "By using StratifiedKFold we make sure that the output class is evenly distribuited through each fold. So this means that they are smaller chances of having only Falls in on set."
   ],
   "metadata": {}
  },
  {
   "cell_type": "code",
   "execution_count": 30,
   "source": [
    "scores_lin_1 = []\r\n",
    "\r\n",
    "k_fold = StratifiedKFold(n_splits=10,shuffle=True, random_state=17)      # Creating a Stratifiedd K fold object\r\n",
    "# This loop can be done with one line of code using cross_val_score\r\n",
    "for train_index, val_index in k_fold.split(X, y):                      # Splitting dataset into 10 fold \r\n",
    "    X_train, X_val = X.iloc[train_index], X.iloc[val_index]\r\n",
    "    y_train, y_val = y.iloc[train_index] , y.iloc[val_index]\r\n",
    "\r\n",
    "    clf_lin_1.fit(X_train, y_train)\r\n",
    "    scores_lin_1.append(clf_lin_1.score(X_val, y_val))\r\n",
    "\r\n",
    "broadcast_message(['1766671538'], 'Training is done!')\r\n",
    "print('Linear accuracy score: ', sum(scores_lin_1) / len(scores_lin_1))         # 0.9486 accuracy   Randomstate=17 0.9498 accuracy\r\n",
    "#print('Poly accuracy score: ', sum(scores_poly) / len(scores_poly))        # 0.8138 accuracy\r\n",
    "#print('RBF accuracy score: ', sum(scores_rbf) / len(scores_rbf))           # 0.8757 accuracy\r\n",
    "#print('Sig accuracy score: ', sum(scores_sig) / len(scores_sig))           # 0.6353 accuracy"
   ],
   "outputs": [
    {
     "output_type": "stream",
     "name": "stdout",
     "text": [
      "{\"ok\":true,\"result\":{\"message_id\":88,\"from\":{\"id\":1917311024,\"is_bot\":true,\"first_name\":\"FallAlert\",\"username\":\"FallAlertPythonBot\"},\"chat\":{\"id\":1766671538,\"first_name\":\"Teddy\",\"last_name\":\"Ordo\\u00f1ez\",\"username\":\"teddsords\",\"type\":\"private\"},\"date\":1634144741,\"text\":\"Training is done!\"}}\n",
      "Linear accuracy score:  0.9498724610297591\n"
     ]
    }
   ],
   "metadata": {}
  },
  {
   "cell_type": "code",
   "execution_count": 31,
   "source": [
    "y_predicted = clf_lin_1.predict(X_test)       # 0.95      randomstate=17 0.9567 accuracy\r\n",
    "print('Accuracy: ', accuracy_score(y_test, y_predicted))"
   ],
   "outputs": [
    {
     "output_type": "stream",
     "name": "stdout",
     "text": [
      "Accuracy:  0.9567901234567902\n"
     ]
    }
   ],
   "metadata": {}
  },
  {
   "cell_type": "code",
   "execution_count": 53,
   "source": [
    "for i in range(len(y_predicted)):\r\n",
    "    \r\n",
    "    if y_predicted[i] == 1:\r\n",
    "        broadcast_message(['1766671538'], 'Fall detected!')\r\n",
    "\r\n",
    "    else:\r\n",
    "        broadcast_message(['1766671538'], 'Not a Fall!')\r\n",
    "    \r\n",
    "    time.sleep(30)\r\n",
    "\r\n",
    "print('Accuracy: ', accuracy_score(y_test, y_predicted)) "
   ],
   "outputs": [
    {
     "output_type": "stream",
     "name": "stdout",
     "text": [
      "{\"ok\":true,\"result\":{\"message_id\":78,\"from\":{\"id\":1917311024,\"is_bot\":true,\"first_name\":\"FallAlert\",\"username\":\"FallAlertPythonBot\"},\"chat\":{\"id\":1766671538,\"first_name\":\"Teddy\",\"last_name\":\"Ordo\\u00f1ez\",\"username\":\"teddsords\",\"type\":\"private\"},\"date\":1634133587,\"text\":\"Not a Fall!\"}}\n",
      "{\"ok\":true,\"result\":{\"message_id\":79,\"from\":{\"id\":1917311024,\"is_bot\":true,\"first_name\":\"FallAlert\",\"username\":\"FallAlertPythonBot\"},\"chat\":{\"id\":1766671538,\"first_name\":\"Teddy\",\"last_name\":\"Ordo\\u00f1ez\",\"username\":\"teddsords\",\"type\":\"private\"},\"date\":1634133618,\"text\":\"Fall detected!\"}}\n",
      "{\"ok\":true,\"result\":{\"message_id\":80,\"from\":{\"id\":1917311024,\"is_bot\":true,\"first_name\":\"FallAlert\",\"username\":\"FallAlertPythonBot\"},\"chat\":{\"id\":1766671538,\"first_name\":\"Teddy\",\"last_name\":\"Ordo\\u00f1ez\",\"username\":\"teddsords\",\"type\":\"private\"},\"date\":1634133649,\"text\":\"Not a Fall!\"}}\n",
      "{\"ok\":true,\"result\":{\"message_id\":81,\"from\":{\"id\":1917311024,\"is_bot\":true,\"first_name\":\"FallAlert\",\"username\":\"FallAlertPythonBot\"},\"chat\":{\"id\":1766671538,\"first_name\":\"Teddy\",\"last_name\":\"Ordo\\u00f1ez\",\"username\":\"teddsords\",\"type\":\"private\"},\"date\":1634133680,\"text\":\"Not a Fall!\"}}\n"
     ]
    }
   ],
   "metadata": {}
  },
  {
   "cell_type": "markdown",
   "source": [
    "#### Using cross_val_score\r\n",
    "\r\n",
    "By using this function, we will have similar results as the ones printed above. The cell above just shows what's going on inside the function cross_val_score, so from now on I will be using only cross_val_score."
   ],
   "metadata": {}
  },
  {
   "cell_type": "code",
   "execution_count": 48,
   "source": [
    "print('Linear accuracy score: ', cross_val_score(clf_lin, X, y, cv=10).mean())      # 0.9478 accuracy       std = 0.9493\r\n",
    "#print('Poly accuracy score: ', cross_val_score(clf_poly, X, y, cv=10).mean())       # 0.8186 accuracy\r\n",
    "#print('RBF accuracy score: ', cross_val_score(clf_rbf, X, y, cv=10).mean())         # 0.8763 accuracy\r\n",
    "#print('Sig accuracy score: ', cross_val_score(clf_sig, X, y, cv=10).mean())         # 0.6318 accuracy\r\n",
    "\r\n",
    "broadcast_message(['1766671538'], 'Training is done!')"
   ],
   "outputs": [
    {
     "output_type": "stream",
     "name": "stdout",
     "text": [
      "Linear accuracy score:  0.9427480916030534\n",
      "{\"ok\":true,\"result\":{\"message_id\":77,\"from\":{\"id\":1917311024,\"is_bot\":true,\"first_name\":\"FallAlert\",\"username\":\"FallAlertPythonBot\"},\"chat\":{\"id\":1766671538,\"first_name\":\"Teddy\",\"last_name\":\"Ordo\\u00f1ez\",\"username\":\"teddsords\",\"type\":\"private\"},\"date\":1634133081,\"text\":\"Training is done!\"}}\n"
     ]
    }
   ],
   "metadata": {}
  },
  {
   "cell_type": "markdown",
   "source": [
    "#### Using GridSearchCV\r\n",
    "\r\n",
    "By using the function GridSearchCV we can train an validate different SVM models with different **kernels**, **C** and **gamma** values for obtaining the best model with the best accuracy.\r\n",
    "\r\n",
    "As shown above, the worst kernel to use for this application is Sigmoid kernel, so for this first approach we will be tuning the linear, poly and rbf models."
   ],
   "metadata": {}
  },
  {
   "cell_type": "code",
   "execution_count": 16,
   "source": [
    "params = {'C': (0.001, 0.005, 0.01, 0.05, 0.1, 0.5, 1, 5, 10, 50, 100, 500, 1000)}"
   ],
   "outputs": [],
   "metadata": {}
  },
  {
   "cell_type": "code",
   "execution_count": 17,
   "source": [
    "clf_grid = GridSearchCV(SVC(), params, cv=10, n_jobs=-1, verbose=1, scoring='accuracy')\r\n",
    "clf_grid.fit(X,y)\r\n",
    "print(clf_grid.best_params_)\r\n",
    "df_grid_results = pd.DataFrame(clf_grid.cv_results_)\r\n",
    "print(df_grid_results)\r\n",
    "broadcast_message(['1766671538'], 'GridSearchCV is done!')"
   ],
   "outputs": [
    {
     "output_type": "stream",
     "name": "stdout",
     "text": [
      "Fitting 10 folds for each of 13 candidates, totalling 130 fits\n",
      "{'C': 1000}\n",
      "    mean_fit_time  std_fit_time  mean_score_time  std_score_time param_C  \\\n",
      "0        0.099133      0.006573         0.028225        0.001997   0.001   \n",
      "1        0.093451      0.005105         0.027425        0.004241   0.005   \n",
      "2        0.135038      0.024712         0.033711        0.005814    0.01   \n",
      "3        0.099633      0.008351         0.026330        0.003709    0.05   \n",
      "4        0.123569      0.020548         0.036204        0.010751     0.1   \n",
      "5        0.234971      0.080584         0.067818        0.042888     0.5   \n",
      "6        0.124178      0.017796         0.029559        0.007611       1   \n",
      "7        0.109806      0.012784         0.020745        0.002815       5   \n",
      "8        0.105319      0.011726         0.027576        0.007906      10   \n",
      "9        0.158723      0.031187         0.024145        0.008660      50   \n",
      "10       0.156629      0.033567         0.020507        0.003821     100   \n",
      "11       0.288333      0.048621         0.018944        0.005502     500   \n",
      "12       0.364526      0.034405         0.018147        0.004696    1000   \n",
      "\n",
      "          params  split0_test_score  split1_test_score  split2_test_score  \\\n",
      "0   {'C': 0.001}           0.739726           0.739726           0.739726   \n",
      "1   {'C': 0.005}           0.739726           0.739726           0.739726   \n",
      "2    {'C': 0.01}           0.739726           0.739726           0.739726   \n",
      "3    {'C': 0.05}           0.828767           0.842466           0.753425   \n",
      "4     {'C': 0.1}           0.835616           0.863014           0.780822   \n",
      "5     {'C': 0.5}           0.890411           0.897260           0.815068   \n",
      "6       {'C': 1}           0.897260           0.917808           0.863014   \n",
      "7       {'C': 5}           0.917808           0.931507           0.876712   \n",
      "8      {'C': 10}           0.924658           0.931507           0.876712   \n",
      "9      {'C': 50}           0.938356           0.910959           0.890411   \n",
      "10    {'C': 100}           0.938356           0.910959           0.883562   \n",
      "11    {'C': 500}           0.945205           0.931507           0.897260   \n",
      "12   {'C': 1000}           0.945205           0.938356           0.897260   \n",
      "\n",
      "    split3_test_score  split4_test_score  split5_test_score  \\\n",
      "0            0.739726           0.739726           0.739726   \n",
      "1            0.739726           0.739726           0.739726   \n",
      "2            0.732877           0.739726           0.739726   \n",
      "3            0.815068           0.849315           0.856164   \n",
      "4            0.815068           0.869863           0.869863   \n",
      "5            0.849315           0.876712           0.876712   \n",
      "6            0.883562           0.876712           0.883562   \n",
      "7            0.897260           0.883562           0.904110   \n",
      "8            0.890411           0.890411           0.910959   \n",
      "9            0.883562           0.910959           0.917808   \n",
      "10           0.890411           0.910959           0.910959   \n",
      "11           0.910959           0.924658           0.917808   \n",
      "12           0.910959           0.924658           0.938356   \n",
      "\n",
      "    split6_test_score  split7_test_score  split8_test_score  \\\n",
      "0            0.737931           0.744828           0.744828   \n",
      "1            0.737931           0.744828           0.744828   \n",
      "2            0.737931           0.751724           0.744828   \n",
      "3            0.813793           0.806897           0.806897   \n",
      "4            0.800000           0.813793           0.820690   \n",
      "5            0.834483           0.862069           0.855172   \n",
      "6            0.862069           0.889655           0.882759   \n",
      "7            0.868966           0.903448           0.910345   \n",
      "8            0.868966           0.896552           0.903448   \n",
      "9            0.882759           0.903448           0.910345   \n",
      "10           0.875862           0.910345           0.924138   \n",
      "11           0.896552           0.917241           0.931034   \n",
      "12           0.903448           0.917241           0.931034   \n",
      "\n",
      "    split9_test_score  mean_test_score  std_test_score  rank_test_score  \n",
      "0            0.744828         0.741077        0.002511               12  \n",
      "1            0.744828         0.741077        0.002511               12  \n",
      "2            0.744828         0.741082        0.004772               11  \n",
      "3            0.855172         0.822796        0.029574               10  \n",
      "4            0.855172         0.832390        0.029609                9  \n",
      "5            0.868966         0.862617        0.023865                8  \n",
      "6            0.903448         0.885985        0.016328                7  \n",
      "7            0.937931         0.903165        0.021371                5  \n",
      "8            0.937931         0.903155        0.021847                6  \n",
      "9            0.944828         0.909343        0.019858                4  \n",
      "10           0.944828         0.910038        0.021137                3  \n",
      "11           0.931034         0.920326        0.014809                2  \n",
      "12           0.917241         0.922376        0.015114                1  \n",
      "{\"ok\":true,\"result\":{\"message_id\":84,\"from\":{\"id\":1917311024,\"is_bot\":true,\"first_name\":\"FallAlert\",\"username\":\"FallAlertPythonBot\"},\"chat\":{\"id\":1766671538,\"first_name\":\"Teddy\",\"last_name\":\"Ordo\\u00f1ez\",\"username\":\"teddsords\",\"type\":\"private\"},\"date\":1634135684,\"text\":\"GridSearchCV is done!\"}}\n"
     ]
    }
   ],
   "metadata": {}
  },
  {
   "cell_type": "code",
   "execution_count": 19,
   "source": [
    "df_grid_results[['param_C', 'mean_test_score', 'rank_test_score']]"
   ],
   "outputs": [
    {
     "output_type": "execute_result",
     "data": {
      "text/html": [
       "<div>\n",
       "<style scoped>\n",
       "    .dataframe tbody tr th:only-of-type {\n",
       "        vertical-align: middle;\n",
       "    }\n",
       "\n",
       "    .dataframe tbody tr th {\n",
       "        vertical-align: top;\n",
       "    }\n",
       "\n",
       "    .dataframe thead th {\n",
       "        text-align: right;\n",
       "    }\n",
       "</style>\n",
       "<table border=\"1\" class=\"dataframe\">\n",
       "  <thead>\n",
       "    <tr style=\"text-align: right;\">\n",
       "      <th></th>\n",
       "      <th>param_C</th>\n",
       "      <th>mean_test_score</th>\n",
       "      <th>rank_test_score</th>\n",
       "    </tr>\n",
       "  </thead>\n",
       "  <tbody>\n",
       "    <tr>\n",
       "      <th>0</th>\n",
       "      <td>0.001</td>\n",
       "      <td>0.741077</td>\n",
       "      <td>12</td>\n",
       "    </tr>\n",
       "    <tr>\n",
       "      <th>1</th>\n",
       "      <td>0.005</td>\n",
       "      <td>0.741077</td>\n",
       "      <td>12</td>\n",
       "    </tr>\n",
       "    <tr>\n",
       "      <th>2</th>\n",
       "      <td>0.01</td>\n",
       "      <td>0.741082</td>\n",
       "      <td>11</td>\n",
       "    </tr>\n",
       "    <tr>\n",
       "      <th>3</th>\n",
       "      <td>0.05</td>\n",
       "      <td>0.822796</td>\n",
       "      <td>10</td>\n",
       "    </tr>\n",
       "    <tr>\n",
       "      <th>4</th>\n",
       "      <td>0.1</td>\n",
       "      <td>0.832390</td>\n",
       "      <td>9</td>\n",
       "    </tr>\n",
       "    <tr>\n",
       "      <th>5</th>\n",
       "      <td>0.5</td>\n",
       "      <td>0.862617</td>\n",
       "      <td>8</td>\n",
       "    </tr>\n",
       "    <tr>\n",
       "      <th>6</th>\n",
       "      <td>1</td>\n",
       "      <td>0.885985</td>\n",
       "      <td>7</td>\n",
       "    </tr>\n",
       "    <tr>\n",
       "      <th>7</th>\n",
       "      <td>5</td>\n",
       "      <td>0.903165</td>\n",
       "      <td>5</td>\n",
       "    </tr>\n",
       "    <tr>\n",
       "      <th>8</th>\n",
       "      <td>10</td>\n",
       "      <td>0.903155</td>\n",
       "      <td>6</td>\n",
       "    </tr>\n",
       "    <tr>\n",
       "      <th>9</th>\n",
       "      <td>50</td>\n",
       "      <td>0.909343</td>\n",
       "      <td>4</td>\n",
       "    </tr>\n",
       "    <tr>\n",
       "      <th>10</th>\n",
       "      <td>100</td>\n",
       "      <td>0.910038</td>\n",
       "      <td>3</td>\n",
       "    </tr>\n",
       "    <tr>\n",
       "      <th>11</th>\n",
       "      <td>500</td>\n",
       "      <td>0.920326</td>\n",
       "      <td>2</td>\n",
       "    </tr>\n",
       "    <tr>\n",
       "      <th>12</th>\n",
       "      <td>1000</td>\n",
       "      <td>0.922376</td>\n",
       "      <td>1</td>\n",
       "    </tr>\n",
       "  </tbody>\n",
       "</table>\n",
       "</div>"
      ],
      "text/plain": [
       "   param_C  mean_test_score  rank_test_score\n",
       "0    0.001         0.741077               12\n",
       "1    0.005         0.741077               12\n",
       "2     0.01         0.741082               11\n",
       "3     0.05         0.822796               10\n",
       "4      0.1         0.832390                9\n",
       "5      0.5         0.862617                8\n",
       "6        1         0.885985                7\n",
       "7        5         0.903165                5\n",
       "8       10         0.903155                6\n",
       "9       50         0.909343                4\n",
       "10     100         0.910038                3\n",
       "11     500         0.920326                2\n",
       "12    1000         0.922376                1"
      ]
     },
     "metadata": {},
     "execution_count": 19
    }
   ],
   "metadata": {}
  },
  {
   "cell_type": "code",
   "execution_count": 25,
   "source": [
    "clf_lin_1000 = SVC(kernel='linear', C=1000)\r\n",
    "\r\n",
    "scores_lin_1000 = []\r\n",
    "\r\n",
    "k_fold = StratifiedKFold(n_splits=10,shuffle=True, random_state=17)      # Creating a Stratifiedd K fold object\r\n",
    "# This loop can be done with one line of code using cross_val_score\r\n",
    "for train_index, val_index in k_fold.split(X, y):                      # Splitting dataset into 10 fold \r\n",
    "    X_train, X_val = X.iloc[train_index], X.iloc[val_index]\r\n",
    "    y_train, y_val = y.iloc[train_index] , y.iloc[val_index]\r\n",
    "\r\n",
    "    clf_lin_1000.fit(X_train, y_train)\r\n",
    "    scores_lin_1000.append(clf_lin_1000.score(X_val, y_val))\r\n",
    "\r\n",
    "broadcast_message(['1766671538'], 'Training is done!')\r\n",
    "print('Linear accuracy score: ', sum(scores_lin_1000) / len(scores_lin_1000)) "
   ],
   "outputs": [
    {
     "output_type": "stream",
     "name": "stdout",
     "text": [
      "{\"ok\":true,\"result\":{\"message_id\":87,\"from\":{\"id\":1917311024,\"is_bot\":true,\"first_name\":\"FallAlert\",\"username\":\"FallAlertPythonBot\"},\"chat\":{\"id\":1766671538,\"first_name\":\"Teddy\",\"last_name\":\"Ordo\\u00f1ez\",\"username\":\"teddsords\",\"type\":\"private\"},\"date\":1634140637,\"text\":\"Training is done!\"}}\n",
      "Linear accuracy score:  0.950543221539915\n"
     ]
    }
   ],
   "metadata": {}
  },
  {
   "cell_type": "code",
   "execution_count": 26,
   "source": [
    "y_predicted_1000 = clf_lin_1000.predict(X_test)       # 0.95      randomstate=17 0.9567 accuracy\r\n",
    "print('Accuracy: ', accuracy_score(y_test, y_predicted_1000))"
   ],
   "outputs": [
    {
     "output_type": "stream",
     "name": "stdout",
     "text": [
      "Accuracy:  0.9382716049382716\n"
     ]
    }
   ],
   "metadata": {}
  },
  {
   "cell_type": "markdown",
   "source": [
    "#### Saving model to disk\r\n",
    "\r\n",
    "Saving the model to disk so it can be loaded afterwards."
   ],
   "metadata": {}
  },
  {
   "cell_type": "code",
   "execution_count": 28,
   "source": [
    "filename = 'SVM_linear_1000.sav'\r\n",
    "pickle.dump(clf_lin_1000, open(filename, 'wb'))"
   ],
   "outputs": [],
   "metadata": {}
  },
  {
   "cell_type": "code",
   "execution_count": 40,
   "source": [
    "con_mat = confusion_matrix(y_true=y_test, y_pred=y_predicted)\r\n",
    "disp = ConfusionMatrixDisplay(confusion_matrix=con_mat)\r\n",
    "disp.plot(cmap='Blues')\r\n",
    "plt.show()"
   ],
   "outputs": [
    {
     "output_type": "display_data",
     "data": {
      "image/png": "[encoded data removed]",
      "text/plain": [
       "<Figure size 432x288 with 2 Axes>"
      ]
     },
     "metadata": {
      "needs_background": "light"
     }
    }
   ],
   "metadata": {}
  }
 ],
 "metadata": {
  "orig_nbformat": 4,
  "language_info": {
   "name": "python",
   "version": "3.9.6",
   "mimetype": "text/x-python",
   "codemirror_mode": {
    "name": "ipython",
    "version": 3
   },
   "pygments_lexer": "ipython3",
   "nbconvert_exporter": "python",
   "file_extension": ".py"
  },
  "kernelspec": {
   "name": "python3",
   "display_name": "Python 3.9.6 64-bit"
  },
  "interpreter": {
   "hash": "7b08c00451631029192a61105a26c4bc34ef44237ce27acf2476858d0266e2f1"
  }
 },
 "nbformat": 4,
 "nbformat_minor": 2
}