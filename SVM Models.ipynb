{
 "cells": [
  {
   "cell_type": "markdown",
   "metadata": {},
   "source": [
    "# Support Vector Machines for Fall detection\n",
    "\n",
    "In this Python notebook I create different SVM models for detecting falls using 3 sensors (accelerometer, gyroscope and magnetometer). This work uses FallAllD dataset, which was created by Saleh *et al*., (2021). The model will use all three axis of all three sensors. The dataset had to be modied for having a column for fall, in which 1 represents a fall, otherwise is an ADL. For comparison, another dataset has been created, which uses a second output column. This column, ADL, will have the opposite value of Fall. \n",
    "\n",
    "A third and fourth dataset was created in which basic statistical features are being used. Those features are: Mean, Standard Deviation and Range. These features were extracted for each of the axis of each sensor. A fifth and sixth dataset was created using the same features, altough just considering accelerometer data, just like Saleh *et al*., (2021) did in their work."
   ]
  },
  {
   "cell_type": "markdown",
   "metadata": {},
   "source": [
    "### Importing libraries\n",
    "\n",
    "This libraries will help throughout the code"
   ]
  },
  {
   "cell_type": "code",
   "execution_count": 2,
   "metadata": {},
   "outputs": [],
   "source": [
    "import pandas as pd\n",
    "from sklearn.model_selection import StratifiedKFold, train_test_split, GridSearchCV\n",
    "from sklearn.metrics import accuracy_score, confusion_matrix, ConfusionMatrixDisplay\n",
    "from sklearn.svm import SVC\n",
    "import matplotlib.pyplot as plt\n",
    "import requests\n",
    "import time\n",
    "import pickle\n",
    "from random import seed, randint"
   ]
  },
  {
   "cell_type": "markdown",
   "metadata": {},
   "source": [
    "### Notification System\n",
    "\n",
    "This function will be used to send a Telegram message when training is done."
   ]
  },
  {
   "cell_type": "code",
   "execution_count": 3,
   "metadata": {},
   "outputs": [],
   "source": [
    "f = open(\"Notification system/Telegram Token.txt\")\n",
    "token = f.read()\n",
    "\n",
    "def broadcast_message(chat, message):\n",
    "    for chat_to_send in chat:\n",
    "        URL = 'https://api.telegram.org/bot{}/sendMessage?chat_id={}&text={}'.format(token, chat_to_send, message)\n",
    "        resp = requests.get(URL)\n",
    "        print(resp.text)"
   ]
  },
  {
   "cell_type": "markdown",
   "metadata": {},
   "source": [
    "#### Test notification system\n",
    "\n",
    "Please follow  the steps in the paper and add your chat id here to test the notification system and receive a message  in your Telegram app."
   ]
  },
  {
   "cell_type": "code",
   "execution_count": null,
   "metadata": {},
   "outputs": [],
   "source": [
    "chat_id = input('What is your Telegram ID given by the bot?\\n')\n",
    "\n",
    "id_to_send = []\n",
    "id_to_send.append(chat_id)\n",
    "\n",
    "message = \"This is a test! Notification system is working properly.\"\n",
    "\n",
    "broadcast_message(id_to_send, message)"
   ]
  },
  {
   "cell_type": "markdown",
   "metadata": {},
   "source": [
    "## Creating first SVM model\n",
    "\n",
    "Choosing the best SVM kernel. The kernel can be Linear, Polynomial, Radial Basis Function and Sigmoid. For this paper we will be working with linear kernel.\n"
   ]
  },
  {
   "cell_type": "markdown",
   "metadata": {},
   "source": [
    "#### Reading frist dataframe\n",
    "\n",
    "This is the dataframe containing one output column with raw data from all 3 sensors."
   ]
  },
  {
   "cell_type": "code",
   "execution_count": 4,
   "metadata": {},
   "outputs": [
    {
     "name": "stdout",
     "output_type": "stream",
     "text": [
      "<class 'pandas.core.frame.DataFrame'>\n",
      "RangeIndex: 1798 entries, 0 to 1797\n",
      "Data columns (total 35 columns):\n",
      " #   Column      Non-Null Count  Dtype  \n",
      "---  ------      --------------  -----  \n",
      " 0   SubjectID   1798 non-null   int8   \n",
      " 1   Device      1798 non-null   object \n",
      " 2   ActivityID  1798 non-null   int16  \n",
      " 3   TrialNo     1798 non-null   int8   \n",
      " 4   Acc         1798 non-null   object \n",
      " 5   Gyr         1798 non-null   object \n",
      " 6   Mag         1798 non-null   object \n",
      " 7   Mean Acc X  1798 non-null   float64\n",
      " 8   Mean Acc Y  1798 non-null   float64\n",
      " 9   Mean Acc Z  1798 non-null   float64\n",
      " 10  Std Acc X   1798 non-null   float64\n",
      " 11  Std Acc Y   1798 non-null   float64\n",
      " 12  Std Acc Z   1798 non-null   float64\n",
      " 13  Rng Acc X   1798 non-null   float64\n",
      " 14  Rng Acc Y   1798 non-null   float64\n",
      " 15  Rng Acc Z   1798 non-null   float64\n",
      " 16  Mean Gyr X  1798 non-null   float64\n",
      " 17  Mean Gyr Y  1798 non-null   float64\n",
      " 18  Mean Gyr Z  1798 non-null   float64\n",
      " 19  Std Gyr X   1798 non-null   float64\n",
      " 20  Std Gyr Y   1798 non-null   float64\n",
      " 21  Std Gyr Z   1798 non-null   float64\n",
      " 22  Rng Gyr X   1798 non-null   float64\n",
      " 23  Rng Gyr Y   1798 non-null   float64\n",
      " 24  Rng Gyr Z   1798 non-null   float64\n",
      " 25  Mean Mag X  1798 non-null   float64\n",
      " 26  Mean Mag Y  1798 non-null   float64\n",
      " 27  Mean Mag Z  1798 non-null   float64\n",
      " 28  Std Mag X   1798 non-null   float64\n",
      " 29  Std Mag Y   1798 non-null   float64\n",
      " 30  Std Mag Z   1798 non-null   float64\n",
      " 31  Rng Mag X   1798 non-null   float64\n",
      " 32  Rng Mag Y   1798 non-null   float64\n",
      " 33  Rng Mag Z   1798 non-null   float64\n",
      " 34  Fall        1798 non-null   int64  \n",
      "dtypes: float64(27), int16(1), int64(1), int8(2), object(4)\n",
      "memory usage: 456.6+ KB\n"
     ]
    }
   ],
   "source": [
    "df = pd.read_pickle('Dataframes/Dataframe3.pkl')\n",
    "df.info()"
   ]
  },
  {
   "cell_type": "code",
   "execution_count": 5,
   "metadata": {},
   "outputs": [
    {
     "name": "stdout",
     "output_type": "stream",
     "text": [
      "<class 'pandas.core.frame.DataFrame'>\n",
      "RangeIndex: 1798 entries, 0 to 1797\n",
      "Data columns (total 27 columns):\n",
      " #   Column      Non-Null Count  Dtype  \n",
      "---  ------      --------------  -----  \n",
      " 0   Mean Acc X  1798 non-null   float64\n",
      " 1   Mean Acc Y  1798 non-null   float64\n",
      " 2   Mean Acc Z  1798 non-null   float64\n",
      " 3   Std Acc X   1798 non-null   float64\n",
      " 4   Std Acc Y   1798 non-null   float64\n",
      " 5   Std Acc Z   1798 non-null   float64\n",
      " 6   Rng Acc X   1798 non-null   float64\n",
      " 7   Rng Acc Y   1798 non-null   float64\n",
      " 8   Rng Acc Z   1798 non-null   float64\n",
      " 9   Mean Gyr X  1798 non-null   float64\n",
      " 10  Mean Gyr Y  1798 non-null   float64\n",
      " 11  Mean Gyr Z  1798 non-null   float64\n",
      " 12  Std Gyr X   1798 non-null   float64\n",
      " 13  Std Gyr Y   1798 non-null   float64\n",
      " 14  Std Gyr Z   1798 non-null   float64\n",
      " 15  Rng Gyr X   1798 non-null   float64\n",
      " 16  Rng Gyr Y   1798 non-null   float64\n",
      " 17  Rng Gyr Z   1798 non-null   float64\n",
      " 18  Mean Mag X  1798 non-null   float64\n",
      " 19  Mean Mag Y  1798 non-null   float64\n",
      " 20  Mean Mag Z  1798 non-null   float64\n",
      " 21  Std Mag X   1798 non-null   float64\n",
      " 22  Std Mag Y   1798 non-null   float64\n",
      " 23  Std Mag Z   1798 non-null   float64\n",
      " 24  Rng Mag X   1798 non-null   float64\n",
      " 25  Rng Mag Y   1798 non-null   float64\n",
      " 26  Rng Mag Z   1798 non-null   float64\n",
      "dtypes: float64(27)\n",
      "memory usage: 379.4 KB\n"
     ]
    }
   ],
   "source": [
    "X = df.iloc[:, 7:34]       # Defining X as Acce, Gyro and Mag data\n",
    "X.info()                   # Printing X's info"
   ]
  },
  {
   "cell_type": "code",
   "execution_count": 6,
   "metadata": {},
   "outputs": [
    {
     "data": {
      "text/plain": [
       "1793    1\n",
       "1794    1\n",
       "1795    1\n",
       "1796    1\n",
       "1797    1\n",
       "Name: Fall, dtype: int64"
      ]
     },
     "execution_count": 6,
     "metadata": {},
     "output_type": "execute_result"
    }
   ],
   "source": [
    "y = df['Fall']          # Defining y as Fall column, this means setting y to our output.\n",
    "y.tail()                # y is a Series object"
   ]
  },
  {
   "cell_type": "markdown",
   "metadata": {},
   "source": [
    "#### Using GridSearchCV\n",
    "\n",
    "By using the function GridSearchCV we can train an validate different SVM models with different **C** values for obtaining the best model with the best accuracy.\n"
   ]
  },
  {
   "cell_type": "code",
   "execution_count": 7,
   "metadata": {},
   "outputs": [
    {
     "name": "stdout",
     "output_type": "stream",
     "text": [
      "Fitting 5 folds for each of 24 candidates, totalling 120 fits\n",
      "{'C': 1, 'kernel': 'linear'}\n",
      "    mean_fit_time  std_fit_time  mean_score_time  std_score_time param_C  \\\n",
      "0        1.052597      0.233656         0.044468        0.043068   0.001   \n",
      "1        0.299796      0.033051         0.065625        0.025655   0.001   \n",
      "2        0.325126      0.031548         0.187099        0.026705   0.001   \n",
      "3        4.489988      1.140911         0.024733        0.018155    0.01   \n",
      "4        0.248530      0.024639         0.052859        0.016364    0.01   \n",
      "5        0.246738      0.025760         0.163562        0.016376    0.01   \n",
      "6       45.275587     11.385796         0.030120        0.026155     0.1   \n",
      "7        0.243147      0.032743         0.048271        0.014679     0.1   \n",
      "8        0.189590      0.016888         0.118682        0.017343     0.1   \n",
      "9      240.399732     74.145864         0.024335        0.021919       1   \n",
      "10       0.388360      0.086837         0.032514        0.018309       1   \n",
      "11       0.161370      0.007008         0.083574        0.012190       1   \n",
      "12     736.141810    163.821671         0.006183        0.001466      10   \n",
      "13       0.749952      0.175562         0.024736        0.008544      10   \n",
      "14       0.155584      0.027443         0.078987        0.015158      10   \n",
      "15     676.652838    296.100681         0.006587        0.001354      50   \n",
      "16       1.362408      0.419420         0.016356        0.000798      50   \n",
      "17       0.105122      0.006697         0.044885        0.006494      50   \n",
      "18    1251.137632    517.736932         0.006684        0.001397     100   \n",
      "19       1.885561      0.554902         0.014960        0.000893     100   \n",
      "20       0.123474      0.021464         0.040292        0.001621     100   \n",
      "21    1058.493528    225.666050         0.010384        0.009200    1000   \n",
      "22      13.349889      4.236061         0.012099        0.001980    1000   \n",
      "23       0.480862      0.026770         0.054368        0.009027    1000   \n",
      "\n",
      "   param_kernel                            params  split0_test_score  \\\n",
      "0        linear  {'C': 0.001, 'kernel': 'linear'}           0.911111   \n",
      "1          poly    {'C': 0.001, 'kernel': 'poly'}           0.761111   \n",
      "2           rbf     {'C': 0.001, 'kernel': 'rbf'}           0.741667   \n",
      "3        linear   {'C': 0.01, 'kernel': 'linear'}           0.941667   \n",
      "4          poly     {'C': 0.01, 'kernel': 'poly'}           0.766667   \n",
      "5           rbf      {'C': 0.01, 'kernel': 'rbf'}           0.750000   \n",
      "6        linear    {'C': 0.1, 'kernel': 'linear'}           0.958333   \n",
      "7          poly      {'C': 0.1, 'kernel': 'poly'}           0.783333   \n",
      "8           rbf       {'C': 0.1, 'kernel': 'rbf'}           0.844444   \n",
      "9        linear      {'C': 1, 'kernel': 'linear'}           0.961111   \n",
      "10         poly        {'C': 1, 'kernel': 'poly'}           0.788889   \n",
      "11          rbf         {'C': 1, 'kernel': 'rbf'}           0.883333   \n",
      "12       linear     {'C': 10, 'kernel': 'linear'}           0.955556   \n",
      "13         poly       {'C': 10, 'kernel': 'poly'}           0.822222   \n",
      "14          rbf        {'C': 10, 'kernel': 'rbf'}           0.894444   \n",
      "15       linear     {'C': 50, 'kernel': 'linear'}           0.958333   \n",
      "16         poly       {'C': 50, 'kernel': 'poly'}           0.855556   \n",
      "17          rbf        {'C': 50, 'kernel': 'rbf'}           0.886111   \n",
      "18       linear    {'C': 100, 'kernel': 'linear'}           0.955556   \n",
      "19         poly      {'C': 100, 'kernel': 'poly'}           0.866667   \n",
      "20          rbf       {'C': 100, 'kernel': 'rbf'}           0.888889   \n",
      "21       linear   {'C': 1000, 'kernel': 'linear'}           0.950000   \n",
      "22         poly     {'C': 1000, 'kernel': 'poly'}           0.908333   \n",
      "23          rbf      {'C': 1000, 'kernel': 'rbf'}           0.916667   \n",
      "\n",
      "    split1_test_score  split2_test_score  split3_test_score  \\\n",
      "0            0.880556           0.900000           0.941504   \n",
      "1            0.766667           0.750000           0.752089   \n",
      "2            0.741667           0.738889           0.740947   \n",
      "3            0.900000           0.897222           0.927577   \n",
      "4            0.788889           0.750000           0.752089   \n",
      "5            0.761111           0.758333           0.740947   \n",
      "6            0.908333           0.900000           0.935933   \n",
      "7            0.827778           0.758333           0.782730   \n",
      "8            0.841667           0.797222           0.877437   \n",
      "9            0.927778           0.891667           0.944290   \n",
      "10           0.847222           0.761111           0.799443   \n",
      "11           0.883333           0.861111           0.913649   \n",
      "12           0.916667           0.894444           0.933148   \n",
      "13           0.838889           0.775000           0.866295   \n",
      "14           0.891667           0.880556           0.913649   \n",
      "15           0.913889           0.891667           0.941504   \n",
      "16           0.847222           0.800000           0.913649   \n",
      "17           0.886111           0.883333           0.919220   \n",
      "18           0.908333           0.886111           0.930362   \n",
      "19           0.861111           0.811111           0.916435   \n",
      "20           0.888889           0.897222           0.919220   \n",
      "21           0.919444           0.880556           0.938719   \n",
      "22           0.891667           0.897222           0.924791   \n",
      "23           0.919444           0.916667           0.896936   \n",
      "\n",
      "    split4_test_score  mean_test_score  std_test_score  rank_test_score  \n",
      "0            0.902507         0.907136        0.019879               10  \n",
      "1            0.754875         0.756948        0.006131               22  \n",
      "2            0.740947         0.740823        0.001019               24  \n",
      "3            0.941504         0.921594        0.019470                7  \n",
      "4            0.760446         0.763618        0.013974               21  \n",
      "5            0.757660         0.753610        0.007326               23  \n",
      "6            0.941504         0.928821        0.021600                5  \n",
      "7            0.774373         0.785310        0.023071               20  \n",
      "8            0.799443         0.832043        0.030273               17  \n",
      "9            0.958217         0.936613        0.025393                1  \n",
      "10           0.793872         0.798107        0.027877               19  \n",
      "11           0.818942         0.872074        0.031386               14  \n",
      "12           0.966574         0.933278        0.026034                3  \n",
      "13           0.813370         0.823155        0.030080               18  \n",
      "14           0.852368         0.886537        0.020136               12  \n",
      "15           0.966574         0.934393        0.027947                2  \n",
      "16           0.869081         0.857102        0.036611               16  \n",
      "17           0.852368         0.885429        0.021167               13  \n",
      "18           0.961003         0.928273        0.028267                6  \n",
      "19           0.883008         0.867666        0.034223               15  \n",
      "20           0.860724         0.890989        0.018765               11  \n",
      "21           0.966574         0.931058        0.029544                4  \n",
      "22           0.927577         0.909918        0.014352                8  \n",
      "23           0.896936         0.909330        0.010170                9  \n",
      "{\"ok\":true,\"result\":{\"message_id\":107,\"from\":{\"id\":1917311024,\"is_bot\":true,\"first_name\":\"FallAlert\",\"username\":\"FallAlertPythonBot\"},\"chat\":{\"id\":1766671538,\"first_name\":\"Teddy\",\"last_name\":\"Ordo\\u00f1ez\",\"username\":\"teddsords\",\"type\":\"private\"},\"date\":1635373333,\"text\":\"GridSearchCV is done!\"}}\n"
     ]
    }
   ],
   "source": [
    "params = {'C': (0.001, 0.01, 0.1, 1, 10, 50, 100, 1000),\n",
    "         'kernel': ('linear', 'poly', 'rbf')}\n",
    "\n",
    "clf_grid = GridSearchCV(SVC(), params, cv=5, n_jobs=-1, verbose=1, scoring='accuracy')\n",
    "\n",
    "clf_grid.fit(X,y)\n",
    "print(clf_grid.best_params_)\n",
    "df_grid_results = pd.DataFrame(clf_grid.cv_results_)\n",
    "print(df_grid_results)\n",
    "broadcast_message(['1766671538'], 'GridSearchCV is done!')"
   ]
  },
  {
   "cell_type": "code",
   "execution_count": 16,
   "metadata": {},
   "outputs": [
    {
     "data": {
      "text/html": [
       "<div>\n",
       "<style scoped>\n",
       "    .dataframe tbody tr th:only-of-type {\n",
       "        vertical-align: middle;\n",
       "    }\n",
       "\n",
       "    .dataframe tbody tr th {\n",
       "        vertical-align: top;\n",
       "    }\n",
       "\n",
       "    .dataframe thead th {\n",
       "        text-align: right;\n",
       "    }\n",
       "</style>\n",
       "<table border=\"1\" class=\"dataframe\">\n",
       "  <thead>\n",
       "    <tr style=\"text-align: right;\">\n",
       "      <th></th>\n",
       "      <th>params</th>\n",
       "      <th>mean_test_score</th>\n",
       "      <th>rank_test_score</th>\n",
       "    </tr>\n",
       "  </thead>\n",
       "  <tbody>\n",
       "    <tr>\n",
       "      <th>0</th>\n",
       "      <td>{'C': 0.001, 'kernel': 'linear'}</td>\n",
       "      <td>0.907136</td>\n",
       "      <td>10</td>\n",
       "    </tr>\n",
       "    <tr>\n",
       "      <th>1</th>\n",
       "      <td>{'C': 0.001, 'kernel': 'poly'}</td>\n",
       "      <td>0.756948</td>\n",
       "      <td>22</td>\n",
       "    </tr>\n",
       "    <tr>\n",
       "      <th>2</th>\n",
       "      <td>{'C': 0.001, 'kernel': 'rbf'}</td>\n",
       "      <td>0.740823</td>\n",
       "      <td>24</td>\n",
       "    </tr>\n",
       "    <tr>\n",
       "      <th>3</th>\n",
       "      <td>{'C': 0.01, 'kernel': 'linear'}</td>\n",
       "      <td>0.921594</td>\n",
       "      <td>7</td>\n",
       "    </tr>\n",
       "    <tr>\n",
       "      <th>4</th>\n",
       "      <td>{'C': 0.01, 'kernel': 'poly'}</td>\n",
       "      <td>0.763618</td>\n",
       "      <td>21</td>\n",
       "    </tr>\n",
       "    <tr>\n",
       "      <th>5</th>\n",
       "      <td>{'C': 0.01, 'kernel': 'rbf'}</td>\n",
       "      <td>0.753610</td>\n",
       "      <td>23</td>\n",
       "    </tr>\n",
       "    <tr>\n",
       "      <th>6</th>\n",
       "      <td>{'C': 0.1, 'kernel': 'linear'}</td>\n",
       "      <td>0.928821</td>\n",
       "      <td>5</td>\n",
       "    </tr>\n",
       "    <tr>\n",
       "      <th>7</th>\n",
       "      <td>{'C': 0.1, 'kernel': 'poly'}</td>\n",
       "      <td>0.785310</td>\n",
       "      <td>20</td>\n",
       "    </tr>\n",
       "    <tr>\n",
       "      <th>8</th>\n",
       "      <td>{'C': 0.1, 'kernel': 'rbf'}</td>\n",
       "      <td>0.832043</td>\n",
       "      <td>17</td>\n",
       "    </tr>\n",
       "    <tr>\n",
       "      <th>9</th>\n",
       "      <td>{'C': 1, 'kernel': 'linear'}</td>\n",
       "      <td>0.936613</td>\n",
       "      <td>1</td>\n",
       "    </tr>\n",
       "    <tr>\n",
       "      <th>10</th>\n",
       "      <td>{'C': 1, 'kernel': 'poly'}</td>\n",
       "      <td>0.798107</td>\n",
       "      <td>19</td>\n",
       "    </tr>\n",
       "    <tr>\n",
       "      <th>11</th>\n",
       "      <td>{'C': 1, 'kernel': 'rbf'}</td>\n",
       "      <td>0.872074</td>\n",
       "      <td>14</td>\n",
       "    </tr>\n",
       "    <tr>\n",
       "      <th>12</th>\n",
       "      <td>{'C': 10, 'kernel': 'linear'}</td>\n",
       "      <td>0.933278</td>\n",
       "      <td>3</td>\n",
       "    </tr>\n",
       "    <tr>\n",
       "      <th>13</th>\n",
       "      <td>{'C': 10, 'kernel': 'poly'}</td>\n",
       "      <td>0.823155</td>\n",
       "      <td>18</td>\n",
       "    </tr>\n",
       "    <tr>\n",
       "      <th>14</th>\n",
       "      <td>{'C': 10, 'kernel': 'rbf'}</td>\n",
       "      <td>0.886537</td>\n",
       "      <td>12</td>\n",
       "    </tr>\n",
       "    <tr>\n",
       "      <th>15</th>\n",
       "      <td>{'C': 50, 'kernel': 'linear'}</td>\n",
       "      <td>0.934393</td>\n",
       "      <td>2</td>\n",
       "    </tr>\n",
       "    <tr>\n",
       "      <th>16</th>\n",
       "      <td>{'C': 50, 'kernel': 'poly'}</td>\n",
       "      <td>0.857102</td>\n",
       "      <td>16</td>\n",
       "    </tr>\n",
       "    <tr>\n",
       "      <th>17</th>\n",
       "      <td>{'C': 50, 'kernel': 'rbf'}</td>\n",
       "      <td>0.885429</td>\n",
       "      <td>13</td>\n",
       "    </tr>\n",
       "    <tr>\n",
       "      <th>18</th>\n",
       "      <td>{'C': 100, 'kernel': 'linear'}</td>\n",
       "      <td>0.928273</td>\n",
       "      <td>6</td>\n",
       "    </tr>\n",
       "    <tr>\n",
       "      <th>19</th>\n",
       "      <td>{'C': 100, 'kernel': 'poly'}</td>\n",
       "      <td>0.867666</td>\n",
       "      <td>15</td>\n",
       "    </tr>\n",
       "    <tr>\n",
       "      <th>20</th>\n",
       "      <td>{'C': 100, 'kernel': 'rbf'}</td>\n",
       "      <td>0.890989</td>\n",
       "      <td>11</td>\n",
       "    </tr>\n",
       "    <tr>\n",
       "      <th>21</th>\n",
       "      <td>{'C': 1000, 'kernel': 'linear'}</td>\n",
       "      <td>0.931058</td>\n",
       "      <td>4</td>\n",
       "    </tr>\n",
       "    <tr>\n",
       "      <th>22</th>\n",
       "      <td>{'C': 1000, 'kernel': 'poly'}</td>\n",
       "      <td>0.909918</td>\n",
       "      <td>8</td>\n",
       "    </tr>\n",
       "    <tr>\n",
       "      <th>23</th>\n",
       "      <td>{'C': 1000, 'kernel': 'rbf'}</td>\n",
       "      <td>0.909330</td>\n",
       "      <td>9</td>\n",
       "    </tr>\n",
       "  </tbody>\n",
       "</table>\n",
       "</div>"
      ],
      "text/plain": [
       "                              params  mean_test_score  rank_test_score\n",
       "0   {'C': 0.001, 'kernel': 'linear'}         0.907136               10\n",
       "1     {'C': 0.001, 'kernel': 'poly'}         0.756948               22\n",
       "2      {'C': 0.001, 'kernel': 'rbf'}         0.740823               24\n",
       "3    {'C': 0.01, 'kernel': 'linear'}         0.921594                7\n",
       "4      {'C': 0.01, 'kernel': 'poly'}         0.763618               21\n",
       "5       {'C': 0.01, 'kernel': 'rbf'}         0.753610               23\n",
       "6     {'C': 0.1, 'kernel': 'linear'}         0.928821                5\n",
       "7       {'C': 0.1, 'kernel': 'poly'}         0.785310               20\n",
       "8        {'C': 0.1, 'kernel': 'rbf'}         0.832043               17\n",
       "9       {'C': 1, 'kernel': 'linear'}         0.936613                1\n",
       "10        {'C': 1, 'kernel': 'poly'}         0.798107               19\n",
       "11         {'C': 1, 'kernel': 'rbf'}         0.872074               14\n",
       "12     {'C': 10, 'kernel': 'linear'}         0.933278                3\n",
       "13       {'C': 10, 'kernel': 'poly'}         0.823155               18\n",
       "14        {'C': 10, 'kernel': 'rbf'}         0.886537               12\n",
       "15     {'C': 50, 'kernel': 'linear'}         0.934393                2\n",
       "16       {'C': 50, 'kernel': 'poly'}         0.857102               16\n",
       "17        {'C': 50, 'kernel': 'rbf'}         0.885429               13\n",
       "18    {'C': 100, 'kernel': 'linear'}         0.928273                6\n",
       "19      {'C': 100, 'kernel': 'poly'}         0.867666               15\n",
       "20       {'C': 100, 'kernel': 'rbf'}         0.890989               11\n",
       "21   {'C': 1000, 'kernel': 'linear'}         0.931058                4\n",
       "22     {'C': 1000, 'kernel': 'poly'}         0.909918                8\n",
       "23      {'C': 1000, 'kernel': 'rbf'}         0.909330                9"
      ]
     },
     "execution_count": 16,
     "metadata": {},
     "output_type": "execute_result"
    }
   ],
   "source": [
    "df_grid_results[['params', 'mean_test_score', 'rank_test_score']]"
   ]
  },
  {
   "cell_type": "markdown",
   "metadata": {},
   "source": [
    "#### Creating variable with SVM model"
   ]
  },
  {
   "cell_type": "code",
   "execution_count": 3,
   "metadata": {},
   "outputs": [],
   "source": [
    "clf = SVC(kernel='linear')          # Parameter tuning is needed to get better results"
   ]
  },
  {
   "cell_type": "markdown",
   "metadata": {},
   "source": [
    "#### Using tain test split\n",
    "\n",
    "This function will help us to create a separate pandas DataFrame for testing the end result. So we are separating 10% of the data into a test set. With this we will be using the other 90% for training and validating our models."
   ]
  },
  {
   "cell_type": "code",
   "execution_count": 7,
   "metadata": {},
   "outputs": [
    {
     "data": {
      "text/plain": [
       "((1618, 27), (180, 27))"
      ]
     },
     "execution_count": 7,
     "metadata": {},
     "output_type": "execute_result"
    }
   ],
   "source": [
    "X_rem, X_test, y_rem, y_test = train_test_split(X, y, test_size=0.1, train_size=0.9, random_state=10, stratify=y)\n",
    "X_rem.shape, X_test.shape"
   ]
  },
  {
   "cell_type": "markdown",
   "metadata": {},
   "source": [
    "#### Using StratifiedKFold\n",
    "\n",
    "Since we are using a K-Fold Cross Validation approach, we have to use KFold to create our folds for training and testing. In this case we will be using k = 10, where 9 sets will be used for training and 1 for validating. So this way every set gets a chance to be validated. \n",
    "\n",
    "By using StratifiedKFold we make sure that the output class is evenly distribuited through each fold. So this means that they are smaller chances of having only Falls in on set."
   ]
  },
  {
   "cell_type": "code",
   "execution_count": 10,
   "metadata": {},
   "outputs": [
    {
     "name": "stdout",
     "output_type": "stream",
     "text": [
      "{\"ok\":true,\"result\":{\"message_id\":90,\"from\":{\"id\":1917311024,\"is_bot\":true,\"first_name\":\"FallAlert\",\"username\":\"FallAlertPythonBot\"},\"chat\":{\"id\":1766671538,\"first_name\":\"Teddy\",\"last_name\":\"Ordo\\u00f1ez\",\"username\":\"teddsords\",\"type\":\"private\"},\"date\":1634148481,\"text\":\"Training is done!\"}}\n",
      "Linear accuracy score:  94.68522352580322\n"
     ]
    }
   ],
   "source": [
    "scores_linear_1 = []\n",
    "\n",
    "k_fold = StratifiedKFold(n_splits=10,shuffle=True, random_state=42)      # Creating a Stratifiedd K fold object\n",
    "# This loop can be done with one line of code using cross_val_score\n",
    "for train_index, val_index in k_fold.split(X_rem, y_rem):                      # Splitting dataset into 10 fold \n",
    "    X_train, X_val = X_rem.iloc[train_index], X_rem.iloc[val_index]\n",
    "    y_train, y_val = y_rem.iloc[train_index] , y_rem.iloc[val_index]\n",
    "\n",
    "    clf.fit(X_train, y_train)\n",
    "    scores_linear_1.append(clf.score(X_val, y_val))\n",
    "\n",
    "broadcast_message(['1766671538'], 'Training is done!')\n",
    "print('Linear accuracy score: ', (sum(scores_linear_1) / len(scores_linear_1)*100))         # 0.9486 accuracy   Randomstate=17 0.9498 accuracy"
   ]
  },
  {
   "cell_type": "code",
   "execution_count": 150,
   "metadata": {},
   "outputs": [
    {
     "name": "stdout",
     "output_type": "stream",
     "text": [
      "Accuracy:  93.86503067484662\n"
     ]
    }
   ],
   "source": [
    "y_predicted_1 = clf.predict(X_test)      \n",
    "print('Accuracy: ', (accuracy_score(y_test, y_predicted_1))*100)"
   ]
  },
  {
   "cell_type": "markdown",
   "metadata": {},
   "source": [
    "#### Saving Model to disk"
   ]
  },
  {
   "cell_type": "code",
   "execution_count": 12,
   "metadata": {},
   "outputs": [],
   "source": [
    "filename = 'SVM_linear_1.sav'\n",
    "pickle.dump(clf, open(filename, 'wb'))"
   ]
  },
  {
   "cell_type": "markdown",
   "metadata": {},
   "source": [
    "#### Using notification system\n",
    "\n",
    "With the for loop, we can iterate between each predicted value and send an alert when predicted a fall with the message: \"**Fall Detected**\", when a fall was not detected, \"**Not a Fall**\" will be sent."
   ]
  },
  {
   "cell_type": "code",
   "execution_count": 53,
   "metadata": {},
   "outputs": [
    {
     "name": "stdout",
     "output_type": "stream",
     "text": [
      "{\"ok\":true,\"result\":{\"message_id\":78,\"from\":{\"id\":1917311024,\"is_bot\":true,\"first_name\":\"FallAlert\",\"username\":\"FallAlertPythonBot\"},\"chat\":{\"id\":1766671538,\"first_name\":\"Teddy\",\"last_name\":\"Ordo\\u00f1ez\",\"username\":\"teddsords\",\"type\":\"private\"},\"date\":1634133587,\"text\":\"Not a Fall!\"}}\n",
      "{\"ok\":true,\"result\":{\"message_id\":79,\"from\":{\"id\":1917311024,\"is_bot\":true,\"first_name\":\"FallAlert\",\"username\":\"FallAlertPythonBot\"},\"chat\":{\"id\":1766671538,\"first_name\":\"Teddy\",\"last_name\":\"Ordo\\u00f1ez\",\"username\":\"teddsords\",\"type\":\"private\"},\"date\":1634133618,\"text\":\"Fall detected!\"}}\n",
      "{\"ok\":true,\"result\":{\"message_id\":80,\"from\":{\"id\":1917311024,\"is_bot\":true,\"first_name\":\"FallAlert\",\"username\":\"FallAlertPythonBot\"},\"chat\":{\"id\":1766671538,\"first_name\":\"Teddy\",\"last_name\":\"Ordo\\u00f1ez\",\"username\":\"teddsords\",\"type\":\"private\"},\"date\":1634133649,\"text\":\"Not a Fall!\"}}\n",
      "{\"ok\":true,\"result\":{\"message_id\":81,\"from\":{\"id\":1917311024,\"is_bot\":true,\"first_name\":\"FallAlert\",\"username\":\"FallAlertPythonBot\"},\"chat\":{\"id\":1766671538,\"first_name\":\"Teddy\",\"last_name\":\"Ordo\\u00f1ez\",\"username\":\"teddsords\",\"type\":\"private\"},\"date\":1634133680,\"text\":\"Not a Fall!\"}}\n"
     ]
    }
   ],
   "source": [
    "for i in range(len(y_predicted_1)):\n",
    "    \n",
    "    if y_predicted_1[i] == 1:\n",
    "        broadcast_message(['1766671538'], 'Fall detected!')\n",
    "\n",
    "    else:\n",
    "        broadcast_message(['1766671538'], 'Not a Fall!')\n",
    "    \n",
    "    time.sleep(30)"
   ]
  },
  {
   "cell_type": "markdown",
   "metadata": {},
   "source": [
    "#### Plotting Confusion Matrix\n",
    "\n",
    "Plotting confusion matrix for better visualization of true positves and false negatives"
   ]
  },
  {
   "cell_type": "code",
   "execution_count": 151,
   "metadata": {},
   "outputs": [
    {
     "data": {
      "image/png": "[encoded data removed]",
      "text/plain": [
       "<Figure size 432x288 with 2 Axes>"
      ]
     },
     "metadata": {
      "needs_background": "light"
     },
     "output_type": "display_data"
    }
   ],
   "source": [
    "con_mat = confusion_matrix(y_true=y_test, y_pred=y_predicted_1)\n",
    "disp = ConfusionMatrixDisplay(confusion_matrix=con_mat)\n",
    "disp.plot(cmap='Blues')\n",
    "plt.title('Confusion Matrix for SVM model with C = 1')\n",
    "plt.show()"
   ]
  },
  {
   "cell_type": "code",
   "execution_count": 16,
   "metadata": {},
   "outputs": [],
   "source": [
    "params = {'C': (0.001, 0.005, 0.01, 0.05, 0.1, 0.5, 1, 5, 10, 50, 100, 500, 1000)}"
   ]
  },
  {
   "cell_type": "markdown",
   "metadata": {},
   "source": [
    "#### Using Grid Search CV\n",
    "Using grid search CV once again to find the best C parameter for a linear SVM model."
   ]
  },
  {
   "cell_type": "code",
   "execution_count": 17,
   "metadata": {},
   "outputs": [
    {
     "name": "stdout",
     "output_type": "stream",
     "text": [
      "Fitting 10 folds for each of 13 candidates, totalling 130 fits\n",
      "{'C': 1000}\n",
      "    mean_fit_time  std_fit_time  mean_score_time  std_score_time param_C  \\\n",
      "0        0.099133      0.006573         0.028225        0.001997   0.001   \n",
      "1        0.093451      0.005105         0.027425        0.004241   0.005   \n",
      "2        0.135038      0.024712         0.033711        0.005814    0.01   \n",
      "3        0.099633      0.008351         0.026330        0.003709    0.05   \n",
      "4        0.123569      0.020548         0.036204        0.010751     0.1   \n",
      "5        0.234971      0.080584         0.067818        0.042888     0.5   \n",
      "6        0.124178      0.017796         0.029559        0.007611       1   \n",
      "7        0.109806      0.012784         0.020745        0.002815       5   \n",
      "8        0.105319      0.011726         0.027576        0.007906      10   \n",
      "9        0.158723      0.031187         0.024145        0.008660      50   \n",
      "10       0.156629      0.033567         0.020507        0.003821     100   \n",
      "11       0.288333      0.048621         0.018944        0.005502     500   \n",
      "12       0.364526      0.034405         0.018147        0.004696    1000   \n",
      "\n",
      "          params  split0_test_score  split1_test_score  split2_test_score  \\\n",
      "0   {'C': 0.001}           0.739726           0.739726           0.739726   \n",
      "1   {'C': 0.005}           0.739726           0.739726           0.739726   \n",
      "2    {'C': 0.01}           0.739726           0.739726           0.739726   \n",
      "3    {'C': 0.05}           0.828767           0.842466           0.753425   \n",
      "4     {'C': 0.1}           0.835616           0.863014           0.780822   \n",
      "5     {'C': 0.5}           0.890411           0.897260           0.815068   \n",
      "6       {'C': 1}           0.897260           0.917808           0.863014   \n",
      "7       {'C': 5}           0.917808           0.931507           0.876712   \n",
      "8      {'C': 10}           0.924658           0.931507           0.876712   \n",
      "9      {'C': 50}           0.938356           0.910959           0.890411   \n",
      "10    {'C': 100}           0.938356           0.910959           0.883562   \n",
      "11    {'C': 500}           0.945205           0.931507           0.897260   \n",
      "12   {'C': 1000}           0.945205           0.938356           0.897260   \n",
      "\n",
      "    split3_test_score  split4_test_score  split5_test_score  \\\n",
      "0            0.739726           0.739726           0.739726   \n",
      "1            0.739726           0.739726           0.739726   \n",
      "2            0.732877           0.739726           0.739726   \n",
      "3            0.815068           0.849315           0.856164   \n",
      "4            0.815068           0.869863           0.869863   \n",
      "5            0.849315           0.876712           0.876712   \n",
      "6            0.883562           0.876712           0.883562   \n",
      "7            0.897260           0.883562           0.904110   \n",
      "8            0.890411           0.890411           0.910959   \n",
      "9            0.883562           0.910959           0.917808   \n",
      "10           0.890411           0.910959           0.910959   \n",
      "11           0.910959           0.924658           0.917808   \n",
      "12           0.910959           0.924658           0.938356   \n",
      "\n",
      "    split6_test_score  split7_test_score  split8_test_score  \\\n",
      "0            0.737931           0.744828           0.744828   \n",
      "1            0.737931           0.744828           0.744828   \n",
      "2            0.737931           0.751724           0.744828   \n",
      "3            0.813793           0.806897           0.806897   \n",
      "4            0.800000           0.813793           0.820690   \n",
      "5            0.834483           0.862069           0.855172   \n",
      "6            0.862069           0.889655           0.882759   \n",
      "7            0.868966           0.903448           0.910345   \n",
      "8            0.868966           0.896552           0.903448   \n",
      "9            0.882759           0.903448           0.910345   \n",
      "10           0.875862           0.910345           0.924138   \n",
      "11           0.896552           0.917241           0.931034   \n",
      "12           0.903448           0.917241           0.931034   \n",
      "\n",
      "    split9_test_score  mean_test_score  std_test_score  rank_test_score  \n",
      "0            0.744828         0.741077        0.002511               12  \n",
      "1            0.744828         0.741077        0.002511               12  \n",
      "2            0.744828         0.741082        0.004772               11  \n",
      "3            0.855172         0.822796        0.029574               10  \n",
      "4            0.855172         0.832390        0.029609                9  \n",
      "5            0.868966         0.862617        0.023865                8  \n",
      "6            0.903448         0.885985        0.016328                7  \n",
      "7            0.937931         0.903165        0.021371                5  \n",
      "8            0.937931         0.903155        0.021847                6  \n",
      "9            0.944828         0.909343        0.019858                4  \n",
      "10           0.944828         0.910038        0.021137                3  \n",
      "11           0.931034         0.920326        0.014809                2  \n",
      "12           0.917241         0.922376        0.015114                1  \n",
      "{\"ok\":true,\"result\":{\"message_id\":84,\"from\":{\"id\":1917311024,\"is_bot\":true,\"first_name\":\"FallAlert\",\"username\":\"FallAlertPythonBot\"},\"chat\":{\"id\":1766671538,\"first_name\":\"Teddy\",\"last_name\":\"Ordo\\u00f1ez\",\"username\":\"teddsords\",\"type\":\"private\"},\"date\":1634135684,\"text\":\"GridSearchCV is done!\"}}\n"
     ]
    }
   ],
   "source": [
    "clf_grid = GridSearchCV(SVC(), params, cv=10, n_jobs=-1, verbose=1, scoring='accuracy')\n",
    "clf_grid.fit(X,y)\n",
    "print(clf_grid.best_params_)\n",
    "df_grid_results = pd.DataFrame(clf_grid.cv_results_)\n",
    "print(df_grid_results)\n",
    "broadcast_message(['1766671538'], 'GridSearchCV is done!')"
   ]
  },
  {
   "cell_type": "code",
   "execution_count": 19,
   "metadata": {},
   "outputs": [
    {
     "data": {
      "text/html": [
       "<div>\n",
       "<style scoped>\n",
       "    .dataframe tbody tr th:only-of-type {\n",
       "        vertical-align: middle;\n",
       "    }\n",
       "\n",
       "    .dataframe tbody tr th {\n",
       "        vertical-align: top;\n",
       "    }\n",
       "\n",
       "    .dataframe thead th {\n",
       "        text-align: right;\n",
       "    }\n",
       "</style>\n",
       "<table border=\"1\" class=\"dataframe\">\n",
       "  <thead>\n",
       "    <tr style=\"text-align: right;\">\n",
       "      <th></th>\n",
       "      <th>param_C</th>\n",
       "      <th>mean_test_score</th>\n",
       "      <th>rank_test_score</th>\n",
       "    </tr>\n",
       "  </thead>\n",
       "  <tbody>\n",
       "    <tr>\n",
       "      <th>0</th>\n",
       "      <td>0.001</td>\n",
       "      <td>0.741077</td>\n",
       "      <td>12</td>\n",
       "    </tr>\n",
       "    <tr>\n",
       "      <th>1</th>\n",
       "      <td>0.005</td>\n",
       "      <td>0.741077</td>\n",
       "      <td>12</td>\n",
       "    </tr>\n",
       "    <tr>\n",
       "      <th>2</th>\n",
       "      <td>0.01</td>\n",
       "      <td>0.741082</td>\n",
       "      <td>11</td>\n",
       "    </tr>\n",
       "    <tr>\n",
       "      <th>3</th>\n",
       "      <td>0.05</td>\n",
       "      <td>0.822796</td>\n",
       "      <td>10</td>\n",
       "    </tr>\n",
       "    <tr>\n",
       "      <th>4</th>\n",
       "      <td>0.1</td>\n",
       "      <td>0.832390</td>\n",
       "      <td>9</td>\n",
       "    </tr>\n",
       "    <tr>\n",
       "      <th>5</th>\n",
       "      <td>0.5</td>\n",
       "      <td>0.862617</td>\n",
       "      <td>8</td>\n",
       "    </tr>\n",
       "    <tr>\n",
       "      <th>6</th>\n",
       "      <td>1</td>\n",
       "      <td>0.885985</td>\n",
       "      <td>7</td>\n",
       "    </tr>\n",
       "    <tr>\n",
       "      <th>7</th>\n",
       "      <td>5</td>\n",
       "      <td>0.903165</td>\n",
       "      <td>5</td>\n",
       "    </tr>\n",
       "    <tr>\n",
       "      <th>8</th>\n",
       "      <td>10</td>\n",
       "      <td>0.903155</td>\n",
       "      <td>6</td>\n",
       "    </tr>\n",
       "    <tr>\n",
       "      <th>9</th>\n",
       "      <td>50</td>\n",
       "      <td>0.909343</td>\n",
       "      <td>4</td>\n",
       "    </tr>\n",
       "    <tr>\n",
       "      <th>10</th>\n",
       "      <td>100</td>\n",
       "      <td>0.910038</td>\n",
       "      <td>3</td>\n",
       "    </tr>\n",
       "    <tr>\n",
       "      <th>11</th>\n",
       "      <td>500</td>\n",
       "      <td>0.920326</td>\n",
       "      <td>2</td>\n",
       "    </tr>\n",
       "    <tr>\n",
       "      <th>12</th>\n",
       "      <td>1000</td>\n",
       "      <td>0.922376</td>\n",
       "      <td>1</td>\n",
       "    </tr>\n",
       "  </tbody>\n",
       "</table>\n",
       "</div>"
      ],
      "text/plain": [
       "   param_C  mean_test_score  rank_test_score\n",
       "0    0.001         0.741077               12\n",
       "1    0.005         0.741077               12\n",
       "2     0.01         0.741082               11\n",
       "3     0.05         0.822796               10\n",
       "4      0.1         0.832390                9\n",
       "5      0.5         0.862617                8\n",
       "6        1         0.885985                7\n",
       "7        5         0.903165                5\n",
       "8       10         0.903155                6\n",
       "9       50         0.909343                4\n",
       "10     100         0.910038                3\n",
       "11     500         0.920326                2\n",
       "12    1000         0.922376                1"
      ]
     },
     "execution_count": 19,
     "metadata": {},
     "output_type": "execute_result"
    }
   ],
   "source": [
    "df_grid_results[['param_C', 'mean_test_score', 'rank_test_score']]"
   ]
  },
  {
   "cell_type": "markdown",
   "metadata": {},
   "source": [
    "### Creating another SVM model\n",
    "Since Grid Search found that the best model should have C = 1000, we will train a model with it and save it on disk."
   ]
  },
  {
   "cell_type": "code",
   "execution_count": 17,
   "metadata": {},
   "outputs": [],
   "source": [
    "clf_lin_1000 = SVC(kernel='linear', C=1000)\n",
    "X_rem, X_test, y_rem, y_test = train_test_split(X, y, test_size=0.1, train_size=0.9, random_state=17, stratify=y)\n",
    "X_rem.shape, X_test.shape\n",
    "scores_lin_1000 = []\n",
    "\n",
    "k_fold = StratifiedKFold(n_splits=10,shuffle=True, random_state=17)      # Creating a Stratifiedd K fold object\n",
    "# This loop can be done with one line of code using cross_val_score\n",
    "for train_index, val_index in k_fold.split(X_rem, y_rem):                      # Splitting dataset into 10 fold \n",
    "    X_train, X_val = X_rem.iloc[train_index], X_rem.iloc[val_index]\n",
    "    y_train, y_val = y_rem.iloc[train_index] , y_rem.iloc[val_index]\n",
    "\n",
    "    clf_lin_1000.fit(X_train, y_train)\n",
    "    scores_lin_1000.append(clf_lin_1000.score(X_val, y_val))\n",
    "\n",
    "broadcast_message(['1766671538'], 'Training is done!')\n",
    "print('Linear accuracy score: ', sum(scores_lin_1000) / len(scores_lin_1000)) "
   ]
  },
  {
   "cell_type": "code",
   "execution_count": 146,
   "metadata": {},
   "outputs": [
    {
     "name": "stdout",
     "output_type": "stream",
     "text": [
      "Accuracy:  0.9447852760736196\n"
     ]
    }
   ],
   "source": [
    "y_predicted_1000 = clf_lin_1000.predict(X_test)       # 0.95      randomstate=17 0.9567 accuracy\n",
    "print('Accuracy: ', accuracy_score(y_test, y_predicted_1000))"
   ]
  },
  {
   "cell_type": "markdown",
   "metadata": {},
   "source": [
    "#### Saving model to disk\n",
    "\n",
    "Saving the model to disk so it can be loaded afterwards."
   ]
  },
  {
   "cell_type": "code",
   "execution_count": 28,
   "metadata": {},
   "outputs": [],
   "source": [
    "filename = 'SVM_linear_1000.sav'\n",
    "pickle.dump(clf_lin_1000, open(filename, 'wb'))"
   ]
  },
  {
   "cell_type": "markdown",
   "metadata": {},
   "source": [
    "#### Plotting Confusion Matrix\n",
    "\n",
    "By plotting the confusion matrix of the model, we can visualize easier the false positives and false negatives."
   ]
  },
  {
   "cell_type": "code",
   "execution_count": 145,
   "metadata": {},
   "outputs": [
    {
     "data": {
      "image/png": "[encoded data removed]",
      "text/plain": [
       "<Figure size 432x288 with 2 Axes>"
      ]
     },
     "metadata": {
      "needs_background": "light"
     },
     "output_type": "display_data"
    }
   ],
   "source": [
    "con_mat = confusion_matrix(y_true=y_test, y_pred=y_predicted_1000)\n",
    "disp = ConfusionMatrixDisplay(confusion_matrix=con_mat)\n",
    "disp.plot(cmap='Blues')\n",
    "plt.title('Confusion Matrix for SVM model with C = 1000')\n",
    "plt.show()"
   ]
  },
  {
   "cell_type": "markdown",
   "metadata": {},
   "source": [
    "## Creating second SVM model\n",
    "\n",
    "In this section we will be creating a second SVM model by using only acceleration characteristics, instead of all three as the model created before. The characteristics are unchanged, we will use mean, standard deviation and range of acceleration for its three axes. We will have it predict 1 output variable. This output are, Fall or ADL.  "
   ]
  },
  {
   "cell_type": "markdown",
   "metadata": {},
   "source": [
    "#### Reading dataframe "
   ]
  },
  {
   "cell_type": "code",
   "execution_count": 113,
   "metadata": {},
   "outputs": [
    {
     "name": "stdout",
     "output_type": "stream",
     "text": [
      "<class 'pandas.core.frame.DataFrame'>\n",
      "RangeIndex: 1798 entries, 0 to 1797\n",
      "Data columns (total 17 columns):\n",
      " #   Column      Non-Null Count  Dtype  \n",
      "---  ------      --------------  -----  \n",
      " 0   SubjectID   1798 non-null   int8   \n",
      " 1   Device      1798 non-null   object \n",
      " 2   ActivityID  1798 non-null   int16  \n",
      " 3   TrialNo     1798 non-null   int8   \n",
      " 4   Acc         1798 non-null   object \n",
      " 5   Gyr         1798 non-null   object \n",
      " 6   Mag         1798 non-null   object \n",
      " 7   Mean Acc X  1798 non-null   float64\n",
      " 8   Mean Acc Y  1798 non-null   float64\n",
      " 9   Mean Acc Z  1798 non-null   float64\n",
      " 10  Std Acc X   1798 non-null   float64\n",
      " 11  Std Acc Y   1798 non-null   float64\n",
      " 12  Std Acc Z   1798 non-null   float64\n",
      " 13  Rng Acc X   1798 non-null   float64\n",
      " 14  Rng Acc Y   1798 non-null   float64\n",
      " 15  Rng Acc Z   1798 non-null   float64\n",
      " 16  Fall        1798 non-null   int64  \n",
      "dtypes: float64(9), int16(1), int64(1), int8(2), object(4)\n",
      "memory usage: 203.8+ KB\n"
     ]
    }
   ],
   "source": [
    "df2 = pd.read_pickle('Dataframes/Dataframe5.pkl')\n",
    "df2.info()"
   ]
  },
  {
   "cell_type": "markdown",
   "metadata": {},
   "source": [
    "#### Separating X and y variables"
   ]
  },
  {
   "cell_type": "code",
   "execution_count": 115,
   "metadata": {},
   "outputs": [
    {
     "data": {
      "text/html": [
       "<div>\n",
       "<style scoped>\n",
       "    .dataframe tbody tr th:only-of-type {\n",
       "        vertical-align: middle;\n",
       "    }\n",
       "\n",
       "    .dataframe tbody tr th {\n",
       "        vertical-align: top;\n",
       "    }\n",
       "\n",
       "    .dataframe thead th {\n",
       "        text-align: right;\n",
       "    }\n",
       "</style>\n",
       "<table border=\"1\" class=\"dataframe\">\n",
       "  <thead>\n",
       "    <tr style=\"text-align: right;\">\n",
       "      <th></th>\n",
       "      <th>Mean Acc X</th>\n",
       "      <th>Mean Acc Y</th>\n",
       "      <th>Mean Acc Z</th>\n",
       "      <th>Std Acc X</th>\n",
       "      <th>Std Acc Y</th>\n",
       "      <th>Std Acc Z</th>\n",
       "      <th>Rng Acc X</th>\n",
       "      <th>Rng Acc Y</th>\n",
       "      <th>Rng Acc Z</th>\n",
       "    </tr>\n",
       "  </thead>\n",
       "  <tbody>\n",
       "    <tr>\n",
       "      <th>0</th>\n",
       "      <td>0.921582</td>\n",
       "      <td>-0.201560</td>\n",
       "      <td>0.171808</td>\n",
       "      <td>0.067198</td>\n",
       "      <td>0.165769</td>\n",
       "      <td>0.187205</td>\n",
       "      <td>0.654164</td>\n",
       "      <td>0.938668</td>\n",
       "      <td>0.608780</td>\n",
       "    </tr>\n",
       "    <tr>\n",
       "      <th>1</th>\n",
       "      <td>0.909689</td>\n",
       "      <td>-0.274133</td>\n",
       "      <td>0.174786</td>\n",
       "      <td>0.030403</td>\n",
       "      <td>0.132192</td>\n",
       "      <td>0.165149</td>\n",
       "      <td>0.417484</td>\n",
       "      <td>0.664656</td>\n",
       "      <td>0.509960</td>\n",
       "    </tr>\n",
       "    <tr>\n",
       "      <th>2</th>\n",
       "      <td>0.924141</td>\n",
       "      <td>-0.008939</td>\n",
       "      <td>0.212514</td>\n",
       "      <td>0.099426</td>\n",
       "      <td>0.159648</td>\n",
       "      <td>0.233055</td>\n",
       "      <td>0.813496</td>\n",
       "      <td>0.801784</td>\n",
       "      <td>0.826428</td>\n",
       "    </tr>\n",
       "    <tr>\n",
       "      <th>3</th>\n",
       "      <td>0.909702</td>\n",
       "      <td>-0.031952</td>\n",
       "      <td>0.234640</td>\n",
       "      <td>0.067926</td>\n",
       "      <td>0.161555</td>\n",
       "      <td>0.249287</td>\n",
       "      <td>0.504592</td>\n",
       "      <td>0.759572</td>\n",
       "      <td>0.670024</td>\n",
       "    </tr>\n",
       "    <tr>\n",
       "      <th>4</th>\n",
       "      <td>0.903871</td>\n",
       "      <td>0.170773</td>\n",
       "      <td>0.213385</td>\n",
       "      <td>0.133012</td>\n",
       "      <td>0.162354</td>\n",
       "      <td>0.238117</td>\n",
       "      <td>1.128500</td>\n",
       "      <td>0.939400</td>\n",
       "      <td>0.922808</td>\n",
       "    </tr>\n",
       "  </tbody>\n",
       "</table>\n",
       "</div>"
      ],
      "text/plain": [
       "   Mean Acc X  Mean Acc Y  Mean Acc Z  Std Acc X  Std Acc Y  Std Acc Z  \\\n",
       "0    0.921582   -0.201560    0.171808   0.067198   0.165769   0.187205   \n",
       "1    0.909689   -0.274133    0.174786   0.030403   0.132192   0.165149   \n",
       "2    0.924141   -0.008939    0.212514   0.099426   0.159648   0.233055   \n",
       "3    0.909702   -0.031952    0.234640   0.067926   0.161555   0.249287   \n",
       "4    0.903871    0.170773    0.213385   0.133012   0.162354   0.238117   \n",
       "\n",
       "   Rng Acc X  Rng Acc Y  Rng Acc Z  \n",
       "0   0.654164   0.938668   0.608780  \n",
       "1   0.417484   0.664656   0.509960  \n",
       "2   0.813496   0.801784   0.826428  \n",
       "3   0.504592   0.759572   0.670024  \n",
       "4   1.128500   0.939400   0.922808  "
      ]
     },
     "execution_count": 115,
     "metadata": {},
     "output_type": "execute_result"
    }
   ],
   "source": [
    "X2 = df2.iloc[:, 7:16]\n",
    "y2 = df2['Fall']\n",
    "X2.head()"
   ]
  },
  {
   "cell_type": "markdown",
   "metadata": {},
   "source": [
    "#### Creating SVM model and separating variables into train/test and validation sets"
   ]
  },
  {
   "cell_type": "code",
   "execution_count": 116,
   "metadata": {},
   "outputs": [
    {
     "data": {
      "text/plain": [
       "((1618, 9), (180, 9))"
      ]
     },
     "execution_count": 116,
     "metadata": {},
     "output_type": "execute_result"
    }
   ],
   "source": [
    "clf2 = SVC(kernel='linear')\n",
    "\n",
    "X_rem_2, X_test_2, y_rem_2, y_test_2 = train_test_split(X2, y2, test_size=0.1, train_size=0.9, random_state=29, stratify=y2)\n",
    "X_rem_2.shape, X_test_2.shape"
   ]
  },
  {
   "cell_type": "markdown",
   "metadata": {},
   "source": [
    "#### Using StatifiedKFold for training and testing new SVM model"
   ]
  },
  {
   "cell_type": "code",
   "execution_count": 117,
   "metadata": {},
   "outputs": [
    {
     "name": "stdout",
     "output_type": "stream",
     "text": [
      "{\"ok\":true,\"result\":{\"message_id\":104,\"from\":{\"id\":1917311024,\"is_bot\":true,\"first_name\":\"FallAlert\",\"username\":\"FallAlertPythonBot\"},\"chat\":{\"id\":1766671538,\"first_name\":\"Teddy\",\"last_name\":\"Ordo\\u00f1ez\",\"username\":\"teddsords\",\"type\":\"private\"},\"date\":1634420819,\"text\":\"Training is done!\"}}\n",
      "Linear accuracy score:  0.9190322828003987\n"
     ]
    }
   ],
   "source": [
    "scores_2_lin_1 = []\n",
    "\n",
    "k_fold = StratifiedKFold(n_splits=10,shuffle=True, random_state=92)      # Creating a Stratifiedd K fold object\n",
    "# This loop can be done with one line of code using cross_val_score\n",
    "for train_index, val_index in k_fold.split(X_rem_2, y_rem_2):                      # Splitting dataset into 10 fold \n",
    "    X_train, X_val = X_rem_2.iloc[train_index], X_rem_2.iloc[val_index]\n",
    "    y_train, y_val = y_rem_2.iloc[train_index] , y_rem_2.iloc[val_index]\n",
    "\n",
    "    clf2.fit(X_train, y_train)\n",
    "    scores_2_lin_1.append(clf2.score(X_val, y_val))\n",
    "\n",
    "broadcast_message(['1766671538'], 'Training is done!')\n",
    "print('Linear accuracy score: ', sum(scores_2_lin_1) / len(scores_2_lin_1))"
   ]
  },
  {
   "cell_type": "code",
   "execution_count": 118,
   "metadata": {},
   "outputs": [
    {
     "name": "stdout",
     "output_type": "stream",
     "text": [
      "Accuracy:  88.88888888888889\n"
     ]
    }
   ],
   "source": [
    "y2_predicted = clf2.predict(X_test_2)\n",
    "print('Accuracy: ', (accuracy_score(y_test_2, y2_predicted))*100)"
   ]
  },
  {
   "cell_type": "code",
   "execution_count": 119,
   "metadata": {},
   "outputs": [
    {
     "data": {
      "image/png": "[encoded data removed]",
      "text/plain": [
       "<Figure size 432x288 with 2 Axes>"
      ]
     },
     "metadata": {
      "needs_background": "light"
     },
     "output_type": "display_data"
    }
   ],
   "source": [
    "con_mat = confusion_matrix(y_true=y_test_2, y_pred=y2_predicted)\n",
    "disp = ConfusionMatrixDisplay(confusion_matrix=con_mat)\n",
    "disp.plot(cmap='Blues')\n",
    "plt.title('Confusion Matrix for SVM model with C = 1\\n Using dataframe 5')\n",
    "plt.show()"
   ]
  },
  {
   "cell_type": "markdown",
   "metadata": {},
   "source": [
    "#### Saving model to disk"
   ]
  },
  {
   "cell_type": "code",
   "execution_count": 120,
   "metadata": {},
   "outputs": [],
   "source": [
    "filename = 'SVM_linear_1_dataframe5.sav'\n",
    "pickle.dump(clf2, open(filename, 'wb'))"
   ]
  },
  {
   "cell_type": "markdown",
   "metadata": {},
   "source": [
    "#### Using grid search"
   ]
  },
  {
   "cell_type": "code",
   "execution_count": 121,
   "metadata": {},
   "outputs": [
    {
     "name": "stdout",
     "output_type": "stream",
     "text": [
      "Fitting 10 folds for each of 13 candidates, totalling 130 fits\n",
      "{'C': 1000}\n",
      "{\"ok\":true,\"result\":{\"message_id\":105,\"from\":{\"id\":1917311024,\"is_bot\":true,\"first_name\":\"FallAlert\",\"username\":\"FallAlertPythonBot\"},\"chat\":{\"id\":1766671538,\"first_name\":\"Teddy\",\"last_name\":\"Ordo\\u00f1ez\",\"username\":\"teddsords\",\"type\":\"private\"},\"date\":1634420896,\"text\":\"GridSearchCV is done!\"}}\n"
     ]
    }
   ],
   "source": [
    "params = {'C': (0.001, 0.005, 0.01, 0.05, 0.1, 0.5, 1, 5, 10, 50, 100, 500, 1000)}\n",
    "clf_grid2 = GridSearchCV(SVC(), params, cv=10, n_jobs=-1, verbose=1, scoring='accuracy')\n",
    "clf_grid2.fit(X2,y2)\n",
    "print(clf_grid2.best_params_)\n",
    "df_grid_results = pd.DataFrame(clf_grid2.cv_results_)\n",
    "broadcast_message(['1766671538'], 'GridSearchCV is done!')"
   ]
  },
  {
   "cell_type": "code",
   "execution_count": 122,
   "metadata": {},
   "outputs": [
    {
     "data": {
      "text/html": [
       "<div>\n",
       "<style scoped>\n",
       "    .dataframe tbody tr th:only-of-type {\n",
       "        vertical-align: middle;\n",
       "    }\n",
       "\n",
       "    .dataframe tbody tr th {\n",
       "        vertical-align: top;\n",
       "    }\n",
       "\n",
       "    .dataframe thead th {\n",
       "        text-align: right;\n",
       "    }\n",
       "</style>\n",
       "<table border=\"1\" class=\"dataframe\">\n",
       "  <thead>\n",
       "    <tr style=\"text-align: right;\">\n",
       "      <th></th>\n",
       "      <th>param_C</th>\n",
       "      <th>mean_test_score</th>\n",
       "      <th>rank_test_score</th>\n",
       "    </tr>\n",
       "  </thead>\n",
       "  <tbody>\n",
       "    <tr>\n",
       "      <th>0</th>\n",
       "      <td>0.001</td>\n",
       "      <td>0.740826</td>\n",
       "      <td>13</td>\n",
       "    </tr>\n",
       "    <tr>\n",
       "      <th>1</th>\n",
       "      <td>0.005</td>\n",
       "      <td>0.809224</td>\n",
       "      <td>12</td>\n",
       "    </tr>\n",
       "    <tr>\n",
       "      <th>2</th>\n",
       "      <td>0.01</td>\n",
       "      <td>0.884863</td>\n",
       "      <td>11</td>\n",
       "    </tr>\n",
       "    <tr>\n",
       "      <th>3</th>\n",
       "      <td>0.05</td>\n",
       "      <td>0.898777</td>\n",
       "      <td>10</td>\n",
       "    </tr>\n",
       "    <tr>\n",
       "      <th>4</th>\n",
       "      <td>0.1</td>\n",
       "      <td>0.904336</td>\n",
       "      <td>9</td>\n",
       "    </tr>\n",
       "    <tr>\n",
       "      <th>5</th>\n",
       "      <td>0.5</td>\n",
       "      <td>0.917700</td>\n",
       "      <td>8</td>\n",
       "    </tr>\n",
       "    <tr>\n",
       "      <th>6</th>\n",
       "      <td>1</td>\n",
       "      <td>0.940512</td>\n",
       "      <td>7</td>\n",
       "    </tr>\n",
       "    <tr>\n",
       "      <th>7</th>\n",
       "      <td>5</td>\n",
       "      <td>0.951639</td>\n",
       "      <td>6</td>\n",
       "    </tr>\n",
       "    <tr>\n",
       "      <th>8</th>\n",
       "      <td>10</td>\n",
       "      <td>0.954413</td>\n",
       "      <td>5</td>\n",
       "    </tr>\n",
       "    <tr>\n",
       "      <th>9</th>\n",
       "      <td>50</td>\n",
       "      <td>0.959401</td>\n",
       "      <td>4</td>\n",
       "    </tr>\n",
       "    <tr>\n",
       "      <th>10</th>\n",
       "      <td>100</td>\n",
       "      <td>0.961068</td>\n",
       "      <td>3</td>\n",
       "    </tr>\n",
       "    <tr>\n",
       "      <th>11</th>\n",
       "      <td>500</td>\n",
       "      <td>0.961611</td>\n",
       "      <td>2</td>\n",
       "    </tr>\n",
       "    <tr>\n",
       "      <th>12</th>\n",
       "      <td>1000</td>\n",
       "      <td>0.962166</td>\n",
       "      <td>1</td>\n",
       "    </tr>\n",
       "  </tbody>\n",
       "</table>\n",
       "</div>"
      ],
      "text/plain": [
       "   param_C  mean_test_score  rank_test_score\n",
       "0    0.001         0.740826               13\n",
       "1    0.005         0.809224               12\n",
       "2     0.01         0.884863               11\n",
       "3     0.05         0.898777               10\n",
       "4      0.1         0.904336                9\n",
       "5      0.5         0.917700                8\n",
       "6        1         0.940512                7\n",
       "7        5         0.951639                6\n",
       "8       10         0.954413                5\n",
       "9       50         0.959401                4\n",
       "10     100         0.961068                3\n",
       "11     500         0.961611                2\n",
       "12    1000         0.962166                1"
      ]
     },
     "execution_count": 122,
     "metadata": {},
     "output_type": "execute_result"
    }
   ],
   "source": [
    "df_grid_results[['param_C', 'mean_test_score', 'rank_test_score']]"
   ]
  },
  {
   "cell_type": "markdown",
   "metadata": {},
   "source": [
    "#### Creating new model using the parameter given by GridSearchCV"
   ]
  },
  {
   "cell_type": "code",
   "execution_count": 123,
   "metadata": {},
   "outputs": [
    {
     "name": "stdout",
     "output_type": "stream",
     "text": [
      "{\"ok\":true,\"result\":{\"message_id\":106,\"from\":{\"id\":1917311024,\"is_bot\":true,\"first_name\":\"FallAlert\",\"username\":\"FallAlertPythonBot\"},\"chat\":{\"id\":1766671538,\"first_name\":\"Teddy\",\"last_name\":\"Ordo\\u00f1ez\",\"username\":\"teddsords\",\"type\":\"private\"},\"date\":1634420974,\"text\":\"Training is done!\"}}\n",
      "Linear accuracy score:  0.9171804309485468\n"
     ]
    }
   ],
   "source": [
    "clf2_1000 = SVC(kernel='linear', C=1000)\n",
    "X_rem_2, X_test_2, y_rem_2, y_test_2 = train_test_split(X2, y2, test_size=0.1, train_size=0.9, random_state=29, stratify=y2)\n",
    "X_rem_2.shape, X_test_2.shape\n",
    "scores2_1000 = []\n",
    "\n",
    "k_fold = StratifiedKFold(n_splits=10,shuffle=True, random_state=92)      # Creating a Stratifiedd K fold object\n",
    "# This loop can be done with one line of code using cross_val_score\n",
    "for train_index, val_index in k_fold.split(X_rem_2, y_rem_2):                      # Splitting dataset into 10 fold \n",
    "    X_train, X_val = X_rem_2.iloc[train_index], X_rem_2.iloc[val_index]\n",
    "    y_train, y_val = y_rem_2.iloc[train_index] , y_rem_2.iloc[val_index]\n",
    "\n",
    "    clf2_1000.fit(X_train, y_train)\n",
    "    scores2_1000.append(clf2_1000.score(X_val, y_val))\n",
    "\n",
    "broadcast_message(['1766671538'], 'Training is done!')\n",
    "print('Linear accuracy score: ', sum(scores2_1000) / len(scores2_1000)) "
   ]
  },
  {
   "cell_type": "code",
   "execution_count": 124,
   "metadata": {},
   "outputs": [
    {
     "name": "stdout",
     "output_type": "stream",
     "text": [
      "Accuracy:  88.33333333333333\n"
     ]
    }
   ],
   "source": [
    "y2_predicted_1000 = clf2_1000.predict(X_test_2)\n",
    "print('Accuracy: ', (accuracy_score(y_test_2, y2_predicted_1000))*100)"
   ]
  },
  {
   "cell_type": "markdown",
   "metadata": {},
   "source": [
    "#### Plotting Confusion Matrix"
   ]
  },
  {
   "cell_type": "code",
   "execution_count": 125,
   "metadata": {},
   "outputs": [
    {
     "data": {
      "image/png": "[encoded data removed]",
      "text/plain": [
       "<Figure size 432x288 with 2 Axes>"
      ]
     },
     "metadata": {
      "needs_background": "light"
     },
     "output_type": "display_data"
    }
   ],
   "source": [
    "con_mat = confusion_matrix(y_true=y_test_2, y_pred=y2_predicted_1000)\n",
    "disp = ConfusionMatrixDisplay(confusion_matrix=con_mat)\n",
    "disp.plot(cmap='Blues')\n",
    "plt.title('Confusion Matrix for SVM model with\\n C = 1000 using dataframe 5')\n",
    "plt.show()"
   ]
  },
  {
   "cell_type": "markdown",
   "metadata": {},
   "source": [
    "#### Saving model to disk"
   ]
  },
  {
   "cell_type": "code",
   "execution_count": 126,
   "metadata": {},
   "outputs": [],
   "source": [
    "filename= 'SVM_linear_1000_Dataframe5.sav'\n",
    "pickle.dump(clf2_1000, open(filename, 'wb'))"
   ]
  },
  {
   "cell_type": "markdown",
   "metadata": {},
   "source": [
    "## Using Leave-One-Subject-Out method\n",
    "\n",
    "In this section of the notebook, we will create a svm model but leaving 1 subject out for final testing. This is done to show that the model created is not subject-dependent.\n",
    "\n",
    "Subject out was number 13."
   ]
  },
  {
   "cell_type": "markdown",
   "metadata": {},
   "source": [
    "#### Reading dataframe"
   ]
  },
  {
   "cell_type": "code",
   "execution_count": 35,
   "metadata": {},
   "outputs": [
    {
     "data": {
      "text/html": [
       "<div>\n",
       "<style scoped>\n",
       "    .dataframe tbody tr th:only-of-type {\n",
       "        vertical-align: middle;\n",
       "    }\n",
       "\n",
       "    .dataframe tbody tr th {\n",
       "        vertical-align: top;\n",
       "    }\n",
       "\n",
       "    .dataframe thead th {\n",
       "        text-align: right;\n",
       "    }\n",
       "</style>\n",
       "<table border=\"1\" class=\"dataframe\">\n",
       "  <thead>\n",
       "    <tr style=\"text-align: right;\">\n",
       "      <th></th>\n",
       "      <th>SubjectID</th>\n",
       "      <th>Device</th>\n",
       "      <th>ActivityID</th>\n",
       "      <th>TrialNo</th>\n",
       "      <th>Acc</th>\n",
       "      <th>Gyr</th>\n",
       "      <th>Mag</th>\n",
       "      <th>Mean Acc X</th>\n",
       "      <th>Mean Acc Y</th>\n",
       "      <th>Mean Acc Z</th>\n",
       "      <th>...</th>\n",
       "      <th>Mean Mag X</th>\n",
       "      <th>Mean Mag Y</th>\n",
       "      <th>Mean Mag Z</th>\n",
       "      <th>Std Mag X</th>\n",
       "      <th>Std Mag Y</th>\n",
       "      <th>Std Mag Z</th>\n",
       "      <th>Rng Mag X</th>\n",
       "      <th>Rng Mag Y</th>\n",
       "      <th>Rng Mag Z</th>\n",
       "      <th>Fall</th>\n",
       "    </tr>\n",
       "  </thead>\n",
       "  <tbody>\n",
       "    <tr>\n",
       "      <th>0</th>\n",
       "      <td>13</td>\n",
       "      <td>Waist</td>\n",
       "      <td>13</td>\n",
       "      <td>1</td>\n",
       "      <td>[[1.187792, 0.11834, 0.061], [1.098976, 0.1385...</td>\n",
       "      <td>[[3.8500000000000005, -13.23, 7.00000000000000...</td>\n",
       "      <td>[[0.5397, 0.08442, 0.36245999999999995], [0.53...</td>\n",
       "      <td>0.909446</td>\n",
       "      <td>-0.207685</td>\n",
       "      <td>0.195117</td>\n",
       "      <td>...</td>\n",
       "      <td>0.525232</td>\n",
       "      <td>0.245418</td>\n",
       "      <td>0.222293</td>\n",
       "      <td>0.025104</td>\n",
       "      <td>0.067875</td>\n",
       "      <td>0.092003</td>\n",
       "      <td>0.19334</td>\n",
       "      <td>0.36848</td>\n",
       "      <td>0.58870</td>\n",
       "      <td>0</td>\n",
       "    </tr>\n",
       "    <tr>\n",
       "      <th>1</th>\n",
       "      <td>13</td>\n",
       "      <td>Waist</td>\n",
       "      <td>13</td>\n",
       "      <td>2</td>\n",
       "      <td>[[0.99918, 0.043676, 0.04026], [0.999668, 0.04...</td>\n",
       "      <td>[[0.42000000000000004, 2.66, 0.700000000000000...</td>\n",
       "      <td>[[0.5796, 0.06888, 0.40165999999999996], [0.58...</td>\n",
       "      <td>0.910689</td>\n",
       "      <td>-0.211511</td>\n",
       "      <td>0.164247</td>\n",
       "      <td>...</td>\n",
       "      <td>0.546069</td>\n",
       "      <td>0.166859</td>\n",
       "      <td>0.297884</td>\n",
       "      <td>0.028882</td>\n",
       "      <td>0.095824</td>\n",
       "      <td>0.088503</td>\n",
       "      <td>0.08372</td>\n",
       "      <td>0.29834</td>\n",
       "      <td>0.29708</td>\n",
       "      <td>0</td>\n",
       "    </tr>\n",
       "    <tr>\n",
       "      <th>2</th>\n",
       "      <td>13</td>\n",
       "      <td>Waist</td>\n",
       "      <td>13</td>\n",
       "      <td>3</td>\n",
       "      <td>[[1.415444, -0.00244, 0.083448], [1.4679039999...</td>\n",
       "      <td>[[33.53, 45.220000000000006, -40.95], [30.5900...</td>\n",
       "      <td>[[0.5292, 0.10401999999999999, 0.4069799999999...</td>\n",
       "      <td>0.959760</td>\n",
       "      <td>-0.138148</td>\n",
       "      <td>0.149002</td>\n",
       "      <td>...</td>\n",
       "      <td>0.498201</td>\n",
       "      <td>0.334305</td>\n",
       "      <td>0.298323</td>\n",
       "      <td>0.044865</td>\n",
       "      <td>0.095063</td>\n",
       "      <td>0.101606</td>\n",
       "      <td>0.17234</td>\n",
       "      <td>0.37240</td>\n",
       "      <td>0.51352</td>\n",
       "      <td>0</td>\n",
       "    </tr>\n",
       "    <tr>\n",
       "      <th>3</th>\n",
       "      <td>13</td>\n",
       "      <td>Waist</td>\n",
       "      <td>13</td>\n",
       "      <td>4</td>\n",
       "      <td>[[0.9964959999999999, 0.054168, 0.104432], [0....</td>\n",
       "      <td>[[2.8000000000000003, 0.9100000000000001, 0.56...</td>\n",
       "      <td>[[0.5690999999999999, 0.32942, 0.3456599999999...</td>\n",
       "      <td>0.937242</td>\n",
       "      <td>-0.153876</td>\n",
       "      <td>0.163681</td>\n",
       "      <td>...</td>\n",
       "      <td>0.502416</td>\n",
       "      <td>0.376588</td>\n",
       "      <td>0.358075</td>\n",
       "      <td>0.071241</td>\n",
       "      <td>0.055801</td>\n",
       "      <td>0.022026</td>\n",
       "      <td>0.17234</td>\n",
       "      <td>0.18508</td>\n",
       "      <td>0.10682</td>\n",
       "      <td>0</td>\n",
       "    </tr>\n",
       "    <tr>\n",
       "      <th>4</th>\n",
       "      <td>13</td>\n",
       "      <td>Waist</td>\n",
       "      <td>13</td>\n",
       "      <td>5</td>\n",
       "      <td>[[0.930128, 0.061732, 0.014152], [0.94428, 0.0...</td>\n",
       "      <td>[[32.620000000000005, 24.220000000000002, 47.1...</td>\n",
       "      <td>[[0.48411999999999994, 0.01078, 0.32214], [0.4...</td>\n",
       "      <td>0.956477</td>\n",
       "      <td>0.050190</td>\n",
       "      <td>0.144145</td>\n",
       "      <td>...</td>\n",
       "      <td>0.531190</td>\n",
       "      <td>0.193558</td>\n",
       "      <td>0.258704</td>\n",
       "      <td>0.023015</td>\n",
       "      <td>0.064773</td>\n",
       "      <td>0.080942</td>\n",
       "      <td>0.13734</td>\n",
       "      <td>0.32648</td>\n",
       "      <td>0.52332</td>\n",
       "      <td>0</td>\n",
       "    </tr>\n",
       "  </tbody>\n",
       "</table>\n",
       "<p>5 rows × 35 columns</p>\n",
       "</div>"
      ],
      "text/plain": [
       "   SubjectID Device  ActivityID  TrialNo  \\\n",
       "0         13  Waist          13        1   \n",
       "1         13  Waist          13        2   \n",
       "2         13  Waist          13        3   \n",
       "3         13  Waist          13        4   \n",
       "4         13  Waist          13        5   \n",
       "\n",
       "                                                 Acc  \\\n",
       "0  [[1.187792, 0.11834, 0.061], [1.098976, 0.1385...   \n",
       "1  [[0.99918, 0.043676, 0.04026], [0.999668, 0.04...   \n",
       "2  [[1.415444, -0.00244, 0.083448], [1.4679039999...   \n",
       "3  [[0.9964959999999999, 0.054168, 0.104432], [0....   \n",
       "4  [[0.930128, 0.061732, 0.014152], [0.94428, 0.0...   \n",
       "\n",
       "                                                 Gyr  \\\n",
       "0  [[3.8500000000000005, -13.23, 7.00000000000000...   \n",
       "1  [[0.42000000000000004, 2.66, 0.700000000000000...   \n",
       "2  [[33.53, 45.220000000000006, -40.95], [30.5900...   \n",
       "3  [[2.8000000000000003, 0.9100000000000001, 0.56...   \n",
       "4  [[32.620000000000005, 24.220000000000002, 47.1...   \n",
       "\n",
       "                                                 Mag  Mean Acc X  Mean Acc Y  \\\n",
       "0  [[0.5397, 0.08442, 0.36245999999999995], [0.53...    0.909446   -0.207685   \n",
       "1  [[0.5796, 0.06888, 0.40165999999999996], [0.58...    0.910689   -0.211511   \n",
       "2  [[0.5292, 0.10401999999999999, 0.4069799999999...    0.959760   -0.138148   \n",
       "3  [[0.5690999999999999, 0.32942, 0.3456599999999...    0.937242   -0.153876   \n",
       "4  [[0.48411999999999994, 0.01078, 0.32214], [0.4...    0.956477    0.050190   \n",
       "\n",
       "   Mean Acc Z  ...  Mean Mag X  Mean Mag Y  Mean Mag Z  Std Mag X  Std Mag Y  \\\n",
       "0    0.195117  ...    0.525232    0.245418    0.222293   0.025104   0.067875   \n",
       "1    0.164247  ...    0.546069    0.166859    0.297884   0.028882   0.095824   \n",
       "2    0.149002  ...    0.498201    0.334305    0.298323   0.044865   0.095063   \n",
       "3    0.163681  ...    0.502416    0.376588    0.358075   0.071241   0.055801   \n",
       "4    0.144145  ...    0.531190    0.193558    0.258704   0.023015   0.064773   \n",
       "\n",
       "   Std Mag Z  Rng Mag X  Rng Mag Y  Rng Mag Z  Fall  \n",
       "0   0.092003    0.19334    0.36848    0.58870     0  \n",
       "1   0.088503    0.08372    0.29834    0.29708     0  \n",
       "2   0.101606    0.17234    0.37240    0.51352     0  \n",
       "3   0.022026    0.17234    0.18508    0.10682     0  \n",
       "4   0.080942    0.13734    0.32648    0.52332     0  \n",
       "\n",
       "[5 rows x 35 columns]"
      ]
     },
     "execution_count": 35,
     "metadata": {},
     "output_type": "execute_result"
    }
   ],
   "source": [
    "df3 = pd.read_pickle('Dataframes/Dataframe3.pkl')\n",
    "subject_out = df3[df3['SubjectID'] == 13]\n",
    "subject_out.reset_index(drop=True, inplace=True)\n",
    "subject_out.head()"
   ]
  },
  {
   "cell_type": "markdown",
   "metadata": {},
   "source": [
    "#### Dropping subject and separating variables"
   ]
  },
  {
   "cell_type": "code",
   "execution_count": 36,
   "metadata": {},
   "outputs": [
    {
     "data": {
      "text/html": [
       "<div>\n",
       "<style scoped>\n",
       "    .dataframe tbody tr th:only-of-type {\n",
       "        vertical-align: middle;\n",
       "    }\n",
       "\n",
       "    .dataframe tbody tr th {\n",
       "        vertical-align: top;\n",
       "    }\n",
       "\n",
       "    .dataframe thead th {\n",
       "        text-align: right;\n",
       "    }\n",
       "</style>\n",
       "<table border=\"1\" class=\"dataframe\">\n",
       "  <thead>\n",
       "    <tr style=\"text-align: right;\">\n",
       "      <th></th>\n",
       "      <th>Mean Acc X</th>\n",
       "      <th>Mean Acc Y</th>\n",
       "      <th>Mean Acc Z</th>\n",
       "      <th>Std Acc X</th>\n",
       "      <th>Std Acc Y</th>\n",
       "      <th>Std Acc Z</th>\n",
       "      <th>Rng Acc X</th>\n",
       "      <th>Rng Acc Y</th>\n",
       "      <th>Rng Acc Z</th>\n",
       "      <th>Mean Gyr X</th>\n",
       "      <th>...</th>\n",
       "      <th>Rng Gyr Z</th>\n",
       "      <th>Mean Mag X</th>\n",
       "      <th>Mean Mag Y</th>\n",
       "      <th>Mean Mag Z</th>\n",
       "      <th>Std Mag X</th>\n",
       "      <th>Std Mag Y</th>\n",
       "      <th>Std Mag Z</th>\n",
       "      <th>Rng Mag X</th>\n",
       "      <th>Rng Mag Y</th>\n",
       "      <th>Rng Mag Z</th>\n",
       "    </tr>\n",
       "  </thead>\n",
       "  <tbody>\n",
       "    <tr>\n",
       "      <th>0</th>\n",
       "      <td>0.921582</td>\n",
       "      <td>-0.201560</td>\n",
       "      <td>0.171808</td>\n",
       "      <td>0.067198</td>\n",
       "      <td>0.165769</td>\n",
       "      <td>0.187205</td>\n",
       "      <td>0.654164</td>\n",
       "      <td>0.938668</td>\n",
       "      <td>0.608780</td>\n",
       "      <td>-4.077706</td>\n",
       "      <td>...</td>\n",
       "      <td>82.11</td>\n",
       "      <td>0.788509</td>\n",
       "      <td>0.306360</td>\n",
       "      <td>0.248950</td>\n",
       "      <td>0.030355</td>\n",
       "      <td>0.062698</td>\n",
       "      <td>0.103449</td>\n",
       "      <td>0.15960</td>\n",
       "      <td>0.27286</td>\n",
       "      <td>0.36050</td>\n",
       "    </tr>\n",
       "    <tr>\n",
       "      <th>1</th>\n",
       "      <td>0.909689</td>\n",
       "      <td>-0.274133</td>\n",
       "      <td>0.174786</td>\n",
       "      <td>0.030403</td>\n",
       "      <td>0.132192</td>\n",
       "      <td>0.165149</td>\n",
       "      <td>0.417484</td>\n",
       "      <td>0.664656</td>\n",
       "      <td>0.509960</td>\n",
       "      <td>-0.843176</td>\n",
       "      <td>...</td>\n",
       "      <td>97.65</td>\n",
       "      <td>0.756194</td>\n",
       "      <td>0.379925</td>\n",
       "      <td>0.255541</td>\n",
       "      <td>0.032967</td>\n",
       "      <td>0.034068</td>\n",
       "      <td>0.074790</td>\n",
       "      <td>0.14658</td>\n",
       "      <td>0.16366</td>\n",
       "      <td>0.22442</td>\n",
       "    </tr>\n",
       "    <tr>\n",
       "      <th>2</th>\n",
       "      <td>0.924141</td>\n",
       "      <td>-0.008939</td>\n",
       "      <td>0.212514</td>\n",
       "      <td>0.099426</td>\n",
       "      <td>0.159648</td>\n",
       "      <td>0.233055</td>\n",
       "      <td>0.813496</td>\n",
       "      <td>0.801784</td>\n",
       "      <td>0.826428</td>\n",
       "      <td>-1.126853</td>\n",
       "      <td>...</td>\n",
       "      <td>97.30</td>\n",
       "      <td>0.799671</td>\n",
       "      <td>0.254084</td>\n",
       "      <td>0.270394</td>\n",
       "      <td>0.016859</td>\n",
       "      <td>0.051702</td>\n",
       "      <td>0.115595</td>\n",
       "      <td>0.09912</td>\n",
       "      <td>0.26320</td>\n",
       "      <td>0.41986</td>\n",
       "    </tr>\n",
       "    <tr>\n",
       "      <th>3</th>\n",
       "      <td>0.909702</td>\n",
       "      <td>-0.031952</td>\n",
       "      <td>0.234640</td>\n",
       "      <td>0.067926</td>\n",
       "      <td>0.161555</td>\n",
       "      <td>0.249287</td>\n",
       "      <td>0.504592</td>\n",
       "      <td>0.759572</td>\n",
       "      <td>0.670024</td>\n",
       "      <td>-1.021162</td>\n",
       "      <td>...</td>\n",
       "      <td>129.43</td>\n",
       "      <td>0.777614</td>\n",
       "      <td>0.318550</td>\n",
       "      <td>0.280543</td>\n",
       "      <td>0.015691</td>\n",
       "      <td>0.037413</td>\n",
       "      <td>0.119515</td>\n",
       "      <td>0.09464</td>\n",
       "      <td>0.17402</td>\n",
       "      <td>0.32018</td>\n",
       "    </tr>\n",
       "    <tr>\n",
       "      <th>4</th>\n",
       "      <td>0.903871</td>\n",
       "      <td>0.170773</td>\n",
       "      <td>0.213385</td>\n",
       "      <td>0.133012</td>\n",
       "      <td>0.162354</td>\n",
       "      <td>0.238117</td>\n",
       "      <td>1.128500</td>\n",
       "      <td>0.939400</td>\n",
       "      <td>0.922808</td>\n",
       "      <td>-0.143515</td>\n",
       "      <td>...</td>\n",
       "      <td>93.80</td>\n",
       "      <td>0.808201</td>\n",
       "      <td>0.202960</td>\n",
       "      <td>0.264524</td>\n",
       "      <td>0.021063</td>\n",
       "      <td>0.051833</td>\n",
       "      <td>0.114198</td>\n",
       "      <td>0.09968</td>\n",
       "      <td>0.28686</td>\n",
       "      <td>0.39298</td>\n",
       "    </tr>\n",
       "    <tr>\n",
       "      <th>...</th>\n",
       "      <td>...</td>\n",
       "      <td>...</td>\n",
       "      <td>...</td>\n",
       "      <td>...</td>\n",
       "      <td>...</td>\n",
       "      <td>...</td>\n",
       "      <td>...</td>\n",
       "      <td>...</td>\n",
       "      <td>...</td>\n",
       "      <td>...</td>\n",
       "      <td>...</td>\n",
       "      <td>...</td>\n",
       "      <td>...</td>\n",
       "      <td>...</td>\n",
       "      <td>...</td>\n",
       "      <td>...</td>\n",
       "      <td>...</td>\n",
       "      <td>...</td>\n",
       "      <td>...</td>\n",
       "      <td>...</td>\n",
       "      <td>...</td>\n",
       "    </tr>\n",
       "    <tr>\n",
       "      <th>1616</th>\n",
       "      <td>0.421164</td>\n",
       "      <td>0.486860</td>\n",
       "      <td>-0.259032</td>\n",
       "      <td>0.482082</td>\n",
       "      <td>0.413782</td>\n",
       "      <td>0.403274</td>\n",
       "      <td>3.109536</td>\n",
       "      <td>6.272264</td>\n",
       "      <td>7.321708</td>\n",
       "      <td>-13.848500</td>\n",
       "      <td>...</td>\n",
       "      <td>429.10</td>\n",
       "      <td>0.255893</td>\n",
       "      <td>0.063975</td>\n",
       "      <td>0.584274</td>\n",
       "      <td>0.155849</td>\n",
       "      <td>0.054347</td>\n",
       "      <td>0.116918</td>\n",
       "      <td>0.51660</td>\n",
       "      <td>0.49532</td>\n",
       "      <td>0.92008</td>\n",
       "    </tr>\n",
       "    <tr>\n",
       "      <th>1617</th>\n",
       "      <td>0.477437</td>\n",
       "      <td>-0.463409</td>\n",
       "      <td>-0.259671</td>\n",
       "      <td>0.525878</td>\n",
       "      <td>0.407719</td>\n",
       "      <td>0.456425</td>\n",
       "      <td>12.972016</td>\n",
       "      <td>11.122984</td>\n",
       "      <td>14.119792</td>\n",
       "      <td>2.177412</td>\n",
       "      <td>...</td>\n",
       "      <td>477.61</td>\n",
       "      <td>0.413253</td>\n",
       "      <td>0.238942</td>\n",
       "      <td>0.357015</td>\n",
       "      <td>0.084351</td>\n",
       "      <td>0.155681</td>\n",
       "      <td>0.124277</td>\n",
       "      <td>0.34916</td>\n",
       "      <td>0.38920</td>\n",
       "      <td>0.64218</td>\n",
       "    </tr>\n",
       "    <tr>\n",
       "      <th>1618</th>\n",
       "      <td>0.516297</td>\n",
       "      <td>0.216274</td>\n",
       "      <td>-0.216580</td>\n",
       "      <td>0.416558</td>\n",
       "      <td>0.605298</td>\n",
       "      <td>0.381468</td>\n",
       "      <td>5.058364</td>\n",
       "      <td>3.708556</td>\n",
       "      <td>6.397192</td>\n",
       "      <td>1.489456</td>\n",
       "      <td>...</td>\n",
       "      <td>475.37</td>\n",
       "      <td>0.337363</td>\n",
       "      <td>0.058966</td>\n",
       "      <td>0.370667</td>\n",
       "      <td>0.181615</td>\n",
       "      <td>0.105069</td>\n",
       "      <td>0.136420</td>\n",
       "      <td>0.43820</td>\n",
       "      <td>0.41636</td>\n",
       "      <td>0.78834</td>\n",
       "    </tr>\n",
       "    <tr>\n",
       "      <th>1619</th>\n",
       "      <td>0.838070</td>\n",
       "      <td>0.347216</td>\n",
       "      <td>0.030255</td>\n",
       "      <td>0.210071</td>\n",
       "      <td>0.364009</td>\n",
       "      <td>0.147526</td>\n",
       "      <td>4.985652</td>\n",
       "      <td>3.778584</td>\n",
       "      <td>5.548072</td>\n",
       "      <td>-2.024441</td>\n",
       "      <td>...</td>\n",
       "      <td>408.31</td>\n",
       "      <td>0.470200</td>\n",
       "      <td>0.140514</td>\n",
       "      <td>0.245743</td>\n",
       "      <td>0.021936</td>\n",
       "      <td>0.126791</td>\n",
       "      <td>0.167907</td>\n",
       "      <td>0.13300</td>\n",
       "      <td>0.35028</td>\n",
       "      <td>0.64596</td>\n",
       "    </tr>\n",
       "    <tr>\n",
       "      <th>1620</th>\n",
       "      <td>0.197696</td>\n",
       "      <td>-0.241964</td>\n",
       "      <td>0.443883</td>\n",
       "      <td>0.779496</td>\n",
       "      <td>0.292070</td>\n",
       "      <td>0.428101</td>\n",
       "      <td>13.737444</td>\n",
       "      <td>10.731608</td>\n",
       "      <td>7.271688</td>\n",
       "      <td>-1.342662</td>\n",
       "      <td>...</td>\n",
       "      <td>702.94</td>\n",
       "      <td>0.173890</td>\n",
       "      <td>0.317003</td>\n",
       "      <td>0.045909</td>\n",
       "      <td>0.280613</td>\n",
       "      <td>0.035531</td>\n",
       "      <td>0.091014</td>\n",
       "      <td>0.61936</td>\n",
       "      <td>0.20300</td>\n",
       "      <td>0.38052</td>\n",
       "    </tr>\n",
       "  </tbody>\n",
       "</table>\n",
       "<p>1621 rows × 27 columns</p>\n",
       "</div>"
      ],
      "text/plain": [
       "      Mean Acc X  Mean Acc Y  Mean Acc Z  Std Acc X  Std Acc Y  Std Acc Z  \\\n",
       "0       0.921582   -0.201560    0.171808   0.067198   0.165769   0.187205   \n",
       "1       0.909689   -0.274133    0.174786   0.030403   0.132192   0.165149   \n",
       "2       0.924141   -0.008939    0.212514   0.099426   0.159648   0.233055   \n",
       "3       0.909702   -0.031952    0.234640   0.067926   0.161555   0.249287   \n",
       "4       0.903871    0.170773    0.213385   0.133012   0.162354   0.238117   \n",
       "...          ...         ...         ...        ...        ...        ...   \n",
       "1616    0.421164    0.486860   -0.259032   0.482082   0.413782   0.403274   \n",
       "1617    0.477437   -0.463409   -0.259671   0.525878   0.407719   0.456425   \n",
       "1618    0.516297    0.216274   -0.216580   0.416558   0.605298   0.381468   \n",
       "1619    0.838070    0.347216    0.030255   0.210071   0.364009   0.147526   \n",
       "1620    0.197696   -0.241964    0.443883   0.779496   0.292070   0.428101   \n",
       "\n",
       "      Rng Acc X  Rng Acc Y  Rng Acc Z  Mean Gyr X  ...  Rng Gyr Z  Mean Mag X  \\\n",
       "0      0.654164   0.938668   0.608780   -4.077706  ...      82.11    0.788509   \n",
       "1      0.417484   0.664656   0.509960   -0.843176  ...      97.65    0.756194   \n",
       "2      0.813496   0.801784   0.826428   -1.126853  ...      97.30    0.799671   \n",
       "3      0.504592   0.759572   0.670024   -1.021162  ...     129.43    0.777614   \n",
       "4      1.128500   0.939400   0.922808   -0.143515  ...      93.80    0.808201   \n",
       "...         ...        ...        ...         ...  ...        ...         ...   \n",
       "1616   3.109536   6.272264   7.321708  -13.848500  ...     429.10    0.255893   \n",
       "1617  12.972016  11.122984  14.119792    2.177412  ...     477.61    0.413253   \n",
       "1618   5.058364   3.708556   6.397192    1.489456  ...     475.37    0.337363   \n",
       "1619   4.985652   3.778584   5.548072   -2.024441  ...     408.31    0.470200   \n",
       "1620  13.737444  10.731608   7.271688   -1.342662  ...     702.94    0.173890   \n",
       "\n",
       "      Mean Mag Y  Mean Mag Z  Std Mag X  Std Mag Y  Std Mag Z  Rng Mag X  \\\n",
       "0       0.306360    0.248950   0.030355   0.062698   0.103449    0.15960   \n",
       "1       0.379925    0.255541   0.032967   0.034068   0.074790    0.14658   \n",
       "2       0.254084    0.270394   0.016859   0.051702   0.115595    0.09912   \n",
       "3       0.318550    0.280543   0.015691   0.037413   0.119515    0.09464   \n",
       "4       0.202960    0.264524   0.021063   0.051833   0.114198    0.09968   \n",
       "...          ...         ...        ...        ...        ...        ...   \n",
       "1616    0.063975    0.584274   0.155849   0.054347   0.116918    0.51660   \n",
       "1617    0.238942    0.357015   0.084351   0.155681   0.124277    0.34916   \n",
       "1618    0.058966    0.370667   0.181615   0.105069   0.136420    0.43820   \n",
       "1619    0.140514    0.245743   0.021936   0.126791   0.167907    0.13300   \n",
       "1620    0.317003    0.045909   0.280613   0.035531   0.091014    0.61936   \n",
       "\n",
       "      Rng Mag Y  Rng Mag Z  \n",
       "0       0.27286    0.36050  \n",
       "1       0.16366    0.22442  \n",
       "2       0.26320    0.41986  \n",
       "3       0.17402    0.32018  \n",
       "4       0.28686    0.39298  \n",
       "...         ...        ...  \n",
       "1616    0.49532    0.92008  \n",
       "1617    0.38920    0.64218  \n",
       "1618    0.41636    0.78834  \n",
       "1619    0.35028    0.64596  \n",
       "1620    0.20300    0.38052  \n",
       "\n",
       "[1621 rows x 27 columns]"
      ]
     },
     "execution_count": 36,
     "metadata": {},
     "output_type": "execute_result"
    }
   ],
   "source": [
    "df3.drop(df3[df3.SubjectID == 13].index, inplace=True)\n",
    "df3.reset_index(drop=True, inplace=True)\n",
    "X3 = df3.iloc[: ,7:34]\n",
    "y3 = df3['Fall']\n",
    "X3"
   ]
  },
  {
   "cell_type": "markdown",
   "metadata": {},
   "source": [
    "#### Creating and training/validating model without subject # 13"
   ]
  },
  {
   "cell_type": "code",
   "execution_count": 37,
   "metadata": {},
   "outputs": [
    {
     "name": "stdout",
     "output_type": "stream",
     "text": [
      "{\"ok\":true,\"result\":{\"message_id\":99,\"from\":{\"id\":1917311024,\"is_bot\":true,\"first_name\":\"FallAlert\",\"username\":\"FallAlertPythonBot\"},\"chat\":{\"id\":1766671538,\"first_name\":\"Teddy\",\"last_name\":\"Ordo\\u00f1ez\",\"username\":\"teddsords\",\"type\":\"private\"},\"date\":1634321408,\"text\":\"Training is done!\"}}\n",
      "Linear accuracy score:  0.9487843671892751\n"
     ]
    }
   ],
   "source": [
    "clf3 = SVC(kernel='linear')\n",
    "scores_3 = []\n",
    "\n",
    "k_fold = StratifiedKFold(n_splits=10,shuffle=True, random_state=758)      # Creating a Stratifiedd K fold object\n",
    "# This loop can be done with one line of code using cross_val_score\n",
    "for train_index, val_index in k_fold.split(X3, y3):                      # Splitting dataset into 10 fold \n",
    "    X_train, X_val = X3.iloc[train_index], X3.iloc[val_index]\n",
    "    y_train, y_val = y3.iloc[train_index] , y3.iloc[val_index]\n",
    "\n",
    "    clf3.fit(X_train, y_train)\n",
    "    scores_3.append(clf3.score(X_val, y_val))\n",
    "\n",
    "broadcast_message(['1766671538'], 'Training is done!')\n",
    "print('Linear accuracy score: ', sum(scores_3) / len(scores_3))"
   ]
  },
  {
   "cell_type": "code",
   "execution_count": 38,
   "metadata": {},
   "outputs": [
    {
     "data": {
      "text/plain": [
       "((177, 27), (177,))"
      ]
     },
     "execution_count": 38,
     "metadata": {},
     "output_type": "execute_result"
    }
   ],
   "source": [
    "subject_out_X = subject_out.iloc[:, 7:34]\n",
    "subject_out_y = subject_out['Fall']\n",
    "subject_out_X.shape, subject_out_y.shape"
   ]
  },
  {
   "cell_type": "markdown",
   "metadata": {},
   "source": [
    "#### Testing model with subject 13\n",
    "\n",
    "To test the accuracy of the model create above, we will test the model with the subject that was left out."
   ]
  },
  {
   "cell_type": "code",
   "execution_count": 39,
   "metadata": {},
   "outputs": [
    {
     "name": "stdout",
     "output_type": "stream",
     "text": [
      "Accuracy:  92.65536723163842\n"
     ]
    }
   ],
   "source": [
    "subject_out_predicted = clf3.predict(subject_out_X)\n",
    "print('Accuracy: ', (accuracy_score(subject_out_y, subject_out_predicted))*100)"
   ]
  },
  {
   "cell_type": "code",
   "execution_count": 41,
   "metadata": {},
   "outputs": [
    {
     "data": {
      "image/png": "[encoded data removed]",
      "text/plain": [
       "<Figure size 432x288 with 2 Axes>"
      ]
     },
     "metadata": {
      "needs_background": "light"
     },
     "output_type": "display_data"
    }
   ],
   "source": [
    "con_mat = confusion_matrix(y_true=subject_out_y, y_pred=subject_out_predicted)\n",
    "disp = ConfusionMatrixDisplay(confusion_matrix=con_mat)\n",
    "disp.plot(cmap='Blues')\n",
    "plt.title('Confusion Matrix for SVM model with C = 1\\n Subject out is # 13')\n",
    "plt.show()"
   ]
  },
  {
   "cell_type": "markdown",
   "metadata": {},
   "source": [
    "#### Saving model to disk"
   ]
  },
  {
   "cell_type": "code",
   "execution_count": 10,
   "metadata": {},
   "outputs": [],
   "source": [
    "filename= 'SVM_linear_subject_out.sav'\n",
    "pickle.dump(clf3, open(filename, 'wb'))"
   ]
  },
  {
   "cell_type": "markdown",
   "metadata": {},
   "source": [
    "## Testing model of subject out"
   ]
  },
  {
   "cell_type": "code",
   "execution_count": 9,
   "metadata": {},
   "outputs": [
    {
     "name": "stdout",
     "output_type": "stream",
     "text": [
      "[4]\n",
      "[4, 8]\n",
      "[4, 8, 7]\n"
     ]
    }
   ],
   "source": [
    "seed(29872)\n",
    "value = []\n",
    "for x in range(3):              # Generating 3 random integers to test the model\n",
    "    value.append(randint(1,15))\n",
    "    print(value)"
   ]
  },
  {
   "cell_type": "markdown",
   "metadata": {},
   "source": [
    "#### Separating subject\n",
    "\n",
    "Getting rows with all columns that represent data rom subject 4"
   ]
  },
  {
   "cell_type": "code",
   "execution_count": 29,
   "metadata": {},
   "outputs": [],
   "source": [
    "df3 = pd.read_pickle('Dataframes/Dataframe3.pkl')\n",
    "subject_out = df3[df3['SubjectID'] == 4]\n",
    "subject_out.reset_index(drop=True, inplace=True)"
   ]
  },
  {
   "cell_type": "markdown",
   "metadata": {},
   "source": [
    "#### Loading model from disk\n",
    "\n",
    "The model that is loaded is the one created by leaving out subject 13 from training. We will be testing the model using subjects that were used in training."
   ]
  },
  {
   "cell_type": "code",
   "execution_count": 17,
   "metadata": {},
   "outputs": [],
   "source": [
    "clf_subject_out = pickle.load(open('SVM_linear_subject_out.sav', 'rb'))"
   ]
  },
  {
   "cell_type": "markdown",
   "metadata": {},
   "source": [
    "#### Dividing independent and dependent variables"
   ]
  },
  {
   "cell_type": "code",
   "execution_count": 28,
   "metadata": {},
   "outputs": [],
   "source": [
    "X_subject_out = subject_out.iloc[:,7:34]\n",
    "y_subject_out = subject_out['Fall']"
   ]
  },
  {
   "cell_type": "markdown",
   "metadata": {},
   "source": [
    "#### Testing model with subject 4"
   ]
  },
  {
   "cell_type": "code",
   "execution_count": 19,
   "metadata": {},
   "outputs": [
    {
     "name": "stdout",
     "output_type": "stream",
     "text": [
      "Accuracy with another subject: 0.9382716049382716\n"
     ]
    },
    {
     "data": {
      "image/png": "[encoded data removed]",
      "text/plain": [
       "<Figure size 432x288 with 2 Axes>"
      ]
     },
     "metadata": {
      "needs_background": "light"
     },
     "output_type": "display_data"
    }
   ],
   "source": [
    "y_predicted_subject_out = clf_subject_out.predict(X_subject_out)\n",
    "print('Accuracy with another subject:', accuracy_score(y_subject_out, y_predicted_subject_out))\n",
    "\n",
    "con_mat = confusion_matrix(y_true=y_subject_out, y_pred=y_predicted_subject_out)\n",
    "disp = ConfusionMatrixDisplay(confusion_matrix=con_mat)\n",
    "disp.plot(cmap='Blues')\n",
    "plt.title('Confusion Matrix for SVM model with C = 1\\n Subject out is #4')\n",
    "plt.show()"
   ]
  },
  {
   "cell_type": "markdown",
   "metadata": {},
   "source": [
    "#### Testing model with subject 8"
   ]
  },
  {
   "cell_type": "code",
   "execution_count": 21,
   "metadata": {},
   "outputs": [
    {
     "name": "stdout",
     "output_type": "stream",
     "text": [
      "Accuracy with another subject: 0.9174311926605505\n"
     ]
    },
    {
     "data": {
      "image/png": "[encoded data removed]",
      "text/plain": [
       "<Figure size 432x288 with 2 Axes>"
      ]
     },
     "metadata": {
      "needs_background": "light"
     },
     "output_type": "display_data"
    }
   ],
   "source": [
    "df3 = pd.read_pickle('Dataframes/Dataframe3.pkl')\n",
    "subject_out = df3[df3['SubjectID'] == 8]\n",
    "subject_out.reset_index(drop=True, inplace=True)\n",
    "\n",
    "X_subject_out = subject_out.iloc[:,7:34]\n",
    "y_subject_out = subject_out['Fall']\n",
    "\n",
    "y_predicted_subject_out = clf_subject_out.predict(X_subject_out)\n",
    "print('Accuracy with another subject:', accuracy_score(y_subject_out, y_predicted_subject_out))\n",
    "\n",
    "con_mat = confusion_matrix(y_true=y_subject_out, y_pred=y_predicted_subject_out)\n",
    "disp = ConfusionMatrixDisplay(confusion_matrix=con_mat)\n",
    "disp.plot(cmap='Blues')\n",
    "plt.title('Confusion Matrix for SVM model with C = 1\\n Subject out is #8')\n",
    "plt.show()"
   ]
  },
  {
   "cell_type": "markdown",
   "metadata": {},
   "source": [
    "#### Testing model with subject 7"
   ]
  },
  {
   "cell_type": "code",
   "execution_count": 35,
   "metadata": {},
   "outputs": [
    {
     "name": "stdout",
     "output_type": "stream",
     "text": [
      "Accuracy with another subject: 0.9456521739130435\n"
     ]
    },
    {
     "data": {
      "image/png": "[encoded data removed]",
      "text/plain": [
       "<Figure size 432x288 with 2 Axes>"
      ]
     },
     "metadata": {
      "needs_background": "light"
     },
     "output_type": "display_data"
    }
   ],
   "source": [
    "df3 = pd.read_pickle('Dataframes/Dataframe3.pkl')\n",
    "subject_out = df3[df3['SubjectID'] == 7]\n",
    "subject_out.reset_index(drop=True, inplace=True)\n",
    "\n",
    "X_subject_out = subject_out.iloc[:,7:34]\n",
    "\n",
    "y_subject_out = subject_out['Fall']\n",
    "\n",
    "y_predicted_subject_out = clf_subject_out.predict(X_subject_out)\n",
    "print('Accuracy with another subject:', accuracy_score(y_subject_out, y_predicted_subject_out))\n",
    "\n",
    "con_mat = confusion_matrix(y_true=y_subject_out, y_pred=y_predicted_subject_out)\n",
    "disp = ConfusionMatrixDisplay(confusion_matrix=con_mat)\n",
    "disp.plot(cmap='Blues')\n",
    "plt.title('Confusion Matrix for SVM model with C = 1\\n Subject out is #7')\n",
    "plt.show()"
   ]
  },
  {
   "cell_type": "markdown",
   "metadata": {},
   "source": [
    "## Creating new model with 3 subjects out to test accuracy\n",
    "\n",
    "In this model, training is done withou 3 subjects. Those subjects IDs are: 4, 7 and 8. Afterwards, accuracy score will be based on the predictions made by the model on those three subjects."
   ]
  },
  {
   "cell_type": "code",
   "execution_count": 10,
   "metadata": {},
   "outputs": [
    {
     "name": "stdout",
     "output_type": "stream",
     "text": [
      "[4, 8, 7]\n"
     ]
    }
   ],
   "source": [
    "print(value)"
   ]
  },
  {
   "cell_type": "markdown",
   "metadata": {},
   "source": [
    "#### Removing random subjects for testing purposes"
   ]
  },
  {
   "cell_type": "code",
   "execution_count": 18,
   "metadata": {},
   "outputs": [
    {
     "data": {
      "text/html": [
       "<div>\n",
       "<style scoped>\n",
       "    .dataframe tbody tr th:only-of-type {\n",
       "        vertical-align: middle;\n",
       "    }\n",
       "\n",
       "    .dataframe tbody tr th {\n",
       "        vertical-align: top;\n",
       "    }\n",
       "\n",
       "    .dataframe thead th {\n",
       "        text-align: right;\n",
       "    }\n",
       "</style>\n",
       "<table border=\"1\" class=\"dataframe\">\n",
       "  <thead>\n",
       "    <tr style=\"text-align: right;\">\n",
       "      <th></th>\n",
       "      <th>SubjectID</th>\n",
       "      <th>Device</th>\n",
       "      <th>ActivityID</th>\n",
       "      <th>TrialNo</th>\n",
       "      <th>Acc</th>\n",
       "      <th>Gyr</th>\n",
       "      <th>Mag</th>\n",
       "      <th>Mean Acc X</th>\n",
       "      <th>Mean Acc Y</th>\n",
       "      <th>Mean Acc Z</th>\n",
       "      <th>...</th>\n",
       "      <th>Mean Mag X</th>\n",
       "      <th>Mean Mag Y</th>\n",
       "      <th>Mean Mag Z</th>\n",
       "      <th>Std Mag X</th>\n",
       "      <th>Std Mag Y</th>\n",
       "      <th>Std Mag Z</th>\n",
       "      <th>Rng Mag X</th>\n",
       "      <th>Rng Mag Y</th>\n",
       "      <th>Rng Mag Z</th>\n",
       "      <th>Fall</th>\n",
       "    </tr>\n",
       "  </thead>\n",
       "  <tbody>\n",
       "    <tr>\n",
       "      <th>0</th>\n",
       "      <td>4</td>\n",
       "      <td>Waist</td>\n",
       "      <td>13</td>\n",
       "      <td>5</td>\n",
       "      <td>[[0.9323239999999999, 0.250588, -0.240096], [0...</td>\n",
       "      <td>[[12.46, 6.720000000000001, 3.3600000000000003...</td>\n",
       "      <td>[[0.36022, 0.34328, 0.9465399999999999], [0.36...</td>\n",
       "      <td>0.710917</td>\n",
       "      <td>0.412293</td>\n",
       "      <td>0.258561</td>\n",
       "      <td>...</td>\n",
       "      <td>0.201420</td>\n",
       "      <td>0.227774</td>\n",
       "      <td>0.950763</td>\n",
       "      <td>0.140818</td>\n",
       "      <td>0.102136</td>\n",
       "      <td>0.213355</td>\n",
       "      <td>0.44884</td>\n",
       "      <td>0.39452</td>\n",
       "      <td>0.80038</td>\n",
       "      <td>0</td>\n",
       "    </tr>\n",
       "    <tr>\n",
       "      <th>1</th>\n",
       "      <td>4</td>\n",
       "      <td>Waist</td>\n",
       "      <td>13</td>\n",
       "      <td>6</td>\n",
       "      <td>[[0.946232, 0.285968, 0.196664], [0.934276, 0....</td>\n",
       "      <td>[[38.85, 8.47, 13.580000000000002], [40.320000...</td>\n",
       "      <td>[[0.26768, 0.16155999999999998, 0.903419999999...</td>\n",
       "      <td>0.609119</td>\n",
       "      <td>0.450429</td>\n",
       "      <td>0.448918</td>\n",
       "      <td>...</td>\n",
       "      <td>0.130592</td>\n",
       "      <td>0.172589</td>\n",
       "      <td>0.777118</td>\n",
       "      <td>0.132449</td>\n",
       "      <td>0.010619</td>\n",
       "      <td>0.112765</td>\n",
       "      <td>0.31206</td>\n",
       "      <td>0.07168</td>\n",
       "      <td>0.27916</td>\n",
       "      <td>0</td>\n",
       "    </tr>\n",
       "    <tr>\n",
       "      <th>2</th>\n",
       "      <td>4</td>\n",
       "      <td>Waist</td>\n",
       "      <td>13</td>\n",
       "      <td>8</td>\n",
       "      <td>[[0.853268, 0.42578, 0.156892], [0.849608, 0.4...</td>\n",
       "      <td>[[-11.760000000000002, -0.35000000000000003, -...</td>\n",
       "      <td>[[0.28812, 0.19068, 1.24796], [0.2890999999999...</td>\n",
       "      <td>0.766136</td>\n",
       "      <td>0.510574</td>\n",
       "      <td>0.282644</td>\n",
       "      <td>...</td>\n",
       "      <td>0.272868</td>\n",
       "      <td>0.169999</td>\n",
       "      <td>1.163929</td>\n",
       "      <td>0.017516</td>\n",
       "      <td>0.027627</td>\n",
       "      <td>0.080432</td>\n",
       "      <td>0.05684</td>\n",
       "      <td>0.09968</td>\n",
       "      <td>0.21714</td>\n",
       "      <td>0</td>\n",
       "    </tr>\n",
       "    <tr>\n",
       "      <th>3</th>\n",
       "      <td>4</td>\n",
       "      <td>Waist</td>\n",
       "      <td>13</td>\n",
       "      <td>9</td>\n",
       "      <td>[[1.318088, -0.075396, 0.071004], [1.382992, -...</td>\n",
       "      <td>[[74.41000000000001, 75.81, -7.490000000000001...</td>\n",
       "      <td>[[0.3031, 0.45653999999999995, 0.7859599999999...</td>\n",
       "      <td>0.885489</td>\n",
       "      <td>0.112642</td>\n",
       "      <td>0.319031</td>\n",
       "      <td>...</td>\n",
       "      <td>0.258991</td>\n",
       "      <td>0.289281</td>\n",
       "      <td>0.867124</td>\n",
       "      <td>0.060359</td>\n",
       "      <td>0.110449</td>\n",
       "      <td>0.186161</td>\n",
       "      <td>0.17416</td>\n",
       "      <td>0.34692</td>\n",
       "      <td>0.56336</td>\n",
       "      <td>0</td>\n",
       "    </tr>\n",
       "    <tr>\n",
       "      <th>4</th>\n",
       "      <td>4</td>\n",
       "      <td>Waist</td>\n",
       "      <td>13</td>\n",
       "      <td>11</td>\n",
       "      <td>[[0.726876, 0.114192, 0.551196], [0.793976, 0....</td>\n",
       "      <td>[[-6.86, 38.50000000000001, -10.01000000000000...</td>\n",
       "      <td>[[0.34174, 0.36763999999999997, 0.881579999999...</td>\n",
       "      <td>0.786925</td>\n",
       "      <td>0.391165</td>\n",
       "      <td>0.340511</td>\n",
       "      <td>...</td>\n",
       "      <td>0.302973</td>\n",
       "      <td>0.229208</td>\n",
       "      <td>1.034045</td>\n",
       "      <td>0.036124</td>\n",
       "      <td>0.074548</td>\n",
       "      <td>0.140267</td>\n",
       "      <td>0.29106</td>\n",
       "      <td>0.27902</td>\n",
       "      <td>0.88116</td>\n",
       "      <td>0</td>\n",
       "    </tr>\n",
       "    <tr>\n",
       "      <th>...</th>\n",
       "      <td>...</td>\n",
       "      <td>...</td>\n",
       "      <td>...</td>\n",
       "      <td>...</td>\n",
       "      <td>...</td>\n",
       "      <td>...</td>\n",
       "      <td>...</td>\n",
       "      <td>...</td>\n",
       "      <td>...</td>\n",
       "      <td>...</td>\n",
       "      <td>...</td>\n",
       "      <td>...</td>\n",
       "      <td>...</td>\n",
       "      <td>...</td>\n",
       "      <td>...</td>\n",
       "      <td>...</td>\n",
       "      <td>...</td>\n",
       "      <td>...</td>\n",
       "      <td>...</td>\n",
       "      <td>...</td>\n",
       "      <td>...</td>\n",
       "    </tr>\n",
       "    <tr>\n",
       "      <th>369</th>\n",
       "      <td>7</td>\n",
       "      <td>Waist</td>\n",
       "      <td>133</td>\n",
       "      <td>1</td>\n",
       "      <td>[[0.9699, 0.074908, -0.131272], [0.970388, 0.0...</td>\n",
       "      <td>[[-1.54, 1.54, -0.6300000000000001], [-1.96000...</td>\n",
       "      <td>[[0.6202, -0.06817999999999999, 1.097319999999...</td>\n",
       "      <td>0.289409</td>\n",
       "      <td>0.473134</td>\n",
       "      <td>0.061094</td>\n",
       "      <td>...</td>\n",
       "      <td>0.489188</td>\n",
       "      <td>-0.227064</td>\n",
       "      <td>0.992825</td>\n",
       "      <td>0.140160</td>\n",
       "      <td>0.165047</td>\n",
       "      <td>0.099177</td>\n",
       "      <td>0.56896</td>\n",
       "      <td>0.39368</td>\n",
       "      <td>0.37450</td>\n",
       "      <td>1</td>\n",
       "    </tr>\n",
       "    <tr>\n",
       "      <th>370</th>\n",
       "      <td>7</td>\n",
       "      <td>Waist</td>\n",
       "      <td>134</td>\n",
       "      <td>1</td>\n",
       "      <td>[[0.9015799999999999, 0.360876, -0.127124], [0...</td>\n",
       "      <td>[[-0.77, 2.1700000000000004, 1.33], [-2.030000...</td>\n",
       "      <td>[[0.5909399999999999, -0.31961999999999996, 1....</td>\n",
       "      <td>0.265955</td>\n",
       "      <td>0.363287</td>\n",
       "      <td>0.384298</td>\n",
       "      <td>...</td>\n",
       "      <td>0.466250</td>\n",
       "      <td>-0.299380</td>\n",
       "      <td>1.002069</td>\n",
       "      <td>0.133864</td>\n",
       "      <td>0.028454</td>\n",
       "      <td>0.343562</td>\n",
       "      <td>0.45598</td>\n",
       "      <td>0.20510</td>\n",
       "      <td>0.76314</td>\n",
       "      <td>1</td>\n",
       "    </tr>\n",
       "    <tr>\n",
       "      <th>371</th>\n",
       "      <td>7</td>\n",
       "      <td>Waist</td>\n",
       "      <td>134</td>\n",
       "      <td>2</td>\n",
       "      <td>[[0.86254, 0.459696, -0.086376], [0.861564, 0....</td>\n",
       "      <td>[[-1.2600000000000002, 0.77, 0.56], [-1.54, 0....</td>\n",
       "      <td>[[0.5726, -0.36904, 1.3642999999999998], [0.57...</td>\n",
       "      <td>0.410056</td>\n",
       "      <td>0.209789</td>\n",
       "      <td>-0.547802</td>\n",
       "      <td>...</td>\n",
       "      <td>0.365947</td>\n",
       "      <td>-0.215355</td>\n",
       "      <td>1.346780</td>\n",
       "      <td>0.210943</td>\n",
       "      <td>0.157276</td>\n",
       "      <td>0.023506</td>\n",
       "      <td>0.45696</td>\n",
       "      <td>0.35658</td>\n",
       "      <td>0.18802</td>\n",
       "      <td>1</td>\n",
       "    </tr>\n",
       "    <tr>\n",
       "      <th>372</th>\n",
       "      <td>7</td>\n",
       "      <td>Waist</td>\n",
       "      <td>135</td>\n",
       "      <td>1</td>\n",
       "      <td>[[0.97112, 0.126636, -0.006344], [0.972096, 0....</td>\n",
       "      <td>[[-2.7300000000000004, 1.33, 1.05], [-2.730000...</td>\n",
       "      <td>[[0.6071799999999999, -0.34215999999999996, 1....</td>\n",
       "      <td>0.557389</td>\n",
       "      <td>0.542957</td>\n",
       "      <td>0.249808</td>\n",
       "      <td>...</td>\n",
       "      <td>0.467559</td>\n",
       "      <td>-0.409185</td>\n",
       "      <td>1.156426</td>\n",
       "      <td>0.122783</td>\n",
       "      <td>0.055591</td>\n",
       "      <td>0.086048</td>\n",
       "      <td>0.35840</td>\n",
       "      <td>0.14252</td>\n",
       "      <td>0.34538</td>\n",
       "      <td>1</td>\n",
       "    </tr>\n",
       "    <tr>\n",
       "      <th>373</th>\n",
       "      <td>7</td>\n",
       "      <td>Waist</td>\n",
       "      <td>135</td>\n",
       "      <td>2</td>\n",
       "      <td>[[0.974536, -0.010735999999999999, 0.082228], ...</td>\n",
       "      <td>[[-1.05, 1.12, 0.77], [-1.12, 1.54, 0.91000000...</td>\n",
       "      <td>[[0.6332199999999999, -0.29932, 1.221779999999...</td>\n",
       "      <td>0.603237</td>\n",
       "      <td>0.476855</td>\n",
       "      <td>0.272933</td>\n",
       "      <td>...</td>\n",
       "      <td>0.494801</td>\n",
       "      <td>-0.384827</td>\n",
       "      <td>1.153304</td>\n",
       "      <td>0.121670</td>\n",
       "      <td>0.077880</td>\n",
       "      <td>0.057544</td>\n",
       "      <td>0.38794</td>\n",
       "      <td>0.18942</td>\n",
       "      <td>0.31164</td>\n",
       "      <td>1</td>\n",
       "    </tr>\n",
       "  </tbody>\n",
       "</table>\n",
       "<p>374 rows × 35 columns</p>\n",
       "</div>"
      ],
      "text/plain": [
       "     SubjectID Device  ActivityID  TrialNo  \\\n",
       "0            4  Waist          13        5   \n",
       "1            4  Waist          13        6   \n",
       "2            4  Waist          13        8   \n",
       "3            4  Waist          13        9   \n",
       "4            4  Waist          13       11   \n",
       "..         ...    ...         ...      ...   \n",
       "369          7  Waist         133        1   \n",
       "370          7  Waist         134        1   \n",
       "371          7  Waist         134        2   \n",
       "372          7  Waist         135        1   \n",
       "373          7  Waist         135        2   \n",
       "\n",
       "                                                   Acc  \\\n",
       "0    [[0.9323239999999999, 0.250588, -0.240096], [0...   \n",
       "1    [[0.946232, 0.285968, 0.196664], [0.934276, 0....   \n",
       "2    [[0.853268, 0.42578, 0.156892], [0.849608, 0.4...   \n",
       "3    [[1.318088, -0.075396, 0.071004], [1.382992, -...   \n",
       "4    [[0.726876, 0.114192, 0.551196], [0.793976, 0....   \n",
       "..                                                 ...   \n",
       "369  [[0.9699, 0.074908, -0.131272], [0.970388, 0.0...   \n",
       "370  [[0.9015799999999999, 0.360876, -0.127124], [0...   \n",
       "371  [[0.86254, 0.459696, -0.086376], [0.861564, 0....   \n",
       "372  [[0.97112, 0.126636, -0.006344], [0.972096, 0....   \n",
       "373  [[0.974536, -0.010735999999999999, 0.082228], ...   \n",
       "\n",
       "                                                   Gyr  \\\n",
       "0    [[12.46, 6.720000000000001, 3.3600000000000003...   \n",
       "1    [[38.85, 8.47, 13.580000000000002], [40.320000...   \n",
       "2    [[-11.760000000000002, -0.35000000000000003, -...   \n",
       "3    [[74.41000000000001, 75.81, -7.490000000000001...   \n",
       "4    [[-6.86, 38.50000000000001, -10.01000000000000...   \n",
       "..                                                 ...   \n",
       "369  [[-1.54, 1.54, -0.6300000000000001], [-1.96000...   \n",
       "370  [[-0.77, 2.1700000000000004, 1.33], [-2.030000...   \n",
       "371  [[-1.2600000000000002, 0.77, 0.56], [-1.54, 0....   \n",
       "372  [[-2.7300000000000004, 1.33, 1.05], [-2.730000...   \n",
       "373  [[-1.05, 1.12, 0.77], [-1.12, 1.54, 0.91000000...   \n",
       "\n",
       "                                                   Mag  Mean Acc X  \\\n",
       "0    [[0.36022, 0.34328, 0.9465399999999999], [0.36...    0.710917   \n",
       "1    [[0.26768, 0.16155999999999998, 0.903419999999...    0.609119   \n",
       "2    [[0.28812, 0.19068, 1.24796], [0.2890999999999...    0.766136   \n",
       "3    [[0.3031, 0.45653999999999995, 0.7859599999999...    0.885489   \n",
       "4    [[0.34174, 0.36763999999999997, 0.881579999999...    0.786925   \n",
       "..                                                 ...         ...   \n",
       "369  [[0.6202, -0.06817999999999999, 1.097319999999...    0.289409   \n",
       "370  [[0.5909399999999999, -0.31961999999999996, 1....    0.265955   \n",
       "371  [[0.5726, -0.36904, 1.3642999999999998], [0.57...    0.410056   \n",
       "372  [[0.6071799999999999, -0.34215999999999996, 1....    0.557389   \n",
       "373  [[0.6332199999999999, -0.29932, 1.221779999999...    0.603237   \n",
       "\n",
       "     Mean Acc Y  Mean Acc Z  ...  Mean Mag X  Mean Mag Y  Mean Mag Z  \\\n",
       "0      0.412293    0.258561  ...    0.201420    0.227774    0.950763   \n",
       "1      0.450429    0.448918  ...    0.130592    0.172589    0.777118   \n",
       "2      0.510574    0.282644  ...    0.272868    0.169999    1.163929   \n",
       "3      0.112642    0.319031  ...    0.258991    0.289281    0.867124   \n",
       "4      0.391165    0.340511  ...    0.302973    0.229208    1.034045   \n",
       "..          ...         ...  ...         ...         ...         ...   \n",
       "369    0.473134    0.061094  ...    0.489188   -0.227064    0.992825   \n",
       "370    0.363287    0.384298  ...    0.466250   -0.299380    1.002069   \n",
       "371    0.209789   -0.547802  ...    0.365947   -0.215355    1.346780   \n",
       "372    0.542957    0.249808  ...    0.467559   -0.409185    1.156426   \n",
       "373    0.476855    0.272933  ...    0.494801   -0.384827    1.153304   \n",
       "\n",
       "     Std Mag X  Std Mag Y  Std Mag Z  Rng Mag X  Rng Mag Y  Rng Mag Z  Fall  \n",
       "0     0.140818   0.102136   0.213355    0.44884    0.39452    0.80038     0  \n",
       "1     0.132449   0.010619   0.112765    0.31206    0.07168    0.27916     0  \n",
       "2     0.017516   0.027627   0.080432    0.05684    0.09968    0.21714     0  \n",
       "3     0.060359   0.110449   0.186161    0.17416    0.34692    0.56336     0  \n",
       "4     0.036124   0.074548   0.140267    0.29106    0.27902    0.88116     0  \n",
       "..         ...        ...        ...        ...        ...        ...   ...  \n",
       "369   0.140160   0.165047   0.099177    0.56896    0.39368    0.37450     1  \n",
       "370   0.133864   0.028454   0.343562    0.45598    0.20510    0.76314     1  \n",
       "371   0.210943   0.157276   0.023506    0.45696    0.35658    0.18802     1  \n",
       "372   0.122783   0.055591   0.086048    0.35840    0.14252    0.34538     1  \n",
       "373   0.121670   0.077880   0.057544    0.38794    0.18942    0.31164     1  \n",
       "\n",
       "[374 rows x 35 columns]"
      ]
     },
     "execution_count": 18,
     "metadata": {},
     "output_type": "execute_result"
    }
   ],
   "source": [
    "\n",
    "df4 = pd.read_pickle('Dataframes/Dataframe3.pkl')\n",
    "subject_out = df4[df4['SubjectID'] == 4]                        # When tested alone it had an accuracy of 92.59\n",
    "subject_out = subject_out.append(df4[df4['SubjectID'] == 8])    # When tested alone it had an accuracy of 89.90\n",
    "subject_out = subject_out.append(df4[df4['SubjectID'] == 7])    # When tested alone it had an accuracy of 86.95\n",
    "for x in range(3):\n",
    "    df4.drop(df4[df4.SubjectID == value[x]].index, inplace=True)\n",
    "    \n",
    "\n",
    "subject_out.reset_index(drop=True, inplace=True)\n",
    "df4.reset_index(drop=True, inplace=True)\n",
    "X3 = df4.iloc[: ,7:34]\n",
    "y3 = df4['Fall']\n",
    "X_subject_out = subject_out.iloc[:, 7:34]\n",
    "y_subject_out = subject_out['Fall']\n",
    "subject_out"
   ]
  },
  {
   "cell_type": "markdown",
   "metadata": {},
   "source": [
    "#### Training model"
   ]
  },
  {
   "cell_type": "code",
   "execution_count": 8,
   "metadata": {},
   "outputs": [
    {
     "name": "stdout",
     "output_type": "stream",
     "text": [
      "{\"ok\":true,\"result\":{\"message_id\":98,\"from\":{\"id\":1917311024,\"is_bot\":true,\"first_name\":\"FallAlert\",\"username\":\"FallAlertPythonBot\"},\"chat\":{\"id\":1766671538,\"first_name\":\"Teddy\",\"last_name\":\"Ordo\\u00f1ez\",\"username\":\"teddsords\",\"type\":\"private\"},\"date\":1634318137,\"text\":\"Training is done!\"}}\n",
      "Linear accuracy score:  0.9662710528907713\n"
     ]
    }
   ],
   "source": [
    "clf4 = SVC(kernel='linear')\n",
    "scores_4 = []\n",
    "\n",
    "k_fold = StratifiedKFold(n_splits=10,shuffle=True, random_state=75)      # Creating a Stratifiedd K fold object\n",
    "# This loop can be done with one line of code using cross_val_score\n",
    "for train_index, val_index in k_fold.split(X3, y3):                      # Splitting dataset into 10 fold \n",
    "    X_train, X_val = X3.iloc[train_index], X3.iloc[val_index]\n",
    "    y_train, y_val = y3.iloc[train_index] , y3.iloc[val_index]\n",
    "\n",
    "    clf4.fit(X_train, y_train)\n",
    "    scores_4.append(clf4.score(X_val, y_val))\n",
    "\n",
    "broadcast_message(['1766671538'], 'Training is done!')\n",
    "print('Linear accuracy score: ', sum(scores_4) / len(scores_4))"
   ]
  },
  {
   "cell_type": "markdown",
   "metadata": {},
   "source": [
    "#### Testing model with the 4 subjects"
   ]
  },
  {
   "cell_type": "code",
   "execution_count": 19,
   "metadata": {},
   "outputs": [
    {
     "name": "stdout",
     "output_type": "stream",
     "text": [
      "Accuracy with another subject: 0.8903743315508021\n"
     ]
    },
    {
     "data": {
      "image/png": "[encoded data removed]",
      "text/plain": [
       "<Figure size 432x288 with 2 Axes>"
      ]
     },
     "metadata": {
      "needs_background": "light"
     },
     "output_type": "display_data"
    }
   ],
   "source": [
    "clf4 = pickle.load(open('Models/SVM_linear_3_subjects_out.sav', 'rb'))\n",
    "y_predicted_subject_out = clf4.predict(X_subject_out)\n",
    "print('Accuracy with another subject:', accuracy_score(y_subject_out, y_predicted_subject_out))\n",
    "\n",
    "con_mat = confusion_matrix(y_true=y_subject_out, y_pred=y_predicted_subject_out)\n",
    "disp = ConfusionMatrixDisplay(confusion_matrix=con_mat)\n",
    "disp.plot(cmap='Blues')\n",
    "plt.title('Confusion Matrix for SVM model with C = 1\\n Subject out are #4, 7 & 8')\n",
    "plt.show()"
   ]
  },
  {
   "cell_type": "markdown",
   "metadata": {},
   "source": [
    "#### Saving model to disk"
   ]
  },
  {
   "cell_type": "code",
   "execution_count": 32,
   "metadata": {},
   "outputs": [],
   "source": [
    "pickle.dump(clf4, open('SVM_linear_3_subjects_out.sav', 'wb'))"
   ]
  },
  {
   "cell_type": "markdown",
   "metadata": {},
   "source": [
    "## Creating model with FallAllD compatibility with DOFDA dataset\n",
    "\n",
    "Generating 4 random numbers so this way those subjects from DOFDA dataset are going to be used to test the models."
   ]
  },
  {
   "cell_type": "markdown",
   "metadata": {},
   "source": [
    "#### Generating random numbers\n",
    "\n",
    "This random numbers will determine which subjects from DOFDA dataset will be used for testing the model trained with FallAllD dataset."
   ]
  },
  {
   "cell_type": "code",
   "execution_count": 56,
   "metadata": {},
   "outputs": [
    {
     "data": {
      "text/plain": [
       "[18, 6, 4, 24]"
      ]
     },
     "execution_count": 56,
     "metadata": {},
     "output_type": "execute_result"
    }
   ],
   "source": [
    "dofda_subjects = []\n",
    "seed(628472)\n",
    "for x in range(4):\n",
    "   dofda_subjects.append(randint(1,24))\n",
    "\n",
    "dofda_subjects"
   ]
  },
  {
   "cell_type": "markdown",
   "metadata": {},
   "source": [
    "#### Creating a new dataframe of FallAllD\n",
    "\n",
    "Since the sampling frequency and sensor sensitivity is different, we have to adapt FallAllD so it can be compared to DOFDA dataset."
   ]
  },
  {
   "cell_type": "code",
   "execution_count": 68,
   "metadata": {},
   "outputs": [
    {
     "data": {
      "text/html": [
       "<div>\n",
       "<style scoped>\n",
       "    .dataframe tbody tr th:only-of-type {\n",
       "        vertical-align: middle;\n",
       "    }\n",
       "\n",
       "    .dataframe tbody tr th {\n",
       "        vertical-align: top;\n",
       "    }\n",
       "\n",
       "    .dataframe thead th {\n",
       "        text-align: right;\n",
       "    }\n",
       "</style>\n",
       "<table border=\"1\" class=\"dataframe\">\n",
       "  <thead>\n",
       "    <tr style=\"text-align: right;\">\n",
       "      <th></th>\n",
       "      <th>SubjectID</th>\n",
       "      <th>Device</th>\n",
       "      <th>ActivityID</th>\n",
       "      <th>TrialNo</th>\n",
       "      <th>Acc</th>\n",
       "      <th>Gyr</th>\n",
       "      <th>Mag</th>\n",
       "      <th>Fall</th>\n",
       "    </tr>\n",
       "  </thead>\n",
       "  <tbody>\n",
       "    <tr>\n",
       "      <th>1793</th>\n",
       "      <td>15</td>\n",
       "      <td>Waist</td>\n",
       "      <td>131</td>\n",
       "      <td>2</td>\n",
       "      <td>[[15.22, 3.3080000000000003, 1.856], [15.288, ...</td>\n",
       "      <td>[[8.695652173913043, -10.921739130434784, -32....</td>\n",
       "      <td>[[11.452, 2.468, 16.728], [11.564, 2.74, 16.80...</td>\n",
       "      <td>1</td>\n",
       "    </tr>\n",
       "    <tr>\n",
       "      <th>1794</th>\n",
       "      <td>15</td>\n",
       "      <td>Waist</td>\n",
       "      <td>132</td>\n",
       "      <td>1</td>\n",
       "      <td>[[16.076, -2.168, 2.2560000000000002], [16.056...</td>\n",
       "      <td>[[-1.3217391304347825, 1.2521739130434784, 0.8...</td>\n",
       "      <td>[[14.268, 2.348, 6.828], [14.244, 1.972, 6.736...</td>\n",
       "      <td>1</td>\n",
       "    </tr>\n",
       "    <tr>\n",
       "      <th>1795</th>\n",
       "      <td>15</td>\n",
       "      <td>Waist</td>\n",
       "      <td>134</td>\n",
       "      <td>2</td>\n",
       "      <td>[[15.536, -6.0, 2.228], [15.5, -5.94, 2.280000...</td>\n",
       "      <td>[[2.9217391304347826, 2.9217391304347826, -0.5...</td>\n",
       "      <td>[[10.508000000000001, 9.852, -1.768], [10.9, 9...</td>\n",
       "      <td>1</td>\n",
       "    </tr>\n",
       "    <tr>\n",
       "      <th>1796</th>\n",
       "      <td>15</td>\n",
       "      <td>Waist</td>\n",
       "      <td>135</td>\n",
       "      <td>1</td>\n",
       "      <td>[[16.18, -0.608, 1.62], [16.172, -0.5720000000...</td>\n",
       "      <td>[[1.4608695652173913, 0.48695652173913045, 0.0...</td>\n",
       "      <td>[[14.084, 3.436, 13.016], [14.236, 3.428, 13.0...</td>\n",
       "      <td>1</td>\n",
       "    </tr>\n",
       "    <tr>\n",
       "      <th>1797</th>\n",
       "      <td>15</td>\n",
       "      <td>Waist</td>\n",
       "      <td>135</td>\n",
       "      <td>2</td>\n",
       "      <td>[[16.024, -2.7640000000000002, 0.0720000000000...</td>\n",
       "      <td>[[-0.1391304347826087, 0.6260869565217392, 0.4...</td>\n",
       "      <td>[[13.276, 9.78, 5.136], [13.396, 9.62000000000...</td>\n",
       "      <td>1</td>\n",
       "    </tr>\n",
       "  </tbody>\n",
       "</table>\n",
       "</div>"
      ],
      "text/plain": [
       "      SubjectID Device  ActivityID  TrialNo  \\\n",
       "1793         15  Waist         131        2   \n",
       "1794         15  Waist         132        1   \n",
       "1795         15  Waist         134        2   \n",
       "1796         15  Waist         135        1   \n",
       "1797         15  Waist         135        2   \n",
       "\n",
       "                                                    Acc  \\\n",
       "1793  [[15.22, 3.3080000000000003, 1.856], [15.288, ...   \n",
       "1794  [[16.076, -2.168, 2.2560000000000002], [16.056...   \n",
       "1795  [[15.536, -6.0, 2.228], [15.5, -5.94, 2.280000...   \n",
       "1796  [[16.18, -0.608, 1.62], [16.172, -0.5720000000...   \n",
       "1797  [[16.024, -2.7640000000000002, 0.0720000000000...   \n",
       "\n",
       "                                                    Gyr  \\\n",
       "1793  [[8.695652173913043, -10.921739130434784, -32....   \n",
       "1794  [[-1.3217391304347825, 1.2521739130434784, 0.8...   \n",
       "1795  [[2.9217391304347826, 2.9217391304347826, -0.5...   \n",
       "1796  [[1.4608695652173913, 0.48695652173913045, 0.0...   \n",
       "1797  [[-0.1391304347826087, 0.6260869565217392, 0.4...   \n",
       "\n",
       "                                                    Mag  Fall  \n",
       "1793  [[11.452, 2.468, 16.728], [11.564, 2.74, 16.80...     1  \n",
       "1794  [[14.268, 2.348, 6.828], [14.244, 1.972, 6.736...     1  \n",
       "1795  [[10.508000000000001, 9.852, -1.768], [10.9, 9...     1  \n",
       "1796  [[14.084, 3.436, 13.016], [14.236, 3.428, 13.0...     1  \n",
       "1797  [[13.276, 9.78, 5.136], [13.396, 9.62000000000...     1  "
      ]
     },
     "execution_count": 68,
     "metadata": {},
     "output_type": "execute_result"
    }
   ],
   "source": [
    "original_df = pd.read_pickle('FallAllD.pkl')     # Reading original Dataset\n",
    "\n",
    "FallAllD_compatible = original_df.copy()         # Creating a copy of original datset into the variable\n",
    "FallAllD_compatible['Fall'] = 0                  # Creating a new column with Fall, which become our output\n",
    "for x in FallAllD_compatible.index:\n",
    "    if (FallAllD_compatible.iloc[x, 2] > 100):           # Checking whether the row represents a Fall or ADL, second index refers to ActivityID\n",
    "        FallAllD_compatible.iloc[x, -1] = 1              # If activity ID is above 100, the row represents a Fall\n",
    "    else:\n",
    "        FallAllD_compatible.iloc[x, -1] = 0              # Else, row represents a ADL\n",
    "\n",
    "FallAllD_compatible['Acc'] = FallAllD_compatible['Acc'] * 0.004        # Since values are not stored with original values, this becomes useful\n",
    "FallAllD_compatible['Gyr'] = FallAllD_compatible['Gyr'] * (1/14.375)   # to modify data to become the same as another sensor used by another project\n",
    "FallAllD_compatible['Mag'] = FallAllD_compatible['Mag'] * 0.004        # so to get real data we will multiply each value by the respective sensor sensitivy\n",
    "\n",
    "FallAllD_compatible.tail()"
   ]
  },
  {
   "cell_type": "markdown",
   "metadata": {},
   "source": [
    "#### Adding Statistical features"
   ]
  },
  {
   "cell_type": "code",
   "execution_count": 70,
   "metadata": {},
   "outputs": [
    {
     "data": {
      "text/html": [
       "<div>\n",
       "<style scoped>\n",
       "    .dataframe tbody tr th:only-of-type {\n",
       "        vertical-align: middle;\n",
       "    }\n",
       "\n",
       "    .dataframe tbody tr th {\n",
       "        vertical-align: top;\n",
       "    }\n",
       "\n",
       "    .dataframe thead th {\n",
       "        text-align: right;\n",
       "    }\n",
       "</style>\n",
       "<table border=\"1\" class=\"dataframe\">\n",
       "  <thead>\n",
       "    <tr style=\"text-align: right;\">\n",
       "      <th></th>\n",
       "      <th>SubjectID</th>\n",
       "      <th>Device</th>\n",
       "      <th>ActivityID</th>\n",
       "      <th>TrialNo</th>\n",
       "      <th>Acc</th>\n",
       "      <th>Gyr</th>\n",
       "      <th>Mag</th>\n",
       "      <th>Mean Acc X</th>\n",
       "      <th>Mean Acc Y</th>\n",
       "      <th>Mean Acc Z</th>\n",
       "      <th>...</th>\n",
       "      <th>Mean Mag X</th>\n",
       "      <th>Mean Mag Y</th>\n",
       "      <th>Mean Mag Z</th>\n",
       "      <th>Std Mag X</th>\n",
       "      <th>Std Mag Y</th>\n",
       "      <th>Std Mag Z</th>\n",
       "      <th>Rng Mag X</th>\n",
       "      <th>Rng Mag Y</th>\n",
       "      <th>Rng Mag Z</th>\n",
       "      <th>Fall</th>\n",
       "    </tr>\n",
       "  </thead>\n",
       "  <tbody>\n",
       "    <tr>\n",
       "      <th>0</th>\n",
       "      <td>1</td>\n",
       "      <td>Waist</td>\n",
       "      <td>13</td>\n",
       "      <td>1</td>\n",
       "      <td>[[16.248, -5.712, -0.18], [16.76, -5.688, -0.0...</td>\n",
       "      <td>[[94.26086956521739, 1.4608695652173913, 11.06...</td>\n",
       "      <td>[[22.164, 6.204, 11.548], [22.272000000000002,...</td>\n",
       "      <td>15.107906</td>\n",
       "      <td>-3.304263</td>\n",
       "      <td>2.816519</td>\n",
       "      <td>...</td>\n",
       "      <td>22.528833</td>\n",
       "      <td>8.753138</td>\n",
       "      <td>7.112868</td>\n",
       "      <td>0.867299</td>\n",
       "      <td>1.791368</td>\n",
       "      <td>2.955682</td>\n",
       "      <td>4.560</td>\n",
       "      <td>7.796</td>\n",
       "      <td>10.300</td>\n",
       "      <td>0</td>\n",
       "    </tr>\n",
       "    <tr>\n",
       "      <th>1</th>\n",
       "      <td>1</td>\n",
       "      <td>Waist</td>\n",
       "      <td>13</td>\n",
       "      <td>2</td>\n",
       "      <td>[[14.948, -6.196, 0.632], [14.916, -6.212, 0.6...</td>\n",
       "      <td>[[-0.2782608695652174, 0.0, -0.069565217391304...</td>\n",
       "      <td>[[20.740000000000002, 11.368, 9.068], [20.88, ...</td>\n",
       "      <td>14.912928</td>\n",
       "      <td>-4.493977</td>\n",
       "      <td>2.865341</td>\n",
       "      <td>...</td>\n",
       "      <td>21.605538</td>\n",
       "      <td>10.855000</td>\n",
       "      <td>7.301168</td>\n",
       "      <td>0.941924</td>\n",
       "      <td>0.973376</td>\n",
       "      <td>2.136848</td>\n",
       "      <td>4.188</td>\n",
       "      <td>4.676</td>\n",
       "      <td>6.412</td>\n",
       "      <td>0</td>\n",
       "    </tr>\n",
       "    <tr>\n",
       "      <th>2</th>\n",
       "      <td>1</td>\n",
       "      <td>Waist</td>\n",
       "      <td>13</td>\n",
       "      <td>5</td>\n",
       "      <td>[[15.816, -1.604, -0.428], [15.576, -1.3840000...</td>\n",
       "      <td>[[12.31304347826087, 12.034782608695652, 12.31...</td>\n",
       "      <td>[[22.504, 8.592, 12.228], [22.408, 8.508000000...</td>\n",
       "      <td>15.149850</td>\n",
       "      <td>-0.146541</td>\n",
       "      <td>3.483840</td>\n",
       "      <td>...</td>\n",
       "      <td>22.847735</td>\n",
       "      <td>7.259533</td>\n",
       "      <td>7.725542</td>\n",
       "      <td>0.481693</td>\n",
       "      <td>1.477191</td>\n",
       "      <td>3.302708</td>\n",
       "      <td>2.832</td>\n",
       "      <td>7.520</td>\n",
       "      <td>11.996</td>\n",
       "      <td>0</td>\n",
       "    </tr>\n",
       "    <tr>\n",
       "      <th>3</th>\n",
       "      <td>1</td>\n",
       "      <td>Waist</td>\n",
       "      <td>13</td>\n",
       "      <td>6</td>\n",
       "      <td>[[15.968, -2.728, -0.132], [15.952, -2.7760000...</td>\n",
       "      <td>[[0.8347826086956522, 0.9043478260869565, 0.62...</td>\n",
       "      <td>[[22.12, 10.144, 10.852], [22.084, 10.244, 11....</td>\n",
       "      <td>14.913143</td>\n",
       "      <td>-0.523803</td>\n",
       "      <td>3.846560</td>\n",
       "      <td>...</td>\n",
       "      <td>22.217548</td>\n",
       "      <td>9.101418</td>\n",
       "      <td>8.015515</td>\n",
       "      <td>0.448306</td>\n",
       "      <td>1.068934</td>\n",
       "      <td>3.414722</td>\n",
       "      <td>2.704</td>\n",
       "      <td>4.972</td>\n",
       "      <td>9.148</td>\n",
       "      <td>0</td>\n",
       "    </tr>\n",
       "    <tr>\n",
       "      <th>4</th>\n",
       "      <td>1</td>\n",
       "      <td>Waist</td>\n",
       "      <td>13</td>\n",
       "      <td>9</td>\n",
       "      <td>[[8.892, 0.668, -0.07200000000000001], [8.5560...</td>\n",
       "      <td>[[-27.547826086956523, -11.339130434782609, 2....</td>\n",
       "      <td>[[23.008, 8.284, 10.892], [23.204, 8.88, 10.46...</td>\n",
       "      <td>14.817563</td>\n",
       "      <td>2.799566</td>\n",
       "      <td>3.498118</td>\n",
       "      <td>...</td>\n",
       "      <td>23.091453</td>\n",
       "      <td>5.798868</td>\n",
       "      <td>7.557822</td>\n",
       "      <td>0.601801</td>\n",
       "      <td>1.480950</td>\n",
       "      <td>3.262800</td>\n",
       "      <td>2.848</td>\n",
       "      <td>8.196</td>\n",
       "      <td>11.228</td>\n",
       "      <td>0</td>\n",
       "    </tr>\n",
       "  </tbody>\n",
       "</table>\n",
       "<p>5 rows × 35 columns</p>\n",
       "</div>"
      ],
      "text/plain": [
       "   SubjectID Device  ActivityID  TrialNo  \\\n",
       "0          1  Waist          13        1   \n",
       "1          1  Waist          13        2   \n",
       "2          1  Waist          13        5   \n",
       "3          1  Waist          13        6   \n",
       "4          1  Waist          13        9   \n",
       "\n",
       "                                                 Acc  \\\n",
       "0  [[16.248, -5.712, -0.18], [16.76, -5.688, -0.0...   \n",
       "1  [[14.948, -6.196, 0.632], [14.916, -6.212, 0.6...   \n",
       "2  [[15.816, -1.604, -0.428], [15.576, -1.3840000...   \n",
       "3  [[15.968, -2.728, -0.132], [15.952, -2.7760000...   \n",
       "4  [[8.892, 0.668, -0.07200000000000001], [8.5560...   \n",
       "\n",
       "                                                 Gyr  \\\n",
       "0  [[94.26086956521739, 1.4608695652173913, 11.06...   \n",
       "1  [[-0.2782608695652174, 0.0, -0.069565217391304...   \n",
       "2  [[12.31304347826087, 12.034782608695652, 12.31...   \n",
       "3  [[0.8347826086956522, 0.9043478260869565, 0.62...   \n",
       "4  [[-27.547826086956523, -11.339130434782609, 2....   \n",
       "\n",
       "                                                 Mag  Mean Acc X  Mean Acc Y  \\\n",
       "0  [[22.164, 6.204, 11.548], [22.272000000000002,...   15.107906   -3.304263   \n",
       "1  [[20.740000000000002, 11.368, 9.068], [20.88, ...   14.912928   -4.493977   \n",
       "2  [[22.504, 8.592, 12.228], [22.408, 8.508000000...   15.149850   -0.146541   \n",
       "3  [[22.12, 10.144, 10.852], [22.084, 10.244, 11....   14.913143   -0.523803   \n",
       "4  [[23.008, 8.284, 10.892], [23.204, 8.88, 10.46...   14.817563    2.799566   \n",
       "\n",
       "   Mean Acc Z  ...  Mean Mag X  Mean Mag Y  Mean Mag Z  Std Mag X  Std Mag Y  \\\n",
       "0    2.816519  ...   22.528833    8.753138    7.112868   0.867299   1.791368   \n",
       "1    2.865341  ...   21.605538   10.855000    7.301168   0.941924   0.973376   \n",
       "2    3.483840  ...   22.847735    7.259533    7.725542   0.481693   1.477191   \n",
       "3    3.846560  ...   22.217548    9.101418    8.015515   0.448306   1.068934   \n",
       "4    3.498118  ...   23.091453    5.798868    7.557822   0.601801   1.480950   \n",
       "\n",
       "   Std Mag Z  Rng Mag X  Rng Mag Y  Rng Mag Z  Fall  \n",
       "0   2.955682      4.560      7.796     10.300     0  \n",
       "1   2.136848      4.188      4.676      6.412     0  \n",
       "2   3.302708      2.832      7.520     11.996     0  \n",
       "3   3.414722      2.704      4.972      9.148     0  \n",
       "4   3.262800      2.848      8.196     11.228     0  \n",
       "\n",
       "[5 rows x 35 columns]"
      ]
     },
     "execution_count": 70,
     "metadata": {},
     "output_type": "execute_result"
    }
   ],
   "source": [
    "# Since we are going to be using basic statistical features, we need to create new columns for each one of them\n",
    "# Those features are: Mean, Standar Deviation and Range.\n",
    "# We create a new column for each feature and for each axis, then we have 9 new columns for each sensor\n",
    "# Totalling 9 new columns per sensor, finally creating 18 new columns\n",
    "FallAllD_compatible['Mean Acc X'] = -1\n",
    "FallAllD_compatible['Mean Acc Y'] = -1\n",
    "FallAllD_compatible['Mean Acc Z'] = -1\n",
    "FallAllD_compatible['Std Acc X'] = -1\n",
    "FallAllD_compatible['Std Acc Y'] = -1\n",
    "FallAllD_compatible['Std Acc Z'] = -1\n",
    "FallAllD_compatible['Rng Acc X'] = -1\n",
    "FallAllD_compatible['Rng Acc Y'] = -1\n",
    "FallAllD_compatible['Rng Acc Z'] = -1\n",
    "\n",
    "FallAllD_compatible['Mean Gyr X'] = -1\n",
    "FallAllD_compatible['Mean Gyr Y'] = -1\n",
    "FallAllD_compatible['Mean Gyr Z'] = -1\n",
    "FallAllD_compatible['Std Gyr X'] = -1\n",
    "FallAllD_compatible['Std Gyr Y'] = -1\n",
    "FallAllD_compatible['Std Gyr Z'] = -1\n",
    "FallAllD_compatible['Rng Gyr X'] = -1\n",
    "FallAllD_compatible['Rng Gyr Y'] = -1\n",
    "FallAllD_compatible['Rng Gyr Z'] = -1\n",
    "\n",
    "FallAllD_compatible['Mean Mag X'] = -1\n",
    "FallAllD_compatible['Mean Mag Y'] = -1\n",
    "FallAllD_compatible['Mean Mag Z'] = -1\n",
    "FallAllD_compatible['Std Mag X'] = -1\n",
    "FallAllD_compatible['Std Mag Y'] = -1\n",
    "FallAllD_compatible['Std Mag Z'] = -1\n",
    "FallAllD_compatible['Rng Mag X'] = -1\n",
    "FallAllD_compatible['Rng Mag Y'] = -1\n",
    "FallAllD_compatible['Rng Mag Z'] = -1\n",
    "''''''\n",
    "for x in FallAllD_compatible.index:\n",
    "    \n",
    "    AccX = pd.DataFrame(FallAllD_compatible.iloc[x].Acc.tolist())[0]     # Creating a dataframe containing acceleration in X\n",
    "    AccY = pd.DataFrame(FallAllD_compatible.iloc[x].Acc.tolist())[1]     # Creating a dataframe containing acceleration in Y\n",
    "    AccZ = pd.DataFrame(FallAllD_compatible.iloc[x].Acc.tolist())[2]     # Creating a dataframe containing acceleration in Z\n",
    "    \n",
    "    GyrX = pd.DataFrame(FallAllD_compatible.iloc[x].Gyr.tolist())[0]     # Creating a dataframe containing angular velocity in X\n",
    "    GyrY = pd.DataFrame(FallAllD_compatible.iloc[x].Gyr.tolist())[1]     # Creating a dataframe containing angular velocity in Y\n",
    "    GyrZ = pd.DataFrame(FallAllD_compatible.iloc[x].Gyr.tolist())[2]     # Creating a dataframe containing angular velocity in Z\n",
    "\n",
    "    MagX = pd.DataFrame(FallAllD_compatible.iloc[x].Mag.tolist())[0]     # Creating a dataframe containing magnetic field in X\n",
    "    MagY = pd.DataFrame(FallAllD_compatible.iloc[x].Mag.tolist())[1]     # Creating a dataframe containing magnetic field in Y\n",
    "    MagZ = pd.DataFrame(FallAllD_compatible.iloc[x].Mag.tolist())[2]     # Creating a dataframe containing magnetic field in Z\n",
    "\n",
    "    FallAllD_compatible.iloc[x, 8] = AccX.mean()                         # Setting the value of Mean acceleration in X, Y and Z\n",
    "    FallAllD_compatible.iloc[x, 9] = AccY.mean()                         \n",
    "    FallAllD_compatible.iloc[x, 10] = AccZ.mean()                        \n",
    "    FallAllD_compatible.iloc[x, 11] = AccX.std()                         # Setting the value of the Standard Deviation of acceleration in X, Y and Z\n",
    "    FallAllD_compatible.iloc[x, 12] = AccY.std()\n",
    "    FallAllD_compatible.iloc[x, 13] = AccZ.std()\n",
    "    FallAllD_compatible.iloc[x, 14] = AccX.max() - AccX.min()            # Setting the value of the Range of acceleration in X, Y and Z\n",
    "    FallAllD_compatible.iloc[x, 15] = AccY.max() - AccY.min()\n",
    "    FallAllD_compatible.iloc[x, 16] = AccZ.max() - AccZ.min()\n",
    "\n",
    "    FallAllD_compatible.iloc[x, 17] = GyrX.mean()                        # Setting the value of Mean angular velocity in X, Y and Z\n",
    "    FallAllD_compatible.iloc[x, 18] = GyrY.mean()\n",
    "    FallAllD_compatible.iloc[x, 19] = GyrZ.mean()\n",
    "    FallAllD_compatible.iloc[x, 20] = GyrX.std()                         # Setting the value of the Standard Deviation of angular velocity in X, Y and Z\n",
    "    FallAllD_compatible.iloc[x, 21] = GyrY.std()\n",
    "    FallAllD_compatible.iloc[x, 22] = GyrZ.std()\n",
    "    FallAllD_compatible.iloc[x, 23] = GyrX.max() - GyrX.min()            # Setting the value of the Range of angular velocity in X, Y and Z\n",
    "    FallAllD_compatible.iloc[x, 24] = GyrY.max() - GyrY.min()\n",
    "    FallAllD_compatible.iloc[x, 25] = GyrZ.max() - GyrZ.min()\n",
    "\n",
    "    FallAllD_compatible.iloc[x, 26] = MagX.mean()                        # Setting the value of Mean magnetic field in X, Y and Z\n",
    "    FallAllD_compatible.iloc[x, 27] = MagY.mean()\n",
    "    FallAllD_compatible.iloc[x, 28] = MagZ.mean()\n",
    "    FallAllD_compatible.iloc[x, 29] = MagX.std()                         # Setting the value of the Standard Deviation of magnetic field in X, Y and Z\n",
    "    FallAllD_compatible.iloc[x, 30] = MagY.std()\n",
    "    FallAllD_compatible.iloc[x, 31] = MagZ.std()\n",
    "    FallAllD_compatible.iloc[x, 32] = MagX.max() - MagX.min()            # Setting the value of the Range of magnetic field in X, Y and Z\n",
    "    FallAllD_compatible.iloc[x, 33] = MagY.max() - MagY.min()\n",
    "    FallAllD_compatible.iloc[x, 34] = MagZ.max() - MagZ.min()\n",
    "\n",
    "col = FallAllD_compatible.pop('Fall')            # Popping Fall column\n",
    "\n",
    "FallAllD_compatible.insert(34, col.name, col)    # Rearranging columns, so Fall column will be at the end of the dataframe\n",
    "\n",
    "FallAllD_compatible.head()\n",
    "#FallAllD_compatible.to_pickle('FallAllD with DOFDA sampling frequency and sensitivity.pkl')"
   ]
  },
  {
   "cell_type": "markdown",
   "metadata": {},
   "source": [
    "#### Separating values for independent and dependent variables"
   ]
  },
  {
   "cell_type": "code",
   "execution_count": 74,
   "metadata": {},
   "outputs": [
    {
     "data": {
      "text/plain": [
       "1793    1\n",
       "1794    1\n",
       "1795    1\n",
       "1796    1\n",
       "1797    1\n",
       "Name: Fall, dtype: int64"
      ]
     },
     "execution_count": 74,
     "metadata": {},
     "output_type": "execute_result"
    }
   ],
   "source": [
    "X_fallalld_compatible = FallAllD_compatible.iloc[:, 7:34]\n",
    "y_fallalld_compatible = FallAllD_compatible['Fall']"
   ]
  },
  {
   "cell_type": "markdown",
   "metadata": {},
   "source": [
    "#### Train and test split of variables"
   ]
  },
  {
   "cell_type": "code",
   "execution_count": 82,
   "metadata": {},
   "outputs": [
    {
     "data": {
      "text/plain": [
       "((1456, 27), (146, 27))"
      ]
     },
     "execution_count": 82,
     "metadata": {},
     "output_type": "execute_result"
    }
   ],
   "source": [
    "X_fallalld_compatible_rem, X_test_fallalld, y_fallalld_compatible_rem, y_test_fallalld = train_test_split(X_fallalld_compatible, y_fallalld_compatible, \n",
    "                                                                                                  test_size=0.1, train_size=0.9, random_state=1087,\n",
    "                                                                                                  stratify=y_fallalld_compatible)\n",
    "X_fallalld_compatible.shape, X_test_fallalld.shape"
   ]
  },
  {
   "cell_type": "markdown",
   "metadata": {},
   "source": [
    "#### Training and validating model"
   ]
  },
  {
   "cell_type": "code",
   "execution_count": 85,
   "metadata": {},
   "outputs": [
    {
     "name": "stdout",
     "output_type": "stream",
     "text": [
      "{\"ok\":true,\"result\":{\"message_id\":102,\"from\":{\"id\":1917311024,\"is_bot\":true,\"first_name\":\"FallAlert\",\"username\":\"FallAlertPythonBot\"},\"chat\":{\"id\":1766671538,\"first_name\":\"Teddy\",\"last_name\":\"Ordo\\u00f1ez\",\"username\":\"teddsords\",\"type\":\"private\"},\"date\":1634418684,\"text\":\"Training is done!\"}}\n",
      "Linear accuracy score:  0.9450381679389313\n"
     ]
    }
   ],
   "source": [
    "scores_fallalld_dofda = []\n",
    "clf_fallalld_dofda= SVC(kernel='linear')\n",
    "\n",
    "k_fold = StratifiedKFold(n_splits=10,shuffle=True, random_state=959)      # Creating a Stratifiedd K fold object\n",
    "# This loop can be done with one line of code using cross_val_score\n",
    "for train_index, val_index in k_fold.split(X_fallalld_compatible_rem, y_fallalld_compatible_rem):                      # Splitting dataset into 10 fold \n",
    "    X_train, X_val = X_fallalld_compatible_rem.iloc[train_index], X_fallalld_compatible_rem.iloc[val_index]\n",
    "    y_train, y_val = y_fallalld_compatible_rem.iloc[train_index] , y_fallalld_compatible_rem.iloc[val_index]\n",
    "\n",
    "    clf_fallalld_dofda.fit(X_train, y_train)\n",
    "    scores_fallalld_dofda.append(clf_fallalld_dofda.score(X_val, y_val))\n",
    "\n",
    "broadcast_message(['1766671538'], 'Training is done!')\n",
    "print('Linear accuracy score: ', sum(scores_fallalld_dofda) / len(scores_fallalld_dofda))"
   ]
  },
  {
   "cell_type": "markdown",
   "metadata": {},
   "source": [
    "#### Testing model with testing set"
   ]
  },
  {
   "cell_type": "code",
   "execution_count": 86,
   "metadata": {},
   "outputs": [
    {
     "name": "stdout",
     "output_type": "stream",
     "text": [
      "Accuracy:  93.83561643835617\n"
     ]
    }
   ],
   "source": [
    "y2_predicted_fallalld_compatible = clf_fallalld_dofda.predict(X_test_fallalld)\n",
    "print('Accuracy: ', (accuracy_score(y_test_fallalld, y2_predicted_fallalld_compatible))*100)"
   ]
  },
  {
   "cell_type": "code",
   "execution_count": 91,
   "metadata": {},
   "outputs": [
    {
     "data": {
      "image/png": "[encoded data removed]",
      "text/plain": [
       "<Figure size 432x288 with 2 Axes>"
      ]
     },
     "metadata": {
      "needs_background": "light"
     },
     "output_type": "display_data"
    }
   ],
   "source": [
    "con_mat = confusion_matrix(y_true=y_test_fallalld, y_pred=y2_predicted_fallalld_compatible)\n",
    "disp = ConfusionMatrixDisplay(confusion_matrix=con_mat)\n",
    "disp.plot(cmap='Blues')\n",
    "plt.title('Confusion Matrix for SVM model with\\n FallAllD, trained with FallAllD compatible')\n",
    "plt.show()"
   ]
  },
  {
   "cell_type": "markdown",
   "metadata": {},
   "source": [
    "#### Testing model with DOFDA dataset subjects "
   ]
  },
  {
   "cell_type": "markdown",
   "metadata": {},
   "source": [
    "##### Reading DOFDA sub-dataset"
   ]
  },
  {
   "cell_type": "code",
   "execution_count": 3,
   "metadata": {},
   "outputs": [
    {
     "data": {
      "text/html": [
       "<div>\n",
       "<style scoped>\n",
       "    .dataframe tbody tr th:only-of-type {\n",
       "        vertical-align: middle;\n",
       "    }\n",
       "\n",
       "    .dataframe tbody tr th {\n",
       "        vertical-align: top;\n",
       "    }\n",
       "\n",
       "    .dataframe thead th {\n",
       "        text-align: right;\n",
       "    }\n",
       "</style>\n",
       "<table border=\"1\" class=\"dataframe\">\n",
       "  <thead>\n",
       "    <tr style=\"text-align: right;\">\n",
       "      <th></th>\n",
       "      <th>Mean Acc X</th>\n",
       "      <th>Mean Acc Y</th>\n",
       "      <th>Mean Acc Z</th>\n",
       "      <th>Std Acc X</th>\n",
       "      <th>Std Acc Y</th>\n",
       "      <th>Std Acc Z</th>\n",
       "      <th>Rng Acc X</th>\n",
       "      <th>Rng Acc Y</th>\n",
       "      <th>Rng Acc Z</th>\n",
       "      <th>Mean Gyr X</th>\n",
       "      <th>...</th>\n",
       "      <th>Mean Mag X</th>\n",
       "      <th>Mean Mag Y</th>\n",
       "      <th>Mean Mag Z</th>\n",
       "      <th>Std Mag X</th>\n",
       "      <th>Std Mag Y</th>\n",
       "      <th>Std Mag Z</th>\n",
       "      <th>Rng Mag X</th>\n",
       "      <th>Rng Mag Y</th>\n",
       "      <th>Rng Mag Z</th>\n",
       "      <th>Fall</th>\n",
       "    </tr>\n",
       "  </thead>\n",
       "  <tbody>\n",
       "    <tr>\n",
       "      <th>67</th>\n",
       "      <td>0.070096</td>\n",
       "      <td>0.563910</td>\n",
       "      <td>0.535160</td>\n",
       "      <td>0.338486</td>\n",
       "      <td>0.457539</td>\n",
       "      <td>0.540654</td>\n",
       "      <td>3.48</td>\n",
       "      <td>6.31</td>\n",
       "      <td>4.47</td>\n",
       "      <td>-2.756058</td>\n",
       "      <td>...</td>\n",
       "      <td>300.734038</td>\n",
       "      <td>-571.446346</td>\n",
       "      <td>-216.737179</td>\n",
       "      <td>103.578420</td>\n",
       "      <td>89.140299</td>\n",
       "      <td>163.126135</td>\n",
       "      <td>331.23</td>\n",
       "      <td>389.80</td>\n",
       "      <td>669.0</td>\n",
       "      <td>1</td>\n",
       "    </tr>\n",
       "    <tr>\n",
       "      <th>68</th>\n",
       "      <td>-0.016308</td>\n",
       "      <td>0.297744</td>\n",
       "      <td>0.809179</td>\n",
       "      <td>0.279730</td>\n",
       "      <td>0.283066</td>\n",
       "      <td>0.254771</td>\n",
       "      <td>2.40</td>\n",
       "      <td>4.33</td>\n",
       "      <td>2.62</td>\n",
       "      <td>-0.412051</td>\n",
       "      <td>...</td>\n",
       "      <td>101.418718</td>\n",
       "      <td>-136.274718</td>\n",
       "      <td>-337.753846</td>\n",
       "      <td>34.871670</td>\n",
       "      <td>91.486274</td>\n",
       "      <td>45.546830</td>\n",
       "      <td>201.83</td>\n",
       "      <td>252.09</td>\n",
       "      <td>142.0</td>\n",
       "      <td>1</td>\n",
       "    </tr>\n",
       "    <tr>\n",
       "      <th>69</th>\n",
       "      <td>0.304257</td>\n",
       "      <td>0.102635</td>\n",
       "      <td>0.778108</td>\n",
       "      <td>0.405994</td>\n",
       "      <td>0.128554</td>\n",
       "      <td>0.444629</td>\n",
       "      <td>1.71</td>\n",
       "      <td>1.08</td>\n",
       "      <td>5.16</td>\n",
       "      <td>0.903108</td>\n",
       "      <td>...</td>\n",
       "      <td>59.730270</td>\n",
       "      <td>-203.792027</td>\n",
       "      <td>-400.655405</td>\n",
       "      <td>9.749718</td>\n",
       "      <td>117.407574</td>\n",
       "      <td>42.991469</td>\n",
       "      <td>69.76</td>\n",
       "      <td>294.17</td>\n",
       "      <td>112.0</td>\n",
       "      <td>1</td>\n",
       "    </tr>\n",
       "    <tr>\n",
       "      <th>70</th>\n",
       "      <td>0.255825</td>\n",
       "      <td>0.429417</td>\n",
       "      <td>0.682379</td>\n",
       "      <td>0.402068</td>\n",
       "      <td>0.210516</td>\n",
       "      <td>0.172435</td>\n",
       "      <td>2.24</td>\n",
       "      <td>1.56</td>\n",
       "      <td>1.48</td>\n",
       "      <td>2.746359</td>\n",
       "      <td>...</td>\n",
       "      <td>198.538786</td>\n",
       "      <td>-215.794806</td>\n",
       "      <td>-345.815534</td>\n",
       "      <td>44.917560</td>\n",
       "      <td>143.032130</td>\n",
       "      <td>49.186834</td>\n",
       "      <td>141.88</td>\n",
       "      <td>348.89</td>\n",
       "      <td>214.0</td>\n",
       "      <td>1</td>\n",
       "    </tr>\n",
       "    <tr>\n",
       "      <th>71</th>\n",
       "      <td>0.597984</td>\n",
       "      <td>0.040801</td>\n",
       "      <td>0.633514</td>\n",
       "      <td>0.430405</td>\n",
       "      <td>0.134818</td>\n",
       "      <td>0.164730</td>\n",
       "      <td>5.94</td>\n",
       "      <td>2.20</td>\n",
       "      <td>2.43</td>\n",
       "      <td>-0.810413</td>\n",
       "      <td>...</td>\n",
       "      <td>125.012016</td>\n",
       "      <td>-415.746021</td>\n",
       "      <td>-442.723514</td>\n",
       "      <td>16.473693</td>\n",
       "      <td>150.056965</td>\n",
       "      <td>39.399675</td>\n",
       "      <td>113.25</td>\n",
       "      <td>483.23</td>\n",
       "      <td>174.0</td>\n",
       "      <td>1</td>\n",
       "    </tr>\n",
       "  </tbody>\n",
       "</table>\n",
       "<p>5 rows × 28 columns</p>\n",
       "</div>"
      ],
      "text/plain": [
       "    Mean Acc X  Mean Acc Y  Mean Acc Z  Std Acc X  Std Acc Y  Std Acc Z  \\\n",
       "67    0.070096    0.563910    0.535160   0.338486   0.457539   0.540654   \n",
       "68   -0.016308    0.297744    0.809179   0.279730   0.283066   0.254771   \n",
       "69    0.304257    0.102635    0.778108   0.405994   0.128554   0.444629   \n",
       "70    0.255825    0.429417    0.682379   0.402068   0.210516   0.172435   \n",
       "71    0.597984    0.040801    0.633514   0.430405   0.134818   0.164730   \n",
       "\n",
       "    Rng Acc X  Rng Acc Y  Rng Acc Z  Mean Gyr X  ...  Mean Mag X  Mean Mag Y  \\\n",
       "67       3.48       6.31       4.47   -2.756058  ...  300.734038 -571.446346   \n",
       "68       2.40       4.33       2.62   -0.412051  ...  101.418718 -136.274718   \n",
       "69       1.71       1.08       5.16    0.903108  ...   59.730270 -203.792027   \n",
       "70       2.24       1.56       1.48    2.746359  ...  198.538786 -215.794806   \n",
       "71       5.94       2.20       2.43   -0.810413  ...  125.012016 -415.746021   \n",
       "\n",
       "    Mean Mag Z   Std Mag X   Std Mag Y   Std Mag Z  Rng Mag X  Rng Mag Y  \\\n",
       "67 -216.737179  103.578420   89.140299  163.126135     331.23     389.80   \n",
       "68 -337.753846   34.871670   91.486274   45.546830     201.83     252.09   \n",
       "69 -400.655405    9.749718  117.407574   42.991469      69.76     294.17   \n",
       "70 -345.815534   44.917560  143.032130   49.186834     141.88     348.89   \n",
       "71 -442.723514   16.473693  150.056965   39.399675     113.25     483.23   \n",
       "\n",
       "    Rng Mag Z  Fall  \n",
       "67      669.0     1  \n",
       "68      142.0     1  \n",
       "69      112.0     1  \n",
       "70      214.0     1  \n",
       "71      174.0     1  \n",
       "\n",
       "[5 rows x 28 columns]"
      ]
     },
     "execution_count": 3,
     "metadata": {},
     "output_type": "execute_result"
    }
   ],
   "source": [
    "DOFDA_df = pd.read_csv(open('Dataframes/DOFDA 4 subjects for testing.csv', 'rb'), delimiter=',')\n",
    "DOFDA_df.tail()"
   ]
  },
  {
   "cell_type": "markdown",
   "metadata": {},
   "source": [
    "##### Separating variables\n",
    "\n",
    "In this mini section we will be separating variables from those subjects chosen randomly from DOFDA dataset"
   ]
  },
  {
   "cell_type": "code",
   "execution_count": 4,
   "metadata": {},
   "outputs": [],
   "source": [
    "X_DOFDA = DOFDA_df.iloc[:, 0:-1]\n",
    "y_DOFDA = DOFDA_df['Fall']"
   ]
  },
  {
   "cell_type": "markdown",
   "metadata": {},
   "source": [
    "##### Predicting ouput"
   ]
  },
  {
   "cell_type": "code",
   "execution_count": 98,
   "metadata": {},
   "outputs": [
    {
     "name": "stdout",
     "output_type": "stream",
     "text": [
      "Accuracy:  76.38888888888889\n"
     ]
    }
   ],
   "source": [
    "y_predicted_DOFDA = clf_fallalld_dofda.predict(X_DOFDA)\n",
    "print('Accuracy: ', (accuracy_score(y_DOFDA, y_predicted_DOFDA))*100)"
   ]
  },
  {
   "cell_type": "markdown",
   "metadata": {},
   "source": [
    "##### Plotting Confusion Matrix for DOFDA test"
   ]
  },
  {
   "cell_type": "code",
   "execution_count": 99,
   "metadata": {},
   "outputs": [
    {
     "data": {
      "image/png": "[encoded data removed]",
      "text/plain": [
       "<Figure size 432x288 with 2 Axes>"
      ]
     },
     "metadata": {
      "needs_background": "light"
     },
     "output_type": "display_data"
    }
   ],
   "source": [
    "con_mat = confusion_matrix(y_true=y_DOFDA, y_pred=y_predicted_DOFDA)\n",
    "disp = ConfusionMatrixDisplay(confusion_matrix=con_mat)\n",
    "disp.plot(cmap='Blues')\n",
    "plt.title('Confusion Matrix for SVM model with\\n DOFDA, trained with FallAllD compatible')\n",
    "plt.show()"
   ]
  },
  {
   "cell_type": "markdown",
   "metadata": {},
   "source": [
    "##### Saving model to disk"
   ]
  },
  {
   "cell_type": "code",
   "execution_count": 100,
   "metadata": {},
   "outputs": [],
   "source": [
    "pickle.dump(clf_fallalld_dofda, open('SVM_linear_FallAllD_DOFDA.sav', 'wb'))"
   ]
  },
  {
   "cell_type": "markdown",
   "metadata": {},
   "source": [
    "## Testing every model with DOFDA subset"
   ]
  },
  {
   "cell_type": "code",
   "execution_count": 23,
   "metadata": {},
   "outputs": [
    {
     "name": "stdout",
     "output_type": "stream",
     "text": [
      "Accuracy:  73.61111111111111\n"
     ]
    },
    {
     "data": {
      "image/png": "[encoded data removed]",
      "text/plain": [
       "<Figure size 432x288 with 2 Axes>"
      ]
     },
     "metadata": {
      "needs_background": "light"
     },
     "output_type": "display_data"
    }
   ],
   "source": [
    "classifier = pickle.load(open('Models/SVM_linear_1.sav', 'rb'))\n",
    "\n",
    "y_predicted = classifier.predict(X_DOFDA)\n",
    "print('Accuracy: ', (accuracy_score(y_DOFDA, y_predicted))*100)\n",
    "\n",
    "con_mat = confusion_matrix(y_true=y_DOFDA, y_pred=y_predicted)\n",
    "disp = ConfusionMatrixDisplay(confusion_matrix=con_mat)\n",
    "disp.plot(cmap='Blues')\n",
    "plt.title('Confusion Matrix for SVM model with\\n C = 1, tested with DOFDA')\n",
    "plt.show()"
   ]
  },
  {
   "cell_type": "code",
   "execution_count": 25,
   "metadata": {},
   "outputs": [
    {
     "name": "stdout",
     "output_type": "stream",
     "text": [
      "Accuracy:  73.61111111111111\n"
     ]
    },
    {
     "data": {
      "image/png": "[encoded data removed]",
      "text/plain": [
       "<Figure size 432x288 with 2 Axes>"
      ]
     },
     "metadata": {
      "needs_background": "light"
     },
     "output_type": "display_data"
    }
   ],
   "source": [
    "classifier = pickle.load(open('Models/SVM_linear_1000.sav', 'rb'))\n",
    "\n",
    "y_predicted = classifier.predict(X_DOFDA)\n",
    "print('Accuracy: ', (accuracy_score(y_DOFDA, y_predicted))*100)\n",
    "\n",
    "con_mat = confusion_matrix(y_true=y_DOFDA, y_pred=y_predicted)\n",
    "disp = ConfusionMatrixDisplay(confusion_matrix=con_mat)\n",
    "disp.plot(cmap='Blues')\n",
    "plt.title('Confusion Matrix for SVM model with\\n C = 1000, tested with DOFDA')\n",
    "plt.show()"
   ]
  },
  {
   "cell_type": "code",
   "execution_count": 27,
   "metadata": {},
   "outputs": [
    {
     "name": "stdout",
     "output_type": "stream",
     "text": [
      "Accuracy:  88.88888888888889\n"
     ]
    },
    {
     "data": {
      "image/png": "[encoded data removed]",
      "text/plain": [
       "<Figure size 432x288 with 2 Axes>"
      ]
     },
     "metadata": {
      "needs_background": "light"
     },
     "output_type": "display_data"
    }
   ],
   "source": [
    "classifier = pickle.load(open('Models/SVM_linear_1_dataframe5.sav', 'rb'))\n",
    "\n",
    "X_DOFDA_2 = X_DOFDA.iloc[:, 0:9]\n",
    "y_predicted = classifier.predict(X_DOFDA_2)\n",
    "print('Accuracy: ', (accuracy_score(y_DOFDA, y_predicted))*100)\n",
    "\n",
    "con_mat = confusion_matrix(y_true=y_DOFDA, y_pred=y_predicted)\n",
    "disp = ConfusionMatrixDisplay(confusion_matrix=con_mat)\n",
    "disp.plot(cmap='Blues')\n",
    "plt.title('Confusion Matrix for SVM model with\\n C = 1 and only acelerometer, tested with DOFDA')\n",
    "plt.show()"
   ]
  },
  {
   "cell_type": "code",
   "execution_count": 29,
   "metadata": {},
   "outputs": [
    {
     "name": "stdout",
     "output_type": "stream",
     "text": [
      "Accuracy:  86.11111111111111\n"
     ]
    },
    {
     "data": {
      "image/png": "[encoded data removed]",
      "text/plain": [
       "<Figure size 432x288 with 2 Axes>"
      ]
     },
     "metadata": {
      "needs_background": "light"
     },
     "output_type": "display_data"
    }
   ],
   "source": [
    "classifier = pickle.load(open('Models/SVM_linear_1000_dataframe5.sav', 'rb'))\n",
    "y_predicted = classifier.predict(X_DOFDA_2)\n",
    "print('Accuracy: ', (accuracy_score(y_DOFDA, y_predicted))*100)\n",
    "\n",
    "con_mat = confusion_matrix(y_true=y_DOFDA, y_pred=y_predicted)\n",
    "disp = ConfusionMatrixDisplay(confusion_matrix=con_mat)\n",
    "disp.plot(cmap='Blues')\n",
    "plt.title('Confusion Matrix for SVM model with\\n C = 1000 and only acelerometer, tested with DOFDA')\n",
    "plt.show()"
   ]
  },
  {
   "cell_type": "code",
   "execution_count": 132,
   "metadata": {},
   "outputs": [
    {
     "name": "stdout",
     "output_type": "stream",
     "text": [
      "Accuracy:  73.61111111111111\n"
     ]
    }
   ],
   "source": [
    "classifier = pickle.load(open('SVM_linear_subject_out.sav', 'rb'))\n",
    "y_predicted = classifier.predict(X_DOFDA)\n",
    "print('Accuracy: ', (accuracy_score(y_DOFDA, y_predicted))*100)"
   ]
  },
  {
   "cell_type": "code",
   "execution_count": 6,
   "metadata": {},
   "outputs": [
    {
     "name": "stdout",
     "output_type": "stream",
     "text": [
      "Accuracy:  68.05555555555556\n"
     ]
    },
    {
     "data": {
      "image/png": "[encoded data removed]",
      "text/plain": [
       "<Figure size 432x288 with 2 Axes>"
      ]
     },
     "metadata": {
      "needs_background": "light"
     },
     "output_type": "display_data"
    }
   ],
   "source": [
    "classifier = pickle.load(open('Models/SVM_linear_3_subjects_out.sav', 'rb'))\n",
    "y_predicted = classifier.predict(X_DOFDA)\n",
    "print('Accuracy: ', (accuracy_score(y_DOFDA, y_predicted))*100)\n",
    "\n",
    "con_mat = confusion_matrix(y_true=y_DOFDA, y_pred=y_predicted)\n",
    "disp = ConfusionMatrixDisplay(confusion_matrix=con_mat)\n",
    "disp.plot(cmap='Blues')\n",
    "plt.title('Confusion Matrix for SVM model with\\n C = 1 and 3 subjects out, tested with DOFDA')\n",
    "plt.show()"
   ]
  }
 ],
 "metadata": {
  "interpreter": {
   "hash": "7b08c00451631029192a61105a26c4bc34ef44237ce27acf2476858d0266e2f1"
  },
  "kernelspec": {
   "display_name": "Python 3.9.6 64-bit",
   "name": "python3"
  },
  "language_info": {
   "codemirror_mode": {
    "name": "ipython",
    "version": 3
   },
   "file_extension": ".py",
   "mimetype": "text/x-python",
   "name": "python",
   "nbconvert_exporter": "python",
   "pygments_lexer": "ipython3",
   "version": "3.9.6"
  },
  "orig_nbformat": 4
 },
 "nbformat": 4,
 "nbformat_minor": 2
}
