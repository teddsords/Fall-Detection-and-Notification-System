{
 "cells": [
  {
   "cell_type": "markdown",
   "source": [
    "# Support Vector Machines for Fall detection\r\n",
    "\r\n",
    "In this Python notebook I create different SVM models for detecting falls using 3 sensors (accelerometer, gyroscope and magnetometer). This work uses FallAllD dataset, which was created by Saleh *et al*., (2021). The model will use all three axis of all three sensors. The dataset had to be modied for having a column for fall, in which 1 represents a fall, otherwise is an ADL. For comparison, another dataset has been created, which uses a second output column. This column, ADL, will have the opposite value of Fall. \r\n",
    "\r\n",
    "A third and fourth dataset was created in which basic statistical features are being used. Those features are: Mean, Standard Deviation and Range. These features were extracted for each of the axis of each sensor. A fifth and sixth dataset was created using the same features, altough just considering accelerometer data, just like Saleh *et al*., (2021) did in their work."
   ],
   "metadata": {}
  },
  {
   "cell_type": "markdown",
   "source": [
    "## Creating first SVM model"
   ],
   "metadata": {}
  },
  {
   "cell_type": "markdown",
   "source": [
    "### Importing libraries\r\n",
    "\r\n",
    "This libraries will help throughout the code"
   ],
   "metadata": {}
  },
  {
   "cell_type": "code",
   "execution_count": 2,
   "source": [
    "import pandas as pd\r\n",
    "from sklearn.model_selection import cross_val_score, StratifiedKFold, train_test_split\r\n",
    "from sklearn.metrics import accuracy_score, confusion_matrix, ConfusionMatrixDisplay\r\n",
    "from sklearn.svm import SVC\r\n",
    "import matplotlib.pyplot as plt\r\n",
    "import requests"
   ],
   "outputs": [],
   "metadata": {}
  },
  {
   "cell_type": "markdown",
   "source": [
    "## Notification System\r\n",
    "\r\n",
    "This funciton will be used to send a Telegram message when training is done."
   ],
   "metadata": {}
  },
  {
   "cell_type": "code",
   "execution_count": 4,
   "source": [
    "f = open(\"Notification system/Telegram Token.txt\")\r\n",
    "token = f.read()\r\n",
    "\r\n",
    "def broadcast_message(chat, message):\r\n",
    "    for chat_to_send in chat:\r\n",
    "        URL = 'https://api.telegram.org/bot{}/sendMessage?chat_id={}&text={}'.format(token, chat_to_send, message)\r\n",
    "        resp = requests.get(URL)\r\n",
    "        print(resp.text)"
   ],
   "outputs": [],
   "metadata": {}
  },
  {
   "cell_type": "markdown",
   "source": [
    "### Reading frist dataframe\r\n",
    "\r\n",
    "This is the dataframe containing one output column with raw data from all 3 sensors."
   ],
   "metadata": {}
  },
  {
   "cell_type": "code",
   "execution_count": 5,
   "source": [
    "df = pd.read_pickle('Dataframes/Dataframe3.pkl')\r\n",
    "df.info()"
   ],
   "outputs": [
    {
     "output_type": "stream",
     "name": "stdout",
     "text": [
      "<class 'pandas.core.frame.DataFrame'>\n",
      "RangeIndex: 1798 entries, 0 to 1797\n",
      "Data columns (total 35 columns):\n",
      " #   Column      Non-Null Count  Dtype  \n",
      "---  ------      --------------  -----  \n",
      " 0   SubjectID   1798 non-null   int8   \n",
      " 1   Device      1798 non-null   object \n",
      " 2   ActivityID  1798 non-null   int16  \n",
      " 3   TrialNo     1798 non-null   int8   \n",
      " 4   Acc         1798 non-null   object \n",
      " 5   Gyr         1798 non-null   object \n",
      " 6   Mag         1798 non-null   object \n",
      " 7   Mean Acc X  1798 non-null   float64\n",
      " 8   Mean Acc Y  1798 non-null   float64\n",
      " 9   Mean Acc Z  1798 non-null   float64\n",
      " 10  Std Acc X   1798 non-null   float64\n",
      " 11  Std Acc Y   1798 non-null   float64\n",
      " 12  Std Acc Z   1798 non-null   float64\n",
      " 13  Rng Acc X   1798 non-null   float64\n",
      " 14  Rng Acc Y   1798 non-null   float64\n",
      " 15  Rng Acc Z   1798 non-null   float64\n",
      " 16  Mean Gyr X  1798 non-null   float64\n",
      " 17  Mean Gyr Y  1798 non-null   float64\n",
      " 18  Mean Gyr Z  1798 non-null   float64\n",
      " 19  Std Gyr X   1798 non-null   float64\n",
      " 20  Std Gyr Y   1798 non-null   float64\n",
      " 21  Std Gyr Z   1798 non-null   float64\n",
      " 22  Rng Gyr X   1798 non-null   float64\n",
      " 23  Rng Gyr Y   1798 non-null   float64\n",
      " 24  Rng Gyr Z   1798 non-null   float64\n",
      " 25  Mean Mag X  1798 non-null   float64\n",
      " 26  Mean Mag Y  1798 non-null   float64\n",
      " 27  Mean Mag Z  1798 non-null   float64\n",
      " 28  Std Mag X   1798 non-null   float64\n",
      " 29  Std Mag Y   1798 non-null   float64\n",
      " 30  Std Mag Z   1798 non-null   float64\n",
      " 31  Rng Mag X   1798 non-null   float64\n",
      " 32  Rng Mag Y   1798 non-null   float64\n",
      " 33  Rng Mag Z   1798 non-null   float64\n",
      " 34  Fall        1798 non-null   int64  \n",
      "dtypes: float64(27), int16(1), int64(1), int8(2), object(4)\n",
      "memory usage: 456.6+ KB\n"
     ]
    }
   ],
   "metadata": {}
  },
  {
   "cell_type": "code",
   "execution_count": 9,
   "source": [
    "X = df.iloc[:, 7:34]       # Defining X as Acce, Gyro and Mag data\r\n",
    "X.info()                   # Printing X's info"
   ],
   "outputs": [
    {
     "output_type": "stream",
     "name": "stdout",
     "text": [
      "<class 'pandas.core.frame.DataFrame'>\n",
      "RangeIndex: 1798 entries, 0 to 1797\n",
      "Data columns (total 27 columns):\n",
      " #   Column      Non-Null Count  Dtype  \n",
      "---  ------      --------------  -----  \n",
      " 0   Mean Acc X  1798 non-null   float64\n",
      " 1   Mean Acc Y  1798 non-null   float64\n",
      " 2   Mean Acc Z  1798 non-null   float64\n",
      " 3   Std Acc X   1798 non-null   float64\n",
      " 4   Std Acc Y   1798 non-null   float64\n",
      " 5   Std Acc Z   1798 non-null   float64\n",
      " 6   Rng Acc X   1798 non-null   float64\n",
      " 7   Rng Acc Y   1798 non-null   float64\n",
      " 8   Rng Acc Z   1798 non-null   float64\n",
      " 9   Mean Gyr X  1798 non-null   float64\n",
      " 10  Mean Gyr Y  1798 non-null   float64\n",
      " 11  Mean Gyr Z  1798 non-null   float64\n",
      " 12  Std Gyr X   1798 non-null   float64\n",
      " 13  Std Gyr Y   1798 non-null   float64\n",
      " 14  Std Gyr Z   1798 non-null   float64\n",
      " 15  Rng Gyr X   1798 non-null   float64\n",
      " 16  Rng Gyr Y   1798 non-null   float64\n",
      " 17  Rng Gyr Z   1798 non-null   float64\n",
      " 18  Mean Mag X  1798 non-null   float64\n",
      " 19  Mean Mag Y  1798 non-null   float64\n",
      " 20  Mean Mag Z  1798 non-null   float64\n",
      " 21  Std Mag X   1798 non-null   float64\n",
      " 22  Std Mag Y   1798 non-null   float64\n",
      " 23  Std Mag Z   1798 non-null   float64\n",
      " 24  Rng Mag X   1798 non-null   float64\n",
      " 25  Rng Mag Y   1798 non-null   float64\n",
      " 26  Rng Mag Z   1798 non-null   float64\n",
      "dtypes: float64(27)\n",
      "memory usage: 379.4 KB\n"
     ]
    }
   ],
   "metadata": {}
  },
  {
   "cell_type": "code",
   "execution_count": 8,
   "source": [
    "y = df['Fall']          # Defining y as Fall column, this means setting y to our output.\r\n",
    "y.tail()                # y is a Series object"
   ],
   "outputs": [
    {
     "output_type": "execute_result",
     "data": {
      "text/plain": [
       "1793    1\n",
       "1794    1\n",
       "1795    1\n",
       "1796    1\n",
       "1797    1\n",
       "Name: Fall, dtype: int64"
      ]
     },
     "metadata": {},
     "execution_count": 8
    }
   ],
   "metadata": {}
  },
  {
   "cell_type": "markdown",
   "source": [
    "### Creating SVM Model 1\r\n",
    "\r\n",
    "Creating a SVM model classifier with linear kernel"
   ],
   "metadata": {}
  },
  {
   "cell_type": "code",
   "execution_count": 10,
   "source": [
    "clf = SVC(kernel='linear')          # Parameter tuning is needed to get better results"
   ],
   "outputs": [],
   "metadata": {}
  },
  {
   "cell_type": "markdown",
   "source": [
    "### Stratified K fold\r\n",
    "\r\n",
    "This function helps us to divide the dataset into K, where K = 10, folds. When this is done, data will be divided into different sets and used to train and test the model."
   ],
   "metadata": {}
  },
  {
   "cell_type": "code",
   "execution_count": 70,
   "source": [
    "k_fold = StratifiedKFold(n_splits=10,shuffle=True, random_state=7)      # Creating a Stratifiedd K fold object\r\n",
    "for train_index, test_index in k_fold.split(X, y):                      # Splitting dataset into 10 fold \r\n",
    "    #print('TRAIN: ', train_index, 'TEST:', test_index)\r\n",
    "    X_train, X_test = X.iloc[train_index], X.iloc[test_index]\r\n",
    "    y_train, y_test = y.iloc[train_index] , y.iloc[test_index]"
   ],
   "outputs": [],
   "metadata": {}
  },
  {
   "cell_type": "code",
   "execution_count": 72,
   "source": [
    "clf.fit(X_train, y_train)"
   ],
   "outputs": [
    {
     "output_type": "execute_result",
     "data": {
      "text/plain": [
       "SVC(kernel='linear')"
      ]
     },
     "metadata": {},
     "execution_count": 72
    }
   ],
   "metadata": {}
  },
  {
   "cell_type": "code",
   "execution_count": 73,
   "source": [
    "clf.score(X_test, y_test)"
   ],
   "outputs": [
    {
     "output_type": "execute_result",
     "data": {
      "text/plain": [
       "0.9553072625698324"
      ]
     },
     "metadata": {},
     "execution_count": 73
    }
   ],
   "metadata": {}
  },
  {
   "cell_type": "code",
   "execution_count": 74,
   "source": [
    "cross_val_score(clf, X, y, cv=10)"
   ],
   "outputs": [
    {
     "output_type": "execute_result",
     "data": {
      "text/plain": [
       "array([0.96111111, 0.92777778, 0.89166667, 0.94428969, 0.95821727])"
      ]
     },
     "metadata": {},
     "execution_count": 74
    }
   ],
   "metadata": {}
  },
  {
   "cell_type": "code",
   "execution_count": 75,
   "source": [
    "from sklearn.metrics import plot_confusion_matrix\r\n",
    "\r\n",
    "disp = plot_confusion_matrix(clf, X_test, y_test, cmap='Blues', values_format='0.3g')"
   ],
   "outputs": [
    {
     "output_type": "display_data",
     "data": {
      "image/png": "[encoded data removed]",
      "text/plain": [
       "<Figure size 432x288 with 2 Axes>"
      ]
     },
     "metadata": {
      "needs_background": "light"
     }
    }
   ],
   "metadata": {}
  },
  {
   "cell_type": "markdown",
   "source": [
    "## Using train_test_split"
   ],
   "metadata": {}
  },
  {
   "cell_type": "code",
   "execution_count": 19,
   "source": [
    "print('X.shape:' + str(X.shape)) \r\n",
    "X_train, X_val, y_train, y_val = train_test_split(X, y, test_size=0.3, train_size=0.7, random_state=7, stratify=y)\r\n",
    "X_val, X_test, y_val, y_test = train_test_split(X_val, y_val, test_size=0.33, train_size=0.66, random_state=8, stratify=y_val)\r\n",
    "\r\n",
    "print('X_train.shape: ' + str(X_train.shape))\r\n",
    "print('X_val.shape: ' + str(X_val.shape))\r\n",
    "print('X_test.shape: ' + str(X_test.shape))"
   ],
   "outputs": [
    {
     "output_type": "stream",
     "name": "stdout",
     "text": [
      "X.shape:(1798, 27)\n",
      "X_train.shape: (1258, 27)\n",
      "X_val.shape: (356, 27)\n",
      "X_test.shape: (179, 27)\n"
     ]
    }
   ],
   "metadata": {}
  },
  {
   "cell_type": "code",
   "execution_count": 20,
   "source": [
    "clf.fit(X_train, y_train)"
   ],
   "outputs": [
    {
     "output_type": "execute_result",
     "data": {
      "text/plain": [
       "SVC(kernel='linear')"
      ]
     },
     "metadata": {},
     "execution_count": 20
    }
   ],
   "metadata": {}
  },
  {
   "cell_type": "code",
   "execution_count": 21,
   "source": [
    "clf.score(X_val, y_val)"
   ],
   "outputs": [
    {
     "output_type": "execute_result",
     "data": {
      "text/plain": [
       "0.9438202247191011"
      ]
     },
     "metadata": {},
     "execution_count": 21
    }
   ],
   "metadata": {}
  },
  {
   "cell_type": "code",
   "execution_count": 23,
   "source": [
    "clf.score(X_test, y_test)"
   ],
   "outputs": [
    {
     "output_type": "execute_result",
     "data": {
      "text/plain": [
       "0.9608938547486033"
      ]
     },
     "metadata": {},
     "execution_count": 23
    }
   ],
   "metadata": {}
  },
  {
   "cell_type": "markdown",
   "source": [
    "## Using test set with 10-fold CV"
   ],
   "metadata": {}
  },
  {
   "cell_type": "code",
   "execution_count": 11,
   "source": [
    "X, X_test, y, y_test = train_test_split(X, y, test_size=0.1, train_size=0.9, random_state=7, stratify=y)\r\n",
    "X.shape, X_test.shape"
   ],
   "outputs": [
    {
     "output_type": "execute_result",
     "data": {
      "text/plain": [
       "((1618, 27), (180, 27))"
      ]
     },
     "metadata": {},
     "execution_count": 11
    }
   ],
   "metadata": {}
  },
  {
   "cell_type": "code",
   "execution_count": 54,
   "source": [
    "scores_svm = []\r\n",
    "k_fold = StratifiedKFold(n_splits=10,shuffle=True, random_state=7)      # Creating a Stratifiedd K fold object\r\n",
    "for train_index, val_index in k_fold.split(X, y):                      # Splitting dataset into 10 fold \r\n",
    "    X_train, X_val = X.iloc[train_index], X.iloc[val_index]\r\n",
    "    y_train, y_val = y.iloc[train_index] , y.iloc[val_index]\r\n",
    "\r\n",
    "    clf.fit(X_train, y_train)\r\n",
    "    scores_svm.append(clf.score(X_val, y_val))\r\n",
    "\r\n",
    "broadcast_message(['1766671538'], 'Training is done!')\r\n",
    "print(sum(scores_svm) / len(scores_svm))"
   ],
   "outputs": [
    {
     "output_type": "stream",
     "name": "stdout",
     "text": [
      "{\"ok\":true,\"result\":{\"message_id\":59,\"from\":{\"id\":1917311024,\"is_bot\":true,\"first_name\":\"FallAlert\",\"username\":\"FallAlertPythonBot\"},\"chat\":{\"id\":1766671538,\"first_name\":\"Teddy\",\"last_name\":\"Ordo\\u00f1ez\",\"username\":\"teddsords\",\"type\":\"private\"},\"date\":1633988698,\"text\":\"Training is done!\"}}\n",
      "0.9486695805536385\n"
     ]
    }
   ],
   "metadata": {}
  },
  {
   "cell_type": "code",
   "execution_count": 12,
   "source": [
    "cross_val_score(clf, X, y, cv=10)"
   ],
   "outputs": [
    {
     "output_type": "execute_result",
     "data": {
      "text/plain": [
       "array([0.9691358 , 0.9382716 , 0.93209877, 0.9382716 , 0.93209877,\n",
       "       0.94444444, 0.9691358 , 0.96296296, 0.93167702, 0.97515528])"
      ]
     },
     "metadata": {},
     "execution_count": 12
    }
   ],
   "metadata": {}
  },
  {
   "cell_type": "code",
   "execution_count": 22,
   "source": [
    "print(cross_val_score(clf, X, y, cv=10))        # 0.94928 accuracy\r\n",
    "broadcast_message(['1766671538'], 'Linear Training is done!')"
   ],
   "outputs": [
    {
     "output_type": "stream",
     "name": "stdout",
     "text": [
      "[0.9691358  0.9382716  0.93209877 0.9382716  0.93209877 0.94444444\n",
      " 0.9691358  0.96296296 0.93167702 0.97515528]\n",
      "{\"ok\":true,\"result\":{\"message_id\":68,\"from\":{\"id\":1917311024,\"is_bot\":true,\"first_name\":\"FallAlert\",\"username\":\"FallAlertPythonBot\"},\"chat\":{\"id\":1766671538,\"first_name\":\"Teddy\",\"last_name\":\"Ordo\\u00f1ez\",\"username\":\"teddsords\",\"type\":\"private\"},\"date\":1633999380,\"text\":\"Linear Training is done!\"}}\n"
     ]
    }
   ],
   "metadata": {}
  },
  {
   "cell_type": "code",
   "execution_count": 13,
   "source": [
    "clf_rbf = SVC(kernel='rbf')\r\n",
    "\r\n",
    "scores_svm_rbf = []\r\n",
    "k_fold = StratifiedKFold(n_splits=10,shuffle=True, random_state=7)      # Creating a Stratifiedd K fold object\r\n",
    "for train_index, val_index in k_fold.split(X, y):                      # Splitting dataset into 10 fold \r\n",
    "    X_train, X_val = X.iloc[train_index], X.iloc[val_index]\r\n",
    "    y_train, y_val = y.iloc[train_index] , y.iloc[val_index]\r\n",
    "\r\n",
    "    clf_rbf.fit(X_train, y_train)\r\n",
    "    scores_svm_rbf.append(clf_rbf.score(X_val, y_val))\r\n",
    "\r\n",
    "broadcast_message(['1766671538'], 'RBF Training is done!')\r\n",
    "print('Training Accuracy: ' , sum(scores_svm_rbf) / len(scores_svm_rbf))\r\n",
    "print('Scores for each fold: ', scores_svm_rbf)\r\n"
   ],
   "outputs": [
    {
     "output_type": "stream",
     "name": "stdout",
     "text": [
      "{\"ok\":true,\"result\":{\"message_id\":60,\"from\":{\"id\":1917311024,\"is_bot\":true,\"first_name\":\"FallAlert\",\"username\":\"FallAlertPythonBot\"},\"chat\":{\"id\":1766671538,\"first_name\":\"Teddy\",\"last_name\":\"Ordo\\u00f1ez\",\"username\":\"teddsords\",\"type\":\"private\"},\"date\":1633997429,\"text\":\"RBF Training is done!\"}}\n",
      "Training Accuracy:  0.8850279886511772\n",
      "Scores for each fold:  [0.8641975308641975, 0.8888888888888888, 0.9320987654320988, 0.8703703703703703, 0.8827160493827161, 0.8950617283950617, 0.8703703703703703, 0.9012345679012346, 0.8633540372670807, 0.8819875776397516]\n"
     ]
    }
   ],
   "metadata": {}
  },
  {
   "cell_type": "code",
   "execution_count": 18,
   "source": [
    "print(cross_val_score(clf_rbf, X, y, cv=10).mean())\r\n",
    "broadcast_message(['1766671538'], 'RBF Training is done!')"
   ],
   "outputs": [
    {
     "output_type": "stream",
     "name": "stdout",
     "text": [
      "0.8856414385399892\n",
      "{\"ok\":true,\"result\":{\"message_id\":65,\"from\":{\"id\":1917311024,\"is_bot\":true,\"first_name\":\"FallAlert\",\"username\":\"FallAlertPythonBot\"},\"chat\":{\"id\":1766671538,\"first_name\":\"Teddy\",\"last_name\":\"Ordo\\u00f1ez\",\"username\":\"teddsords\",\"type\":\"private\"},\"date\":1633997762,\"text\":\"RBF Training is done!\"}}\n"
     ]
    }
   ],
   "metadata": {}
  },
  {
   "cell_type": "code",
   "execution_count": 15,
   "source": [
    "clf_poly = SVC(kernel='poly')\r\n",
    "\r\n",
    "scores_svm_poly = []\r\n",
    "k_fold = StratifiedKFold(n_splits=10,shuffle=True, random_state=7)      # Creating a Stratifiedd K fold object\r\n",
    "for train_index, val_index in k_fold.split(X, y):                      # Splitting dataset into 10 fold \r\n",
    "    X_train, X_val = X.iloc[train_index], X.iloc[val_index]\r\n",
    "    y_train, y_val = y.iloc[train_index] , y.iloc[val_index]\r\n",
    "\r\n",
    "    clf_poly.fit(X_train, y_train)\r\n",
    "    scores_svm_poly.append(clf_poly.score(X_val, y_val))\r\n",
    "\r\n",
    "broadcast_message(['1766671538'], 'Poly Training is done!')\r\n",
    "print('Training Accuracy: ' , sum(scores_svm_poly) / len(scores_svm_poly))\r\n",
    "print('Scores for each fold: ', scores_svm_poly)"
   ],
   "outputs": [
    {
     "output_type": "stream",
     "name": "stdout",
     "text": [
      "{\"ok\":true,\"result\":{\"message_id\":62,\"from\":{\"id\":1917311024,\"is_bot\":true,\"first_name\":\"FallAlert\",\"username\":\"FallAlertPythonBot\"},\"chat\":{\"id\":1766671538,\"first_name\":\"Teddy\",\"last_name\":\"Ordo\\u00f1ez\",\"username\":\"teddsords\",\"type\":\"private\"},\"date\":1633997530,\"text\":\"Poly Training is done!\"}}\n",
      "Training Accuracy:  0.8226209646499502\n",
      "Scores for each fold:  [0.8024691358024691, 0.8333333333333334, 0.8333333333333334, 0.8518518518518519, 0.808641975308642, 0.8148148148148148, 0.8024691358024691, 0.8333333333333334, 0.8012422360248447, 0.84472049689441]\n"
     ]
    }
   ],
   "metadata": {}
  },
  {
   "cell_type": "code",
   "execution_count": 19,
   "source": [
    "print(cross_val_score(clf_poly, X, y, cv=10).mean())\r\n",
    "broadcast_message(['1766671538'], 'Poly Training is done!')"
   ],
   "outputs": [
    {
     "output_type": "stream",
     "name": "stdout",
     "text": [
      "0.8213787286251055\n",
      "{\"ok\":true,\"result\":{\"message_id\":66,\"from\":{\"id\":1917311024,\"is_bot\":true,\"first_name\":\"FallAlert\",\"username\":\"FallAlertPythonBot\"},\"chat\":{\"id\":1766671538,\"first_name\":\"Teddy\",\"last_name\":\"Ordo\\u00f1ez\",\"username\":\"teddsords\",\"type\":\"private\"},\"date\":1633997789,\"text\":\"Poly Training is done!\"}}\n"
     ]
    }
   ],
   "metadata": {}
  },
  {
   "cell_type": "code",
   "execution_count": 57,
   "source": [
    "y_predicted = clf.predict(X_test)\r\n",
    "print('Accuracy: ', accuracy_score(y_test, y_predicted))"
   ],
   "outputs": [
    {
     "output_type": "stream",
     "name": "stdout",
     "text": [
      "Accuracy:  0.9254658385093167\n"
     ]
    }
   ],
   "metadata": {}
  },
  {
   "cell_type": "code",
   "execution_count": 75,
   "source": [
    "con_mat = confusion_matrix(y_true=y_test, y_pred=y_predicted)\r\n",
    "disp = ConfusionMatrixDisplay(confusion_matrix=con_mat)\r\n",
    "disp.plot(cmap='Blues')\r\n",
    "plt.show()"
   ],
   "outputs": [
    {
     "output_type": "display_data",
     "data": {
      "image/png": "[encoded data removed]",
      "text/plain": [
       "<Figure size 432x288 with 2 Axes>"
      ]
     },
     "metadata": {
      "needs_background": "light"
     }
    }
   ],
   "metadata": {}
  },
  {
   "cell_type": "code",
   "execution_count": 21,
   "source": [
    "from mlxtend.plotting import plot_decision_regions\r\n",
    "\r\n",
    "plot_decision_regions(X= X, y= y, clf=clf, legend=2)"
   ],
   "outputs": [],
   "metadata": {}
  }
 ],
 "metadata": {
  "orig_nbformat": 4,
  "language_info": {
   "name": "python",
   "version": "3.9.6",
   "mimetype": "text/x-python",
   "codemirror_mode": {
    "name": "ipython",
    "version": 3
   },
   "pygments_lexer": "ipython3",
   "nbconvert_exporter": "python",
   "file_extension": ".py"
  },
  "kernelspec": {
   "name": "python3",
   "display_name": "Python 3.9.6 64-bit"
  },
  "interpreter": {
   "hash": "7b08c00451631029192a61105a26c4bc34ef44237ce27acf2476858d0266e2f1"
  }
 },
 "nbformat": 4,
 "nbformat_minor": 2
}