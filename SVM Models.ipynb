{
 "cells": [
  {
   "cell_type": "markdown",
   "source": [
    "# Support Vector Machines for Fall detection\r\n",
    "\r\n",
    "In this Python notebook I create different SVM models for detecting falls using 3 sensors (accelerometer, gyroscope and magnetometer). This work uses FallAllD dataset, which was created by Saleh *et al*., (2021). The model will use all three axis of all three sensors. The dataset had to be modied for having a column for fall, in which 1 represents a fall, otherwise is an ADL. For comparison, another dataset has been created, which uses a second output column. This column, ADL, will have the opposite value of Fall. \r\n",
    "\r\n",
    "A third and fourth dataset was created in which basic statistical features are being used. Those features are: Mean, Standard Deviation and Range. These features were extracted for each of the axis of each sensor. A fifth and sixth dataset was created using the same features, altough just considering accelerometer data, just like Saleh *et al*., (2021) did in their work."
   ],
   "metadata": {}
  },
  {
   "cell_type": "markdown",
   "source": [
    "### Importing libraries\r\n",
    "\r\n",
    "This libraries will help throughout the code"
   ],
   "metadata": {}
  },
  {
   "cell_type": "code",
   "execution_count": 1,
   "source": [
    "import pandas as pd\r\n",
    "from sklearn.model_selection import cross_val_score, StratifiedKFold, train_test_split, GridSearchCV\r\n",
    "from sklearn.metrics import accuracy_score, confusion_matrix, ConfusionMatrixDisplay\r\n",
    "from sklearn.svm import SVC\r\n",
    "import matplotlib.pyplot as plt\r\n",
    "import requests\r\n",
    "import time\r\n",
    "import pickle"
   ],
   "outputs": [],
   "metadata": {}
  },
  {
   "cell_type": "markdown",
   "source": [
    "### Notification System\r\n",
    "\r\n",
    "This funciton will be used to send a Telegram message when training is done."
   ],
   "metadata": {}
  },
  {
   "cell_type": "code",
   "execution_count": 2,
   "source": [
    "f = open(\"Notification system/Telegram Token.txt\")\r\n",
    "token = f.read()\r\n",
    "\r\n",
    "def broadcast_message(chat, message):\r\n",
    "    for chat_to_send in chat:\r\n",
    "        URL = 'https://api.telegram.org/bot{}/sendMessage?chat_id={}&text={}'.format(token, chat_to_send, message)\r\n",
    "        resp = requests.get(URL)\r\n",
    "        print(resp.text)"
   ],
   "outputs": [],
   "metadata": {}
  },
  {
   "cell_type": "markdown",
   "source": [
    "## Creating first SVM model\r\n",
    "\r\n",
    "Choosing the best SVM kernel. The kernel can be Linear, Polynomial, Radial Basis Function and Sigmoid. For this paper we will be working with linear kernel.\r\n"
   ],
   "metadata": {}
  },
  {
   "cell_type": "markdown",
   "source": [
    "#### Reading frist dataframe\r\n",
    "\r\n",
    "This is the dataframe containing one output column with raw data from all 3 sensors."
   ],
   "metadata": {}
  },
  {
   "cell_type": "code",
   "execution_count": 3,
   "source": [
    "df = pd.read_pickle('Dataframes/Dataframe3.pkl')\r\n",
    "df.info()"
   ],
   "outputs": [
    {
     "output_type": "stream",
     "name": "stdout",
     "text": [
      "<class 'pandas.core.frame.DataFrame'>\n",
      "RangeIndex: 1798 entries, 0 to 1797\n",
      "Data columns (total 35 columns):\n",
      " #   Column      Non-Null Count  Dtype  \n",
      "---  ------      --------------  -----  \n",
      " 0   SubjectID   1798 non-null   int8   \n",
      " 1   Device      1798 non-null   object \n",
      " 2   ActivityID  1798 non-null   int16  \n",
      " 3   TrialNo     1798 non-null   int8   \n",
      " 4   Acc         1798 non-null   object \n",
      " 5   Gyr         1798 non-null   object \n",
      " 6   Mag         1798 non-null   object \n",
      " 7   Mean Acc X  1798 non-null   float64\n",
      " 8   Mean Acc Y  1798 non-null   float64\n",
      " 9   Mean Acc Z  1798 non-null   float64\n",
      " 10  Std Acc X   1798 non-null   float64\n",
      " 11  Std Acc Y   1798 non-null   float64\n",
      " 12  Std Acc Z   1798 non-null   float64\n",
      " 13  Rng Acc X   1798 non-null   float64\n",
      " 14  Rng Acc Y   1798 non-null   float64\n",
      " 15  Rng Acc Z   1798 non-null   float64\n",
      " 16  Mean Gyr X  1798 non-null   float64\n",
      " 17  Mean Gyr Y  1798 non-null   float64\n",
      " 18  Mean Gyr Z  1798 non-null   float64\n",
      " 19  Std Gyr X   1798 non-null   float64\n",
      " 20  Std Gyr Y   1798 non-null   float64\n",
      " 21  Std Gyr Z   1798 non-null   float64\n",
      " 22  Rng Gyr X   1798 non-null   float64\n",
      " 23  Rng Gyr Y   1798 non-null   float64\n",
      " 24  Rng Gyr Z   1798 non-null   float64\n",
      " 25  Mean Mag X  1798 non-null   float64\n",
      " 26  Mean Mag Y  1798 non-null   float64\n",
      " 27  Mean Mag Z  1798 non-null   float64\n",
      " 28  Std Mag X   1798 non-null   float64\n",
      " 29  Std Mag Y   1798 non-null   float64\n",
      " 30  Std Mag Z   1798 non-null   float64\n",
      " 31  Rng Mag X   1798 non-null   float64\n",
      " 32  Rng Mag Y   1798 non-null   float64\n",
      " 33  Rng Mag Z   1798 non-null   float64\n",
      " 34  Fall        1798 non-null   int64  \n",
      "dtypes: float64(27), int16(1), int64(1), int8(2), object(4)\n",
      "memory usage: 456.6+ KB\n"
     ]
    }
   ],
   "metadata": {}
  },
  {
   "cell_type": "code",
   "execution_count": 4,
   "source": [
    "X = df.iloc[:, 7:34]       # Defining X as Acce, Gyro and Mag data\r\n",
    "X.info()                   # Printing X's info"
   ],
   "outputs": [
    {
     "output_type": "stream",
     "name": "stdout",
     "text": [
      "<class 'pandas.core.frame.DataFrame'>\n",
      "RangeIndex: 1798 entries, 0 to 1797\n",
      "Data columns (total 27 columns):\n",
      " #   Column      Non-Null Count  Dtype  \n",
      "---  ------      --------------  -----  \n",
      " 0   Mean Acc X  1798 non-null   float64\n",
      " 1   Mean Acc Y  1798 non-null   float64\n",
      " 2   Mean Acc Z  1798 non-null   float64\n",
      " 3   Std Acc X   1798 non-null   float64\n",
      " 4   Std Acc Y   1798 non-null   float64\n",
      " 5   Std Acc Z   1798 non-null   float64\n",
      " 6   Rng Acc X   1798 non-null   float64\n",
      " 7   Rng Acc Y   1798 non-null   float64\n",
      " 8   Rng Acc Z   1798 non-null   float64\n",
      " 9   Mean Gyr X  1798 non-null   float64\n",
      " 10  Mean Gyr Y  1798 non-null   float64\n",
      " 11  Mean Gyr Z  1798 non-null   float64\n",
      " 12  Std Gyr X   1798 non-null   float64\n",
      " 13  Std Gyr Y   1798 non-null   float64\n",
      " 14  Std Gyr Z   1798 non-null   float64\n",
      " 15  Rng Gyr X   1798 non-null   float64\n",
      " 16  Rng Gyr Y   1798 non-null   float64\n",
      " 17  Rng Gyr Z   1798 non-null   float64\n",
      " 18  Mean Mag X  1798 non-null   float64\n",
      " 19  Mean Mag Y  1798 non-null   float64\n",
      " 20  Mean Mag Z  1798 non-null   float64\n",
      " 21  Std Mag X   1798 non-null   float64\n",
      " 22  Std Mag Y   1798 non-null   float64\n",
      " 23  Std Mag Z   1798 non-null   float64\n",
      " 24  Rng Mag X   1798 non-null   float64\n",
      " 25  Rng Mag Y   1798 non-null   float64\n",
      " 26  Rng Mag Z   1798 non-null   float64\n",
      "dtypes: float64(27)\n",
      "memory usage: 379.4 KB\n"
     ]
    }
   ],
   "metadata": {}
  },
  {
   "cell_type": "code",
   "execution_count": 5,
   "source": [
    "y = df['Fall']          # Defining y as Fall column, this means setting y to our output.\r\n",
    "y.tail()                # y is a Series object"
   ],
   "outputs": [
    {
     "output_type": "execute_result",
     "data": {
      "text/plain": [
       "1793    1\n",
       "1794    1\n",
       "1795    1\n",
       "1796    1\n",
       "1797    1\n",
       "Name: Fall, dtype: int64"
      ]
     },
     "metadata": {},
     "execution_count": 5
    }
   ],
   "metadata": {}
  },
  {
   "cell_type": "markdown",
   "source": [
    "#### Creating variable with SVM model"
   ],
   "metadata": {}
  },
  {
   "cell_type": "code",
   "execution_count": 149,
   "source": [
    "clf = SVC(kernel='linear')          # Parameter tuning is needed to get better results"
   ],
   "outputs": [],
   "metadata": {}
  },
  {
   "cell_type": "markdown",
   "source": [
    "#### Using tain test split\r\n",
    "\r\n",
    "This function will help us to create a separate pandas DataFrame for testing the end result. So we are separating 10% of the data into a test set. With this we will be using the other 90% for training and validating our models."
   ],
   "metadata": {}
  },
  {
   "cell_type": "code",
   "execution_count": 9,
   "source": [
    "X_rem, X_test, y_rem, y_test = train_test_split(X, y, test_size=0.1, train_size=0.9, random_state=10, stratify=y)\r\n",
    "X_rem.shape, X_test.shape"
   ],
   "outputs": [
    {
     "output_type": "execute_result",
     "data": {
      "text/plain": [
       "((1618, 27), (180, 27))"
      ]
     },
     "metadata": {},
     "execution_count": 9
    }
   ],
   "metadata": {}
  },
  {
   "cell_type": "markdown",
   "source": [
    "#### Using StratifiedKFold\r\n",
    "\r\n",
    "Since we are using a K-Fold Cross Validation approach, we have to use KFold to create our folds for training and testing. In this case we will be using k = 10, where 9 sets will be used for training and 1 for validating. So this way every set gets a chance to be validated. \r\n",
    "\r\n",
    "By using StratifiedKFold we make sure that the output class is evenly distribuited through each fold. So this means that they are smaller chances of having only Falls in on set."
   ],
   "metadata": {}
  },
  {
   "cell_type": "code",
   "execution_count": 10,
   "source": [
    "scores_linear_1 = []\r\n",
    "\r\n",
    "k_fold = StratifiedKFold(n_splits=10,shuffle=True, random_state=42)      # Creating a Stratifiedd K fold object\r\n",
    "# This loop can be done with one line of code using cross_val_score\r\n",
    "for train_index, val_index in k_fold.split(X_rem, y_rem):                      # Splitting dataset into 10 fold \r\n",
    "    X_train, X_val = X_rem.iloc[train_index], X_rem.iloc[val_index]\r\n",
    "    y_train, y_val = y_rem.iloc[train_index] , y_rem.iloc[val_index]\r\n",
    "\r\n",
    "    clf.fit(X_train, y_train)\r\n",
    "    scores_linear_1.append(clf.score(X_val, y_val))\r\n",
    "\r\n",
    "broadcast_message(['1766671538'], 'Training is done!')\r\n",
    "print('Linear accuracy score: ', (sum(scores_linear_1) / len(scores_linear_1)*100))         # 0.9486 accuracy   Randomstate=17 0.9498 accuracy"
   ],
   "outputs": [
    {
     "output_type": "stream",
     "name": "stdout",
     "text": [
      "{\"ok\":true,\"result\":{\"message_id\":90,\"from\":{\"id\":1917311024,\"is_bot\":true,\"first_name\":\"FallAlert\",\"username\":\"FallAlertPythonBot\"},\"chat\":{\"id\":1766671538,\"first_name\":\"Teddy\",\"last_name\":\"Ordo\\u00f1ez\",\"username\":\"teddsords\",\"type\":\"private\"},\"date\":1634148481,\"text\":\"Training is done!\"}}\n",
      "Linear accuracy score:  94.68522352580322\n"
     ]
    }
   ],
   "metadata": {}
  },
  {
   "cell_type": "code",
   "execution_count": 150,
   "source": [
    "y_predicted_1 = clf.predict(X_test)      \r\n",
    "print('Accuracy: ', (accuracy_score(y_test, y_predicted_1))*100)"
   ],
   "outputs": [
    {
     "output_type": "stream",
     "name": "stdout",
     "text": [
      "Accuracy:  93.86503067484662\n"
     ]
    }
   ],
   "metadata": {}
  },
  {
   "cell_type": "markdown",
   "source": [
    "#### Saving Model to disk"
   ],
   "metadata": {}
  },
  {
   "cell_type": "code",
   "execution_count": 12,
   "source": [
    "filename = 'SVM_linear_1.sav'\r\n",
    "pickle.dump(clf, open(filename, 'wb'))"
   ],
   "outputs": [],
   "metadata": {}
  },
  {
   "cell_type": "markdown",
   "source": [
    "#### Using notification system\r\n",
    "\r\n",
    "With the for loop, we can iterate between each predicted value and send an alert when predicted a fall with the message: \"**Fall Detected**\", when a fall was not detected, \"**Not a Fall**\" will be sent."
   ],
   "metadata": {}
  },
  {
   "cell_type": "code",
   "execution_count": 53,
   "source": [
    "for i in range(len(y_predicted_1)):\r\n",
    "    \r\n",
    "    if y_predicted_1[i] == 1:\r\n",
    "        broadcast_message(['1766671538'], 'Fall detected!')\r\n",
    "\r\n",
    "    else:\r\n",
    "        broadcast_message(['1766671538'], 'Not a Fall!')\r\n",
    "    \r\n",
    "    time.sleep(30)"
   ],
   "outputs": [
    {
     "output_type": "stream",
     "name": "stdout",
     "text": [
      "{\"ok\":true,\"result\":{\"message_id\":78,\"from\":{\"id\":1917311024,\"is_bot\":true,\"first_name\":\"FallAlert\",\"username\":\"FallAlertPythonBot\"},\"chat\":{\"id\":1766671538,\"first_name\":\"Teddy\",\"last_name\":\"Ordo\\u00f1ez\",\"username\":\"teddsords\",\"type\":\"private\"},\"date\":1634133587,\"text\":\"Not a Fall!\"}}\n",
      "{\"ok\":true,\"result\":{\"message_id\":79,\"from\":{\"id\":1917311024,\"is_bot\":true,\"first_name\":\"FallAlert\",\"username\":\"FallAlertPythonBot\"},\"chat\":{\"id\":1766671538,\"first_name\":\"Teddy\",\"last_name\":\"Ordo\\u00f1ez\",\"username\":\"teddsords\",\"type\":\"private\"},\"date\":1634133618,\"text\":\"Fall detected!\"}}\n",
      "{\"ok\":true,\"result\":{\"message_id\":80,\"from\":{\"id\":1917311024,\"is_bot\":true,\"first_name\":\"FallAlert\",\"username\":\"FallAlertPythonBot\"},\"chat\":{\"id\":1766671538,\"first_name\":\"Teddy\",\"last_name\":\"Ordo\\u00f1ez\",\"username\":\"teddsords\",\"type\":\"private\"},\"date\":1634133649,\"text\":\"Not a Fall!\"}}\n",
      "{\"ok\":true,\"result\":{\"message_id\":81,\"from\":{\"id\":1917311024,\"is_bot\":true,\"first_name\":\"FallAlert\",\"username\":\"FallAlertPythonBot\"},\"chat\":{\"id\":1766671538,\"first_name\":\"Teddy\",\"last_name\":\"Ordo\\u00f1ez\",\"username\":\"teddsords\",\"type\":\"private\"},\"date\":1634133680,\"text\":\"Not a Fall!\"}}\n"
     ]
    }
   ],
   "metadata": {}
  },
  {
   "cell_type": "markdown",
   "source": [
    "#### Plotting Confusion Matrix\r\n",
    "\r\n",
    "Plotting confusion matrix for better visualization of true positves and false negatives"
   ],
   "metadata": {}
  },
  {
   "cell_type": "code",
   "execution_count": 151,
   "source": [
    "con_mat = confusion_matrix(y_true=y_test, y_pred=y_predicted_1)\r\n",
    "disp = ConfusionMatrixDisplay(confusion_matrix=con_mat)\r\n",
    "disp.plot(cmap='Blues')\r\n",
    "plt.title('Confusion Matrix for SVM model with C = 1')\r\n",
    "plt.show()"
   ],
   "outputs": [
    {
     "output_type": "display_data",
     "data": {
      "image/png": "[encoded data removed]",
      "text/plain": [
       "<Figure size 432x288 with 2 Axes>"
      ]
     },
     "metadata": {
      "needs_background": "light"
     }
    }
   ],
   "metadata": {}
  },
  {
   "cell_type": "markdown",
   "source": [
    "#### Using GridSearchCV\r\n",
    "\r\n",
    "By using the function GridSearchCV we can train an validate different SVM models with different **C** values for obtaining the best model with the best accuracy.\r\n"
   ],
   "metadata": {}
  },
  {
   "cell_type": "code",
   "execution_count": 16,
   "source": [
    "params = {'C': (0.001, 0.005, 0.01, 0.05, 0.1, 0.5, 1, 5, 10, 50, 100, 500, 1000)}"
   ],
   "outputs": [],
   "metadata": {}
  },
  {
   "cell_type": "code",
   "execution_count": 17,
   "source": [
    "clf_grid = GridSearchCV(SVC(), params, cv=10, n_jobs=-1, verbose=1, scoring='accuracy')\r\n",
    "clf_grid.fit(X,y)\r\n",
    "print(clf_grid.best_params_)\r\n",
    "df_grid_results = pd.DataFrame(clf_grid.cv_results_)\r\n",
    "print(df_grid_results)\r\n",
    "broadcast_message(['1766671538'], 'GridSearchCV is done!')"
   ],
   "outputs": [
    {
     "output_type": "stream",
     "name": "stdout",
     "text": [
      "Fitting 10 folds for each of 13 candidates, totalling 130 fits\n",
      "{'C': 1000}\n",
      "    mean_fit_time  std_fit_time  mean_score_time  std_score_time param_C  \\\n",
      "0        0.099133      0.006573         0.028225        0.001997   0.001   \n",
      "1        0.093451      0.005105         0.027425        0.004241   0.005   \n",
      "2        0.135038      0.024712         0.033711        0.005814    0.01   \n",
      "3        0.099633      0.008351         0.026330        0.003709    0.05   \n",
      "4        0.123569      0.020548         0.036204        0.010751     0.1   \n",
      "5        0.234971      0.080584         0.067818        0.042888     0.5   \n",
      "6        0.124178      0.017796         0.029559        0.007611       1   \n",
      "7        0.109806      0.012784         0.020745        0.002815       5   \n",
      "8        0.105319      0.011726         0.027576        0.007906      10   \n",
      "9        0.158723      0.031187         0.024145        0.008660      50   \n",
      "10       0.156629      0.033567         0.020507        0.003821     100   \n",
      "11       0.288333      0.048621         0.018944        0.005502     500   \n",
      "12       0.364526      0.034405         0.018147        0.004696    1000   \n",
      "\n",
      "          params  split0_test_score  split1_test_score  split2_test_score  \\\n",
      "0   {'C': 0.001}           0.739726           0.739726           0.739726   \n",
      "1   {'C': 0.005}           0.739726           0.739726           0.739726   \n",
      "2    {'C': 0.01}           0.739726           0.739726           0.739726   \n",
      "3    {'C': 0.05}           0.828767           0.842466           0.753425   \n",
      "4     {'C': 0.1}           0.835616           0.863014           0.780822   \n",
      "5     {'C': 0.5}           0.890411           0.897260           0.815068   \n",
      "6       {'C': 1}           0.897260           0.917808           0.863014   \n",
      "7       {'C': 5}           0.917808           0.931507           0.876712   \n",
      "8      {'C': 10}           0.924658           0.931507           0.876712   \n",
      "9      {'C': 50}           0.938356           0.910959           0.890411   \n",
      "10    {'C': 100}           0.938356           0.910959           0.883562   \n",
      "11    {'C': 500}           0.945205           0.931507           0.897260   \n",
      "12   {'C': 1000}           0.945205           0.938356           0.897260   \n",
      "\n",
      "    split3_test_score  split4_test_score  split5_test_score  \\\n",
      "0            0.739726           0.739726           0.739726   \n",
      "1            0.739726           0.739726           0.739726   \n",
      "2            0.732877           0.739726           0.739726   \n",
      "3            0.815068           0.849315           0.856164   \n",
      "4            0.815068           0.869863           0.869863   \n",
      "5            0.849315           0.876712           0.876712   \n",
      "6            0.883562           0.876712           0.883562   \n",
      "7            0.897260           0.883562           0.904110   \n",
      "8            0.890411           0.890411           0.910959   \n",
      "9            0.883562           0.910959           0.917808   \n",
      "10           0.890411           0.910959           0.910959   \n",
      "11           0.910959           0.924658           0.917808   \n",
      "12           0.910959           0.924658           0.938356   \n",
      "\n",
      "    split6_test_score  split7_test_score  split8_test_score  \\\n",
      "0            0.737931           0.744828           0.744828   \n",
      "1            0.737931           0.744828           0.744828   \n",
      "2            0.737931           0.751724           0.744828   \n",
      "3            0.813793           0.806897           0.806897   \n",
      "4            0.800000           0.813793           0.820690   \n",
      "5            0.834483           0.862069           0.855172   \n",
      "6            0.862069           0.889655           0.882759   \n",
      "7            0.868966           0.903448           0.910345   \n",
      "8            0.868966           0.896552           0.903448   \n",
      "9            0.882759           0.903448           0.910345   \n",
      "10           0.875862           0.910345           0.924138   \n",
      "11           0.896552           0.917241           0.931034   \n",
      "12           0.903448           0.917241           0.931034   \n",
      "\n",
      "    split9_test_score  mean_test_score  std_test_score  rank_test_score  \n",
      "0            0.744828         0.741077        0.002511               12  \n",
      "1            0.744828         0.741077        0.002511               12  \n",
      "2            0.744828         0.741082        0.004772               11  \n",
      "3            0.855172         0.822796        0.029574               10  \n",
      "4            0.855172         0.832390        0.029609                9  \n",
      "5            0.868966         0.862617        0.023865                8  \n",
      "6            0.903448         0.885985        0.016328                7  \n",
      "7            0.937931         0.903165        0.021371                5  \n",
      "8            0.937931         0.903155        0.021847                6  \n",
      "9            0.944828         0.909343        0.019858                4  \n",
      "10           0.944828         0.910038        0.021137                3  \n",
      "11           0.931034         0.920326        0.014809                2  \n",
      "12           0.917241         0.922376        0.015114                1  \n",
      "{\"ok\":true,\"result\":{\"message_id\":84,\"from\":{\"id\":1917311024,\"is_bot\":true,\"first_name\":\"FallAlert\",\"username\":\"FallAlertPythonBot\"},\"chat\":{\"id\":1766671538,\"first_name\":\"Teddy\",\"last_name\":\"Ordo\\u00f1ez\",\"username\":\"teddsords\",\"type\":\"private\"},\"date\":1634135684,\"text\":\"GridSearchCV is done!\"}}\n"
     ]
    }
   ],
   "metadata": {}
  },
  {
   "cell_type": "code",
   "execution_count": 19,
   "source": [
    "df_grid_results[['param_C', 'mean_test_score', 'rank_test_score']]"
   ],
   "outputs": [
    {
     "output_type": "execute_result",
     "data": {
      "text/html": [
       "<div>\n",
       "<style scoped>\n",
       "    .dataframe tbody tr th:only-of-type {\n",
       "        vertical-align: middle;\n",
       "    }\n",
       "\n",
       "    .dataframe tbody tr th {\n",
       "        vertical-align: top;\n",
       "    }\n",
       "\n",
       "    .dataframe thead th {\n",
       "        text-align: right;\n",
       "    }\n",
       "</style>\n",
       "<table border=\"1\" class=\"dataframe\">\n",
       "  <thead>\n",
       "    <tr style=\"text-align: right;\">\n",
       "      <th></th>\n",
       "      <th>param_C</th>\n",
       "      <th>mean_test_score</th>\n",
       "      <th>rank_test_score</th>\n",
       "    </tr>\n",
       "  </thead>\n",
       "  <tbody>\n",
       "    <tr>\n",
       "      <th>0</th>\n",
       "      <td>0.001</td>\n",
       "      <td>0.741077</td>\n",
       "      <td>12</td>\n",
       "    </tr>\n",
       "    <tr>\n",
       "      <th>1</th>\n",
       "      <td>0.005</td>\n",
       "      <td>0.741077</td>\n",
       "      <td>12</td>\n",
       "    </tr>\n",
       "    <tr>\n",
       "      <th>2</th>\n",
       "      <td>0.01</td>\n",
       "      <td>0.741082</td>\n",
       "      <td>11</td>\n",
       "    </tr>\n",
       "    <tr>\n",
       "      <th>3</th>\n",
       "      <td>0.05</td>\n",
       "      <td>0.822796</td>\n",
       "      <td>10</td>\n",
       "    </tr>\n",
       "    <tr>\n",
       "      <th>4</th>\n",
       "      <td>0.1</td>\n",
       "      <td>0.832390</td>\n",
       "      <td>9</td>\n",
       "    </tr>\n",
       "    <tr>\n",
       "      <th>5</th>\n",
       "      <td>0.5</td>\n",
       "      <td>0.862617</td>\n",
       "      <td>8</td>\n",
       "    </tr>\n",
       "    <tr>\n",
       "      <th>6</th>\n",
       "      <td>1</td>\n",
       "      <td>0.885985</td>\n",
       "      <td>7</td>\n",
       "    </tr>\n",
       "    <tr>\n",
       "      <th>7</th>\n",
       "      <td>5</td>\n",
       "      <td>0.903165</td>\n",
       "      <td>5</td>\n",
       "    </tr>\n",
       "    <tr>\n",
       "      <th>8</th>\n",
       "      <td>10</td>\n",
       "      <td>0.903155</td>\n",
       "      <td>6</td>\n",
       "    </tr>\n",
       "    <tr>\n",
       "      <th>9</th>\n",
       "      <td>50</td>\n",
       "      <td>0.909343</td>\n",
       "      <td>4</td>\n",
       "    </tr>\n",
       "    <tr>\n",
       "      <th>10</th>\n",
       "      <td>100</td>\n",
       "      <td>0.910038</td>\n",
       "      <td>3</td>\n",
       "    </tr>\n",
       "    <tr>\n",
       "      <th>11</th>\n",
       "      <td>500</td>\n",
       "      <td>0.920326</td>\n",
       "      <td>2</td>\n",
       "    </tr>\n",
       "    <tr>\n",
       "      <th>12</th>\n",
       "      <td>1000</td>\n",
       "      <td>0.922376</td>\n",
       "      <td>1</td>\n",
       "    </tr>\n",
       "  </tbody>\n",
       "</table>\n",
       "</div>"
      ],
      "text/plain": [
       "   param_C  mean_test_score  rank_test_score\n",
       "0    0.001         0.741077               12\n",
       "1    0.005         0.741077               12\n",
       "2     0.01         0.741082               11\n",
       "3     0.05         0.822796               10\n",
       "4      0.1         0.832390                9\n",
       "5      0.5         0.862617                8\n",
       "6        1         0.885985                7\n",
       "7        5         0.903165                5\n",
       "8       10         0.903155                6\n",
       "9       50         0.909343                4\n",
       "10     100         0.910038                3\n",
       "11     500         0.920326                2\n",
       "12    1000         0.922376                1"
      ]
     },
     "metadata": {},
     "execution_count": 19
    }
   ],
   "metadata": {}
  },
  {
   "cell_type": "markdown",
   "source": [
    "### Creating another SVM model\r\n",
    "Since Grid Search found that the best model should have C = 1000, we will train a model with it and save it on disk."
   ],
   "metadata": {}
  },
  {
   "cell_type": "code",
   "execution_count": 17,
   "source": [
    "clf_lin_1000 = SVC(kernel='linear', C=1000)\r\n",
    "X_rem, X_test, y_rem, y_test = train_test_split(X, y, test_size=0.1, train_size=0.9, random_state=17, stratify=y)\r\n",
    "X_rem.shape, X_test.shape\r\n",
    "scores_lin_1000 = []\r\n",
    "\r\n",
    "k_fold = StratifiedKFold(n_splits=10,shuffle=True, random_state=17)      # Creating a Stratifiedd K fold object\r\n",
    "# This loop can be done with one line of code using cross_val_score\r\n",
    "for train_index, val_index in k_fold.split(X_rem, y_rem):                      # Splitting dataset into 10 fold \r\n",
    "    X_train, X_val = X_rem.iloc[train_index], X_rem.iloc[val_index]\r\n",
    "    y_train, y_val = y_rem.iloc[train_index] , y_rem.iloc[val_index]\r\n",
    "\r\n",
    "    clf_lin_1000.fit(X_train, y_train)\r\n",
    "    scores_lin_1000.append(clf_lin_1000.score(X_val, y_val))\r\n",
    "\r\n",
    "broadcast_message(['1766671538'], 'Training is done!')\r\n",
    "print('Linear accuracy score: ', sum(scores_lin_1000) / len(scores_lin_1000)) "
   ],
   "outputs": [],
   "metadata": {}
  },
  {
   "cell_type": "code",
   "execution_count": 146,
   "source": [
    "y_predicted_1000 = clf_lin_1000.predict(X_test)       # 0.95      randomstate=17 0.9567 accuracy\r\n",
    "print('Accuracy: ', accuracy_score(y_test, y_predicted_1000))"
   ],
   "outputs": [
    {
     "output_type": "stream",
     "name": "stdout",
     "text": [
      "Accuracy:  0.9447852760736196\n"
     ]
    }
   ],
   "metadata": {}
  },
  {
   "cell_type": "markdown",
   "source": [
    "#### Saving model to disk\r\n",
    "\r\n",
    "Saving the model to disk so it can be loaded afterwards."
   ],
   "metadata": {}
  },
  {
   "cell_type": "code",
   "execution_count": 28,
   "source": [
    "filename = 'SVM_linear_1000.sav'\r\n",
    "pickle.dump(clf_lin_1000, open(filename, 'wb'))"
   ],
   "outputs": [],
   "metadata": {}
  },
  {
   "cell_type": "markdown",
   "source": [
    "#### Plotting Confusion Matrix\r\n",
    "\r\n",
    "By plotting the confusion matrix of the model, we can visualize easier the false positives and false negatives."
   ],
   "metadata": {}
  },
  {
   "cell_type": "code",
   "execution_count": 145,
   "source": [
    "con_mat = confusion_matrix(y_true=y_test, y_pred=y_predicted_1000)\r\n",
    "disp = ConfusionMatrixDisplay(confusion_matrix=con_mat)\r\n",
    "disp.plot(cmap='Blues')\r\n",
    "plt.title('Confusion Matrix for SVM model with C = 1000')\r\n",
    "plt.show()"
   ],
   "outputs": [
    {
     "output_type": "display_data",
     "data": {
      "image/png": "[encoded data removed]",
      "text/plain": [
       "<Figure size 432x288 with 2 Axes>"
      ]
     },
     "metadata": {
      "needs_background": "light"
     }
    }
   ],
   "metadata": {}
  },
  {
   "cell_type": "markdown",
   "source": [
    "## Creating second SVM model\r\n",
    "\r\n",
    "In this section we will be creating a second SVM model by changing the output, instead of having just one output, we will have it predict 2 outputs. These outputs are, Fall or ADL. One has to be the inverse of the other. "
   ],
   "metadata": {}
  },
  {
   "cell_type": "markdown",
   "source": [
    "#### Reading dataframe "
   ],
   "metadata": {}
  },
  {
   "cell_type": "code",
   "execution_count": 13,
   "source": [
    "df2 = pd.read_pickle('Dataframes/Dataframe5.pkl')\r\n",
    "df2.info()"
   ],
   "outputs": [
    {
     "output_type": "stream",
     "name": "stdout",
     "text": [
      "<class 'pandas.core.frame.DataFrame'>\n",
      "RangeIndex: 1798 entries, 0 to 1797\n",
      "Data columns (total 17 columns):\n",
      " #   Column      Non-Null Count  Dtype  \n",
      "---  ------      --------------  -----  \n",
      " 0   SubjectID   1798 non-null   int8   \n",
      " 1   Device      1798 non-null   object \n",
      " 2   ActivityID  1798 non-null   int16  \n",
      " 3   TrialNo     1798 non-null   int8   \n",
      " 4   Acc         1798 non-null   object \n",
      " 5   Gyr         1798 non-null   object \n",
      " 6   Mag         1798 non-null   object \n",
      " 7   Mean Acc X  1798 non-null   float64\n",
      " 8   Mean Acc Y  1798 non-null   float64\n",
      " 9   Mean Acc Z  1798 non-null   float64\n",
      " 10  Std Acc X   1798 non-null   float64\n",
      " 11  Std Acc Y   1798 non-null   float64\n",
      " 12  Std Acc Z   1798 non-null   float64\n",
      " 13  Rng Acc X   1798 non-null   float64\n",
      " 14  Rng Acc Y   1798 non-null   float64\n",
      " 15  Rng Acc Z   1798 non-null   float64\n",
      " 16  Fall        1798 non-null   int64  \n",
      "dtypes: float64(9), int16(1), int64(1), int8(2), object(4)\n",
      "memory usage: 203.8+ KB\n"
     ]
    }
   ],
   "metadata": {}
  },
  {
   "cell_type": "markdown",
   "source": [
    "#### Separating X and y variables"
   ],
   "metadata": {}
  },
  {
   "cell_type": "code",
   "execution_count": 19,
   "source": [
    "X2 = df2.iloc[:, 7:15]\r\n",
    "y2 = df2['Fall']\r\n",
    "y2.head()"
   ],
   "outputs": [
    {
     "output_type": "execute_result",
     "data": {
      "text/plain": [
       "0    0\n",
       "1    0\n",
       "2    0\n",
       "3    0\n",
       "4    0\n",
       "Name: Fall, dtype: int64"
      ]
     },
     "metadata": {},
     "execution_count": 19
    }
   ],
   "metadata": {}
  },
  {
   "cell_type": "markdown",
   "source": [
    "#### Creating SVM model and separating variables into train/test and validation sets"
   ],
   "metadata": {}
  },
  {
   "cell_type": "code",
   "execution_count": 30,
   "source": [
    "clf2 = SVC(kernel='linear')\r\n",
    "\r\n",
    "X_rem_2, X_test_2, y_rem_2, y_test_2 = train_test_split(X2, y2, test_size=0.1, train_size=0.9, random_state=29, stratify=y2)\r\n",
    "X_rem_2.shape, X_test_2.shape"
   ],
   "outputs": [
    {
     "output_type": "execute_result",
     "data": {
      "text/plain": [
       "((1618, 8), (180, 8))"
      ]
     },
     "metadata": {},
     "execution_count": 30
    }
   ],
   "metadata": {}
  },
  {
   "cell_type": "markdown",
   "source": [
    "#### Using StatifiedKFold for training and testing new SVM model"
   ],
   "metadata": {}
  },
  {
   "cell_type": "code",
   "execution_count": 31,
   "source": [
    "scores_2_lin_1 = []\r\n",
    "\r\n",
    "k_fold = StratifiedKFold(n_splits=10,shuffle=True, random_state=92)      # Creating a Stratifiedd K fold object\r\n",
    "# This loop can be done with one line of code using cross_val_score\r\n",
    "for train_index, val_index in k_fold.split(X_rem_2, y_rem_2):                      # Splitting dataset into 10 fold \r\n",
    "    X_train, X_val = X_rem_2.iloc[train_index], X_rem_2.iloc[val_index]\r\n",
    "    y_train, y_val = y_rem_2.iloc[train_index] , y_rem_2.iloc[val_index]\r\n",
    "\r\n",
    "    clf2.fit(X_train, y_train)\r\n",
    "    scores_2_lin_1.append(clf2.score(X_val, y_val))\r\n",
    "\r\n",
    "broadcast_message(['1766671538'], 'Training is done!')\r\n",
    "print('Linear accuracy score: ', sum(scores_2_lin_1) / len(scores_2_lin_1))"
   ],
   "outputs": [
    {
     "output_type": "stream",
     "name": "stdout",
     "text": [
      "{\"ok\":true,\"result\":{\"message_id\":95,\"from\":{\"id\":1917311024,\"is_bot\":true,\"first_name\":\"FallAlert\",\"username\":\"FallAlertPythonBot\"},\"chat\":{\"id\":1766671538,\"first_name\":\"Teddy\",\"last_name\":\"Ordo\\u00f1ez\",\"username\":\"teddsords\",\"type\":\"private\"},\"date\":1634153775,\"text\":\"Training is done!\"}}\n",
      "Linear accuracy score:  0.8962004447511693\n"
     ]
    }
   ],
   "metadata": {}
  },
  {
   "cell_type": "code",
   "execution_count": 32,
   "source": [
    "y2_predicted = clf2.predict(X_test_2)\r\n",
    "print('Accuracy: ', (accuracy_score(y_test_2, y2_predicted))*100)"
   ],
   "outputs": [
    {
     "output_type": "stream",
     "name": "stdout",
     "text": [
      "Accuracy:  87.22222222222223\n"
     ]
    }
   ],
   "metadata": {}
  },
  {
   "cell_type": "code",
   "execution_count": 33,
   "source": [
    "con_mat = confusion_matrix(y_true=y_test_2, y_pred=y2_predicted)\r\n",
    "disp = ConfusionMatrixDisplay(confusion_matrix=con_mat)\r\n",
    "disp.plot(cmap='Blues')\r\n",
    "plt.title('Confusion Matrix for SVM model with C = 1\\n Using dataframe 5')\r\n",
    "plt.show()"
   ],
   "outputs": [
    {
     "output_type": "display_data",
     "data": {
      "image/png": "[encoded data removed]",
      "text/plain": [
       "<Figure size 432x288 with 2 Axes>"
      ]
     },
     "metadata": {
      "needs_background": "light"
     }
    }
   ],
   "metadata": {}
  },
  {
   "cell_type": "markdown",
   "source": [
    "#### Saving model to disk"
   ],
   "metadata": {}
  },
  {
   "cell_type": "code",
   "execution_count": 34,
   "source": [
    "filename = 'SVM_linear_1_dataframe5.sav'\r\n",
    "pickle.dump(clf2, open(filename, 'wb'))"
   ],
   "outputs": [],
   "metadata": {}
  },
  {
   "cell_type": "markdown",
   "source": [
    "#### Using grid search"
   ],
   "metadata": {}
  },
  {
   "cell_type": "code",
   "execution_count": 24,
   "source": [
    "params = {'C': (0.001, 0.005, 0.01, 0.05, 0.1, 0.5, 1, 5, 10, 50, 100, 500, 1000)}\r\n",
    "clf_grid2 = GridSearchCV(SVC(), params, cv=10, n_jobs=-1, verbose=1, scoring='accuracy')\r\n",
    "clf_grid2.fit(X2,y2)\r\n",
    "print(clf_grid2.best_params_)\r\n",
    "df_grid_results = pd.DataFrame(clf_grid2.cv_results_)\r\n",
    "broadcast_message(['1766671538'], 'GridSearchCV is done!')"
   ],
   "outputs": [
    {
     "output_type": "stream",
     "name": "stdout",
     "text": [
      "Fitting 10 folds for each of 13 candidates, totalling 130 fits\n",
      "{'C': 1000}\n",
      "{\"ok\":true,\"result\":{\"message_id\":92,\"from\":{\"id\":1917311024,\"is_bot\":true,\"first_name\":\"FallAlert\",\"username\":\"FallAlertPythonBot\"},\"chat\":{\"id\":1766671538,\"first_name\":\"Teddy\",\"last_name\":\"Ordo\\u00f1ez\",\"username\":\"teddsords\",\"type\":\"private\"},\"date\":1634153381,\"text\":\"GridSearchCV is done!\"}}\n"
     ]
    }
   ],
   "metadata": {}
  },
  {
   "cell_type": "code",
   "execution_count": 26,
   "source": [
    "df_grid_results[['param_C', 'mean_test_score', 'rank_test_score']]"
   ],
   "outputs": [
    {
     "output_type": "execute_result",
     "data": {
      "text/html": [
       "<div>\n",
       "<style scoped>\n",
       "    .dataframe tbody tr th:only-of-type {\n",
       "        vertical-align: middle;\n",
       "    }\n",
       "\n",
       "    .dataframe tbody tr th {\n",
       "        vertical-align: top;\n",
       "    }\n",
       "\n",
       "    .dataframe thead th {\n",
       "        text-align: right;\n",
       "    }\n",
       "</style>\n",
       "<table border=\"1\" class=\"dataframe\">\n",
       "  <thead>\n",
       "    <tr style=\"text-align: right;\">\n",
       "      <th></th>\n",
       "      <th>param_C</th>\n",
       "      <th>mean_test_score</th>\n",
       "      <th>rank_test_score</th>\n",
       "    </tr>\n",
       "  </thead>\n",
       "  <tbody>\n",
       "    <tr>\n",
       "      <th>0</th>\n",
       "      <td>0.001</td>\n",
       "      <td>0.740826</td>\n",
       "      <td>13</td>\n",
       "    </tr>\n",
       "    <tr>\n",
       "      <th>1</th>\n",
       "      <td>0.005</td>\n",
       "      <td>0.750295</td>\n",
       "      <td>12</td>\n",
       "    </tr>\n",
       "    <tr>\n",
       "      <th>2</th>\n",
       "      <td>0.01</td>\n",
       "      <td>0.853156</td>\n",
       "      <td>11</td>\n",
       "    </tr>\n",
       "    <tr>\n",
       "      <th>3</th>\n",
       "      <td>0.05</td>\n",
       "      <td>0.882079</td>\n",
       "      <td>10</td>\n",
       "    </tr>\n",
       "    <tr>\n",
       "      <th>4</th>\n",
       "      <td>0.1</td>\n",
       "      <td>0.892092</td>\n",
       "      <td>9</td>\n",
       "    </tr>\n",
       "    <tr>\n",
       "      <th>5</th>\n",
       "      <td>0.5</td>\n",
       "      <td>0.922132</td>\n",
       "      <td>8</td>\n",
       "    </tr>\n",
       "    <tr>\n",
       "      <th>6</th>\n",
       "      <td>1</td>\n",
       "      <td>0.942737</td>\n",
       "      <td>7</td>\n",
       "    </tr>\n",
       "    <tr>\n",
       "      <th>7</th>\n",
       "      <td>5</td>\n",
       "      <td>0.954407</td>\n",
       "      <td>6</td>\n",
       "    </tr>\n",
       "    <tr>\n",
       "      <th>8</th>\n",
       "      <td>10</td>\n",
       "      <td>0.955518</td>\n",
       "      <td>5</td>\n",
       "    </tr>\n",
       "    <tr>\n",
       "      <th>9</th>\n",
       "      <td>50</td>\n",
       "      <td>0.959395</td>\n",
       "      <td>4</td>\n",
       "    </tr>\n",
       "    <tr>\n",
       "      <th>10</th>\n",
       "      <td>100</td>\n",
       "      <td>0.963287</td>\n",
       "      <td>3</td>\n",
       "    </tr>\n",
       "    <tr>\n",
       "      <th>11</th>\n",
       "      <td>500</td>\n",
       "      <td>0.967173</td>\n",
       "      <td>2</td>\n",
       "    </tr>\n",
       "    <tr>\n",
       "      <th>12</th>\n",
       "      <td>1000</td>\n",
       "      <td>0.968284</td>\n",
       "      <td>1</td>\n",
       "    </tr>\n",
       "  </tbody>\n",
       "</table>\n",
       "</div>"
      ],
      "text/plain": [
       "   param_C  mean_test_score  rank_test_score\n",
       "0    0.001         0.740826               13\n",
       "1    0.005         0.750295               12\n",
       "2     0.01         0.853156               11\n",
       "3     0.05         0.882079               10\n",
       "4      0.1         0.892092                9\n",
       "5      0.5         0.922132                8\n",
       "6        1         0.942737                7\n",
       "7        5         0.954407                6\n",
       "8       10         0.955518                5\n",
       "9       50         0.959395                4\n",
       "10     100         0.963287                3\n",
       "11     500         0.967173                2\n",
       "12    1000         0.968284                1"
      ]
     },
     "metadata": {},
     "execution_count": 26
    }
   ],
   "metadata": {}
  },
  {
   "cell_type": "markdown",
   "source": [
    "#### Creating new model using the parameter given by GridSearchCV"
   ],
   "metadata": {}
  },
  {
   "cell_type": "code",
   "execution_count": 28,
   "source": [
    "clf2_1000 = SVC(kernel='linear', C=1000)\r\n",
    "X_rem_2, X_test_2, y_rem_2, y_test_2 = train_test_split(X2, y2, test_size=0.1, train_size=0.9, random_state=29, stratify=y2)\r\n",
    "X_rem_2.shape, X_test_2.shape\r\n",
    "scores2_1000 = []\r\n",
    "\r\n",
    "k_fold = StratifiedKFold(n_splits=10,shuffle=True, random_state=92)      # Creating a Stratifiedd K fold object\r\n",
    "# This loop can be done with one line of code using cross_val_score\r\n",
    "for train_index, val_index in k_fold.split(X_rem_2, y_rem_2):                      # Splitting dataset into 10 fold \r\n",
    "    X_train, X_val = X_rem_2.iloc[train_index], X_rem_2.iloc[val_index]\r\n",
    "    y_train, y_val = y_rem_2.iloc[train_index] , y_rem_2.iloc[val_index]\r\n",
    "\r\n",
    "    clf2_1000.fit(X_train, y_train)\r\n",
    "    scores2_1000.append(clf2_1000.score(X_val, y_val))\r\n",
    "\r\n",
    "broadcast_message(['1766671538'], 'Training is done!')\r\n",
    "print('Linear accuracy score: ', sum(scores2_1000) / len(scores2_1000)) "
   ],
   "outputs": [
    {
     "output_type": "stream",
     "name": "stdout",
     "text": [
      "{\"ok\":true,\"result\":{\"message_id\":94,\"from\":{\"id\":1917311024,\"is_bot\":true,\"first_name\":\"FallAlert\",\"username\":\"FallAlertPythonBot\"},\"chat\":{\"id\":1766671538,\"first_name\":\"Teddy\",\"last_name\":\"Ordo\\u00f1ez\",\"username\":\"teddsords\",\"type\":\"private\"},\"date\":1634153640,\"text\":\"Training is done!\"}}\n",
      "Linear accuracy score:  0.8937351430105052\n"
     ]
    }
   ],
   "metadata": {}
  },
  {
   "cell_type": "code",
   "execution_count": 140,
   "source": [
    "y2_predicted_1000 = clf2_1000.predict(X_test_2)\r\n",
    "print('Accuracy: ', (accuracy_score(y_test_2, y2_predicted_1000))*100)"
   ],
   "outputs": [
    {
     "output_type": "stream",
     "name": "stdout",
     "text": [
      "Accuracy:  87.22222222222223\n"
     ]
    }
   ],
   "metadata": {}
  },
  {
   "cell_type": "markdown",
   "source": [
    "#### Plotting Confusion Matrix"
   ],
   "metadata": {}
  },
  {
   "cell_type": "code",
   "execution_count": 142,
   "source": [
    "con_mat = confusion_matrix(y_true=y_test_2, y_pred=y2_predicted_1000)\r\n",
    "disp = ConfusionMatrixDisplay(confusion_matrix=con_mat)\r\n",
    "disp.plot(cmap='Blues')\r\n",
    "plt.title('Confusion Matrix for SVM model with\\n C = 1000 using dataframe 5')\r\n",
    "plt.show()"
   ],
   "outputs": [
    {
     "output_type": "display_data",
     "data": {
      "image/png": "[encoded data removed]",
      "text/plain": [
       "<Figure size 432x288 with 2 Axes>"
      ]
     },
     "metadata": {
      "needs_background": "light"
     }
    }
   ],
   "metadata": {}
  },
  {
   "cell_type": "markdown",
   "source": [
    "#### Saving model to disk"
   ],
   "metadata": {}
  },
  {
   "cell_type": "code",
   "execution_count": 37,
   "source": [
    "filename= 'SVM_linear_1000_Dataframe5.sav'\r\n",
    "pickle.dump(clf2_1000, open(filename, 'wb'))"
   ],
   "outputs": [],
   "metadata": {}
  },
  {
   "cell_type": "markdown",
   "source": [
    "## Using Leave-One-Subject-Out method\r\n",
    "\r\n",
    "In this section of the notebook, we will create a svm model but leaving 1 subject out for final testing. This is done to show that the model created is not subject-dependent."
   ],
   "metadata": {}
  },
  {
   "cell_type": "code",
   "execution_count": 115,
   "source": [
    "df3 = pd.read_pickle('Dataframes/Dataframe3.pkl')\r\n",
    "subject_out = df3[df3['SubjectID'] == 13]\r\n",
    "subject_out.reset_index(drop=True, inplace=True)\r\n",
    "subject_out.head()"
   ],
   "outputs": [
    {
     "output_type": "execute_result",
     "data": {
      "text/html": [
       "<div>\n",
       "<style scoped>\n",
       "    .dataframe tbody tr th:only-of-type {\n",
       "        vertical-align: middle;\n",
       "    }\n",
       "\n",
       "    .dataframe tbody tr th {\n",
       "        vertical-align: top;\n",
       "    }\n",
       "\n",
       "    .dataframe thead th {\n",
       "        text-align: right;\n",
       "    }\n",
       "</style>\n",
       "<table border=\"1\" class=\"dataframe\">\n",
       "  <thead>\n",
       "    <tr style=\"text-align: right;\">\n",
       "      <th></th>\n",
       "      <th>SubjectID</th>\n",
       "      <th>Device</th>\n",
       "      <th>ActivityID</th>\n",
       "      <th>TrialNo</th>\n",
       "      <th>Acc</th>\n",
       "      <th>Gyr</th>\n",
       "      <th>Mag</th>\n",
       "      <th>Mean Acc X</th>\n",
       "      <th>Mean Acc Y</th>\n",
       "      <th>Mean Acc Z</th>\n",
       "      <th>...</th>\n",
       "      <th>Mean Mag X</th>\n",
       "      <th>Mean Mag Y</th>\n",
       "      <th>Mean Mag Z</th>\n",
       "      <th>Std Mag X</th>\n",
       "      <th>Std Mag Y</th>\n",
       "      <th>Std Mag Z</th>\n",
       "      <th>Rng Mag X</th>\n",
       "      <th>Rng Mag Y</th>\n",
       "      <th>Rng Mag Z</th>\n",
       "      <th>Fall</th>\n",
       "    </tr>\n",
       "  </thead>\n",
       "  <tbody>\n",
       "    <tr>\n",
       "      <th>0</th>\n",
       "      <td>13</td>\n",
       "      <td>Waist</td>\n",
       "      <td>13</td>\n",
       "      <td>1</td>\n",
       "      <td>[[1.187792, 0.11834, 0.061], [1.098976, 0.1385...</td>\n",
       "      <td>[[3.8500000000000005, -13.23, 7.00000000000000...</td>\n",
       "      <td>[[0.5397, 0.08442, 0.36245999999999995], [0.53...</td>\n",
       "      <td>0.909446</td>\n",
       "      <td>-0.207685</td>\n",
       "      <td>0.195117</td>\n",
       "      <td>...</td>\n",
       "      <td>0.525232</td>\n",
       "      <td>0.245418</td>\n",
       "      <td>0.222293</td>\n",
       "      <td>0.025104</td>\n",
       "      <td>0.067875</td>\n",
       "      <td>0.092003</td>\n",
       "      <td>0.19334</td>\n",
       "      <td>0.36848</td>\n",
       "      <td>0.58870</td>\n",
       "      <td>0</td>\n",
       "    </tr>\n",
       "    <tr>\n",
       "      <th>1</th>\n",
       "      <td>13</td>\n",
       "      <td>Waist</td>\n",
       "      <td>13</td>\n",
       "      <td>2</td>\n",
       "      <td>[[0.99918, 0.043676, 0.04026], [0.999668, 0.04...</td>\n",
       "      <td>[[0.42000000000000004, 2.66, 0.700000000000000...</td>\n",
       "      <td>[[0.5796, 0.06888, 0.40165999999999996], [0.58...</td>\n",
       "      <td>0.910689</td>\n",
       "      <td>-0.211511</td>\n",
       "      <td>0.164247</td>\n",
       "      <td>...</td>\n",
       "      <td>0.546069</td>\n",
       "      <td>0.166859</td>\n",
       "      <td>0.297884</td>\n",
       "      <td>0.028882</td>\n",
       "      <td>0.095824</td>\n",
       "      <td>0.088503</td>\n",
       "      <td>0.08372</td>\n",
       "      <td>0.29834</td>\n",
       "      <td>0.29708</td>\n",
       "      <td>0</td>\n",
       "    </tr>\n",
       "    <tr>\n",
       "      <th>2</th>\n",
       "      <td>13</td>\n",
       "      <td>Waist</td>\n",
       "      <td>13</td>\n",
       "      <td>3</td>\n",
       "      <td>[[1.415444, -0.00244, 0.083448], [1.4679039999...</td>\n",
       "      <td>[[33.53, 45.220000000000006, -40.95], [30.5900...</td>\n",
       "      <td>[[0.5292, 0.10401999999999999, 0.4069799999999...</td>\n",
       "      <td>0.959760</td>\n",
       "      <td>-0.138148</td>\n",
       "      <td>0.149002</td>\n",
       "      <td>...</td>\n",
       "      <td>0.498201</td>\n",
       "      <td>0.334305</td>\n",
       "      <td>0.298323</td>\n",
       "      <td>0.044865</td>\n",
       "      <td>0.095063</td>\n",
       "      <td>0.101606</td>\n",
       "      <td>0.17234</td>\n",
       "      <td>0.37240</td>\n",
       "      <td>0.51352</td>\n",
       "      <td>0</td>\n",
       "    </tr>\n",
       "    <tr>\n",
       "      <th>3</th>\n",
       "      <td>13</td>\n",
       "      <td>Waist</td>\n",
       "      <td>13</td>\n",
       "      <td>4</td>\n",
       "      <td>[[0.9964959999999999, 0.054168, 0.104432], [0....</td>\n",
       "      <td>[[2.8000000000000003, 0.9100000000000001, 0.56...</td>\n",
       "      <td>[[0.5690999999999999, 0.32942, 0.3456599999999...</td>\n",
       "      <td>0.937242</td>\n",
       "      <td>-0.153876</td>\n",
       "      <td>0.163681</td>\n",
       "      <td>...</td>\n",
       "      <td>0.502416</td>\n",
       "      <td>0.376588</td>\n",
       "      <td>0.358075</td>\n",
       "      <td>0.071241</td>\n",
       "      <td>0.055801</td>\n",
       "      <td>0.022026</td>\n",
       "      <td>0.17234</td>\n",
       "      <td>0.18508</td>\n",
       "      <td>0.10682</td>\n",
       "      <td>0</td>\n",
       "    </tr>\n",
       "    <tr>\n",
       "      <th>4</th>\n",
       "      <td>13</td>\n",
       "      <td>Waist</td>\n",
       "      <td>13</td>\n",
       "      <td>5</td>\n",
       "      <td>[[0.930128, 0.061732, 0.014152], [0.94428, 0.0...</td>\n",
       "      <td>[[32.620000000000005, 24.220000000000002, 47.1...</td>\n",
       "      <td>[[0.48411999999999994, 0.01078, 0.32214], [0.4...</td>\n",
       "      <td>0.956477</td>\n",
       "      <td>0.050190</td>\n",
       "      <td>0.144145</td>\n",
       "      <td>...</td>\n",
       "      <td>0.531190</td>\n",
       "      <td>0.193558</td>\n",
       "      <td>0.258704</td>\n",
       "      <td>0.023015</td>\n",
       "      <td>0.064773</td>\n",
       "      <td>0.080942</td>\n",
       "      <td>0.13734</td>\n",
       "      <td>0.32648</td>\n",
       "      <td>0.52332</td>\n",
       "      <td>0</td>\n",
       "    </tr>\n",
       "  </tbody>\n",
       "</table>\n",
       "<p>5 rows × 35 columns</p>\n",
       "</div>"
      ],
      "text/plain": [
       "   SubjectID Device  ActivityID  TrialNo  \\\n",
       "0         13  Waist          13        1   \n",
       "1         13  Waist          13        2   \n",
       "2         13  Waist          13        3   \n",
       "3         13  Waist          13        4   \n",
       "4         13  Waist          13        5   \n",
       "\n",
       "                                                 Acc  \\\n",
       "0  [[1.187792, 0.11834, 0.061], [1.098976, 0.1385...   \n",
       "1  [[0.99918, 0.043676, 0.04026], [0.999668, 0.04...   \n",
       "2  [[1.415444, -0.00244, 0.083448], [1.4679039999...   \n",
       "3  [[0.9964959999999999, 0.054168, 0.104432], [0....   \n",
       "4  [[0.930128, 0.061732, 0.014152], [0.94428, 0.0...   \n",
       "\n",
       "                                                 Gyr  \\\n",
       "0  [[3.8500000000000005, -13.23, 7.00000000000000...   \n",
       "1  [[0.42000000000000004, 2.66, 0.700000000000000...   \n",
       "2  [[33.53, 45.220000000000006, -40.95], [30.5900...   \n",
       "3  [[2.8000000000000003, 0.9100000000000001, 0.56...   \n",
       "4  [[32.620000000000005, 24.220000000000002, 47.1...   \n",
       "\n",
       "                                                 Mag  Mean Acc X  Mean Acc Y  \\\n",
       "0  [[0.5397, 0.08442, 0.36245999999999995], [0.53...    0.909446   -0.207685   \n",
       "1  [[0.5796, 0.06888, 0.40165999999999996], [0.58...    0.910689   -0.211511   \n",
       "2  [[0.5292, 0.10401999999999999, 0.4069799999999...    0.959760   -0.138148   \n",
       "3  [[0.5690999999999999, 0.32942, 0.3456599999999...    0.937242   -0.153876   \n",
       "4  [[0.48411999999999994, 0.01078, 0.32214], [0.4...    0.956477    0.050190   \n",
       "\n",
       "   Mean Acc Z  ...  Mean Mag X  Mean Mag Y  Mean Mag Z  Std Mag X  Std Mag Y  \\\n",
       "0    0.195117  ...    0.525232    0.245418    0.222293   0.025104   0.067875   \n",
       "1    0.164247  ...    0.546069    0.166859    0.297884   0.028882   0.095824   \n",
       "2    0.149002  ...    0.498201    0.334305    0.298323   0.044865   0.095063   \n",
       "3    0.163681  ...    0.502416    0.376588    0.358075   0.071241   0.055801   \n",
       "4    0.144145  ...    0.531190    0.193558    0.258704   0.023015   0.064773   \n",
       "\n",
       "   Std Mag Z  Rng Mag X  Rng Mag Y  Rng Mag Z  Fall  \n",
       "0   0.092003    0.19334    0.36848    0.58870     0  \n",
       "1   0.088503    0.08372    0.29834    0.29708     0  \n",
       "2   0.101606    0.17234    0.37240    0.51352     0  \n",
       "3   0.022026    0.17234    0.18508    0.10682     0  \n",
       "4   0.080942    0.13734    0.32648    0.52332     0  \n",
       "\n",
       "[5 rows x 35 columns]"
      ]
     },
     "metadata": {},
     "execution_count": 115
    }
   ],
   "metadata": {}
  },
  {
   "cell_type": "code",
   "execution_count": 116,
   "source": [
    "df3.drop(df3[df3.SubjectID == 13].index, inplace=True)\r\n",
    "df3.reset_index(drop=True, inplace=True)\r\n",
    "X3 = df3.iloc[: ,7:34]\r\n",
    "y3 = df3['Fall']\r\n",
    "X3"
   ],
   "outputs": [
    {
     "output_type": "execute_result",
     "data": {
      "text/html": [
       "<div>\n",
       "<style scoped>\n",
       "    .dataframe tbody tr th:only-of-type {\n",
       "        vertical-align: middle;\n",
       "    }\n",
       "\n",
       "    .dataframe tbody tr th {\n",
       "        vertical-align: top;\n",
       "    }\n",
       "\n",
       "    .dataframe thead th {\n",
       "        text-align: right;\n",
       "    }\n",
       "</style>\n",
       "<table border=\"1\" class=\"dataframe\">\n",
       "  <thead>\n",
       "    <tr style=\"text-align: right;\">\n",
       "      <th></th>\n",
       "      <th>Mean Acc X</th>\n",
       "      <th>Mean Acc Y</th>\n",
       "      <th>Mean Acc Z</th>\n",
       "      <th>Std Acc X</th>\n",
       "      <th>Std Acc Y</th>\n",
       "      <th>Std Acc Z</th>\n",
       "      <th>Rng Acc X</th>\n",
       "      <th>Rng Acc Y</th>\n",
       "      <th>Rng Acc Z</th>\n",
       "      <th>Mean Gyr X</th>\n",
       "      <th>...</th>\n",
       "      <th>Rng Gyr Z</th>\n",
       "      <th>Mean Mag X</th>\n",
       "      <th>Mean Mag Y</th>\n",
       "      <th>Mean Mag Z</th>\n",
       "      <th>Std Mag X</th>\n",
       "      <th>Std Mag Y</th>\n",
       "      <th>Std Mag Z</th>\n",
       "      <th>Rng Mag X</th>\n",
       "      <th>Rng Mag Y</th>\n",
       "      <th>Rng Mag Z</th>\n",
       "    </tr>\n",
       "  </thead>\n",
       "  <tbody>\n",
       "    <tr>\n",
       "      <th>0</th>\n",
       "      <td>0.921582</td>\n",
       "      <td>-0.201560</td>\n",
       "      <td>0.171808</td>\n",
       "      <td>0.067198</td>\n",
       "      <td>0.165769</td>\n",
       "      <td>0.187205</td>\n",
       "      <td>0.654164</td>\n",
       "      <td>0.938668</td>\n",
       "      <td>0.608780</td>\n",
       "      <td>-4.077706</td>\n",
       "      <td>...</td>\n",
       "      <td>82.11</td>\n",
       "      <td>0.788509</td>\n",
       "      <td>0.306360</td>\n",
       "      <td>0.248950</td>\n",
       "      <td>0.030355</td>\n",
       "      <td>0.062698</td>\n",
       "      <td>0.103449</td>\n",
       "      <td>0.15960</td>\n",
       "      <td>0.27286</td>\n",
       "      <td>0.36050</td>\n",
       "    </tr>\n",
       "    <tr>\n",
       "      <th>1</th>\n",
       "      <td>0.909689</td>\n",
       "      <td>-0.274133</td>\n",
       "      <td>0.174786</td>\n",
       "      <td>0.030403</td>\n",
       "      <td>0.132192</td>\n",
       "      <td>0.165149</td>\n",
       "      <td>0.417484</td>\n",
       "      <td>0.664656</td>\n",
       "      <td>0.509960</td>\n",
       "      <td>-0.843176</td>\n",
       "      <td>...</td>\n",
       "      <td>97.65</td>\n",
       "      <td>0.756194</td>\n",
       "      <td>0.379925</td>\n",
       "      <td>0.255541</td>\n",
       "      <td>0.032967</td>\n",
       "      <td>0.034068</td>\n",
       "      <td>0.074790</td>\n",
       "      <td>0.14658</td>\n",
       "      <td>0.16366</td>\n",
       "      <td>0.22442</td>\n",
       "    </tr>\n",
       "    <tr>\n",
       "      <th>2</th>\n",
       "      <td>0.924141</td>\n",
       "      <td>-0.008939</td>\n",
       "      <td>0.212514</td>\n",
       "      <td>0.099426</td>\n",
       "      <td>0.159648</td>\n",
       "      <td>0.233055</td>\n",
       "      <td>0.813496</td>\n",
       "      <td>0.801784</td>\n",
       "      <td>0.826428</td>\n",
       "      <td>-1.126853</td>\n",
       "      <td>...</td>\n",
       "      <td>97.30</td>\n",
       "      <td>0.799671</td>\n",
       "      <td>0.254084</td>\n",
       "      <td>0.270394</td>\n",
       "      <td>0.016859</td>\n",
       "      <td>0.051702</td>\n",
       "      <td>0.115595</td>\n",
       "      <td>0.09912</td>\n",
       "      <td>0.26320</td>\n",
       "      <td>0.41986</td>\n",
       "    </tr>\n",
       "    <tr>\n",
       "      <th>3</th>\n",
       "      <td>0.909702</td>\n",
       "      <td>-0.031952</td>\n",
       "      <td>0.234640</td>\n",
       "      <td>0.067926</td>\n",
       "      <td>0.161555</td>\n",
       "      <td>0.249287</td>\n",
       "      <td>0.504592</td>\n",
       "      <td>0.759572</td>\n",
       "      <td>0.670024</td>\n",
       "      <td>-1.021162</td>\n",
       "      <td>...</td>\n",
       "      <td>129.43</td>\n",
       "      <td>0.777614</td>\n",
       "      <td>0.318550</td>\n",
       "      <td>0.280543</td>\n",
       "      <td>0.015691</td>\n",
       "      <td>0.037413</td>\n",
       "      <td>0.119515</td>\n",
       "      <td>0.09464</td>\n",
       "      <td>0.17402</td>\n",
       "      <td>0.32018</td>\n",
       "    </tr>\n",
       "    <tr>\n",
       "      <th>4</th>\n",
       "      <td>0.903871</td>\n",
       "      <td>0.170773</td>\n",
       "      <td>0.213385</td>\n",
       "      <td>0.133012</td>\n",
       "      <td>0.162354</td>\n",
       "      <td>0.238117</td>\n",
       "      <td>1.128500</td>\n",
       "      <td>0.939400</td>\n",
       "      <td>0.922808</td>\n",
       "      <td>-0.143515</td>\n",
       "      <td>...</td>\n",
       "      <td>93.80</td>\n",
       "      <td>0.808201</td>\n",
       "      <td>0.202960</td>\n",
       "      <td>0.264524</td>\n",
       "      <td>0.021063</td>\n",
       "      <td>0.051833</td>\n",
       "      <td>0.114198</td>\n",
       "      <td>0.09968</td>\n",
       "      <td>0.28686</td>\n",
       "      <td>0.39298</td>\n",
       "    </tr>\n",
       "    <tr>\n",
       "      <th>...</th>\n",
       "      <td>...</td>\n",
       "      <td>...</td>\n",
       "      <td>...</td>\n",
       "      <td>...</td>\n",
       "      <td>...</td>\n",
       "      <td>...</td>\n",
       "      <td>...</td>\n",
       "      <td>...</td>\n",
       "      <td>...</td>\n",
       "      <td>...</td>\n",
       "      <td>...</td>\n",
       "      <td>...</td>\n",
       "      <td>...</td>\n",
       "      <td>...</td>\n",
       "      <td>...</td>\n",
       "      <td>...</td>\n",
       "      <td>...</td>\n",
       "      <td>...</td>\n",
       "      <td>...</td>\n",
       "      <td>...</td>\n",
       "      <td>...</td>\n",
       "    </tr>\n",
       "    <tr>\n",
       "      <th>1616</th>\n",
       "      <td>0.421164</td>\n",
       "      <td>0.486860</td>\n",
       "      <td>-0.259032</td>\n",
       "      <td>0.482082</td>\n",
       "      <td>0.413782</td>\n",
       "      <td>0.403274</td>\n",
       "      <td>3.109536</td>\n",
       "      <td>6.272264</td>\n",
       "      <td>7.321708</td>\n",
       "      <td>-13.848500</td>\n",
       "      <td>...</td>\n",
       "      <td>429.10</td>\n",
       "      <td>0.255893</td>\n",
       "      <td>0.063975</td>\n",
       "      <td>0.584274</td>\n",
       "      <td>0.155849</td>\n",
       "      <td>0.054347</td>\n",
       "      <td>0.116918</td>\n",
       "      <td>0.51660</td>\n",
       "      <td>0.49532</td>\n",
       "      <td>0.92008</td>\n",
       "    </tr>\n",
       "    <tr>\n",
       "      <th>1617</th>\n",
       "      <td>0.477437</td>\n",
       "      <td>-0.463409</td>\n",
       "      <td>-0.259671</td>\n",
       "      <td>0.525878</td>\n",
       "      <td>0.407719</td>\n",
       "      <td>0.456425</td>\n",
       "      <td>12.972016</td>\n",
       "      <td>11.122984</td>\n",
       "      <td>14.119792</td>\n",
       "      <td>2.177412</td>\n",
       "      <td>...</td>\n",
       "      <td>477.61</td>\n",
       "      <td>0.413253</td>\n",
       "      <td>0.238942</td>\n",
       "      <td>0.357015</td>\n",
       "      <td>0.084351</td>\n",
       "      <td>0.155681</td>\n",
       "      <td>0.124277</td>\n",
       "      <td>0.34916</td>\n",
       "      <td>0.38920</td>\n",
       "      <td>0.64218</td>\n",
       "    </tr>\n",
       "    <tr>\n",
       "      <th>1618</th>\n",
       "      <td>0.516297</td>\n",
       "      <td>0.216274</td>\n",
       "      <td>-0.216580</td>\n",
       "      <td>0.416558</td>\n",
       "      <td>0.605298</td>\n",
       "      <td>0.381468</td>\n",
       "      <td>5.058364</td>\n",
       "      <td>3.708556</td>\n",
       "      <td>6.397192</td>\n",
       "      <td>1.489456</td>\n",
       "      <td>...</td>\n",
       "      <td>475.37</td>\n",
       "      <td>0.337363</td>\n",
       "      <td>0.058966</td>\n",
       "      <td>0.370667</td>\n",
       "      <td>0.181615</td>\n",
       "      <td>0.105069</td>\n",
       "      <td>0.136420</td>\n",
       "      <td>0.43820</td>\n",
       "      <td>0.41636</td>\n",
       "      <td>0.78834</td>\n",
       "    </tr>\n",
       "    <tr>\n",
       "      <th>1619</th>\n",
       "      <td>0.838070</td>\n",
       "      <td>0.347216</td>\n",
       "      <td>0.030255</td>\n",
       "      <td>0.210071</td>\n",
       "      <td>0.364009</td>\n",
       "      <td>0.147526</td>\n",
       "      <td>4.985652</td>\n",
       "      <td>3.778584</td>\n",
       "      <td>5.548072</td>\n",
       "      <td>-2.024441</td>\n",
       "      <td>...</td>\n",
       "      <td>408.31</td>\n",
       "      <td>0.470200</td>\n",
       "      <td>0.140514</td>\n",
       "      <td>0.245743</td>\n",
       "      <td>0.021936</td>\n",
       "      <td>0.126791</td>\n",
       "      <td>0.167907</td>\n",
       "      <td>0.13300</td>\n",
       "      <td>0.35028</td>\n",
       "      <td>0.64596</td>\n",
       "    </tr>\n",
       "    <tr>\n",
       "      <th>1620</th>\n",
       "      <td>0.197696</td>\n",
       "      <td>-0.241964</td>\n",
       "      <td>0.443883</td>\n",
       "      <td>0.779496</td>\n",
       "      <td>0.292070</td>\n",
       "      <td>0.428101</td>\n",
       "      <td>13.737444</td>\n",
       "      <td>10.731608</td>\n",
       "      <td>7.271688</td>\n",
       "      <td>-1.342662</td>\n",
       "      <td>...</td>\n",
       "      <td>702.94</td>\n",
       "      <td>0.173890</td>\n",
       "      <td>0.317003</td>\n",
       "      <td>0.045909</td>\n",
       "      <td>0.280613</td>\n",
       "      <td>0.035531</td>\n",
       "      <td>0.091014</td>\n",
       "      <td>0.61936</td>\n",
       "      <td>0.20300</td>\n",
       "      <td>0.38052</td>\n",
       "    </tr>\n",
       "  </tbody>\n",
       "</table>\n",
       "<p>1621 rows × 27 columns</p>\n",
       "</div>"
      ],
      "text/plain": [
       "      Mean Acc X  Mean Acc Y  Mean Acc Z  Std Acc X  Std Acc Y  Std Acc Z  \\\n",
       "0       0.921582   -0.201560    0.171808   0.067198   0.165769   0.187205   \n",
       "1       0.909689   -0.274133    0.174786   0.030403   0.132192   0.165149   \n",
       "2       0.924141   -0.008939    0.212514   0.099426   0.159648   0.233055   \n",
       "3       0.909702   -0.031952    0.234640   0.067926   0.161555   0.249287   \n",
       "4       0.903871    0.170773    0.213385   0.133012   0.162354   0.238117   \n",
       "...          ...         ...         ...        ...        ...        ...   \n",
       "1616    0.421164    0.486860   -0.259032   0.482082   0.413782   0.403274   \n",
       "1617    0.477437   -0.463409   -0.259671   0.525878   0.407719   0.456425   \n",
       "1618    0.516297    0.216274   -0.216580   0.416558   0.605298   0.381468   \n",
       "1619    0.838070    0.347216    0.030255   0.210071   0.364009   0.147526   \n",
       "1620    0.197696   -0.241964    0.443883   0.779496   0.292070   0.428101   \n",
       "\n",
       "      Rng Acc X  Rng Acc Y  Rng Acc Z  Mean Gyr X  ...  Rng Gyr Z  Mean Mag X  \\\n",
       "0      0.654164   0.938668   0.608780   -4.077706  ...      82.11    0.788509   \n",
       "1      0.417484   0.664656   0.509960   -0.843176  ...      97.65    0.756194   \n",
       "2      0.813496   0.801784   0.826428   -1.126853  ...      97.30    0.799671   \n",
       "3      0.504592   0.759572   0.670024   -1.021162  ...     129.43    0.777614   \n",
       "4      1.128500   0.939400   0.922808   -0.143515  ...      93.80    0.808201   \n",
       "...         ...        ...        ...         ...  ...        ...         ...   \n",
       "1616   3.109536   6.272264   7.321708  -13.848500  ...     429.10    0.255893   \n",
       "1617  12.972016  11.122984  14.119792    2.177412  ...     477.61    0.413253   \n",
       "1618   5.058364   3.708556   6.397192    1.489456  ...     475.37    0.337363   \n",
       "1619   4.985652   3.778584   5.548072   -2.024441  ...     408.31    0.470200   \n",
       "1620  13.737444  10.731608   7.271688   -1.342662  ...     702.94    0.173890   \n",
       "\n",
       "      Mean Mag Y  Mean Mag Z  Std Mag X  Std Mag Y  Std Mag Z  Rng Mag X  \\\n",
       "0       0.306360    0.248950   0.030355   0.062698   0.103449    0.15960   \n",
       "1       0.379925    0.255541   0.032967   0.034068   0.074790    0.14658   \n",
       "2       0.254084    0.270394   0.016859   0.051702   0.115595    0.09912   \n",
       "3       0.318550    0.280543   0.015691   0.037413   0.119515    0.09464   \n",
       "4       0.202960    0.264524   0.021063   0.051833   0.114198    0.09968   \n",
       "...          ...         ...        ...        ...        ...        ...   \n",
       "1616    0.063975    0.584274   0.155849   0.054347   0.116918    0.51660   \n",
       "1617    0.238942    0.357015   0.084351   0.155681   0.124277    0.34916   \n",
       "1618    0.058966    0.370667   0.181615   0.105069   0.136420    0.43820   \n",
       "1619    0.140514    0.245743   0.021936   0.126791   0.167907    0.13300   \n",
       "1620    0.317003    0.045909   0.280613   0.035531   0.091014    0.61936   \n",
       "\n",
       "      Rng Mag Y  Rng Mag Z  \n",
       "0       0.27286    0.36050  \n",
       "1       0.16366    0.22442  \n",
       "2       0.26320    0.41986  \n",
       "3       0.17402    0.32018  \n",
       "4       0.28686    0.39298  \n",
       "...         ...        ...  \n",
       "1616    0.49532    0.92008  \n",
       "1617    0.38920    0.64218  \n",
       "1618    0.41636    0.78834  \n",
       "1619    0.35028    0.64596  \n",
       "1620    0.20300    0.38052  \n",
       "\n",
       "[1621 rows x 27 columns]"
      ]
     },
     "metadata": {},
     "execution_count": 116
    }
   ],
   "metadata": {}
  },
  {
   "cell_type": "code",
   "execution_count": 117,
   "source": [
    "clf3 = SVC(kernel='linear')"
   ],
   "outputs": [],
   "metadata": {}
  },
  {
   "cell_type": "code",
   "execution_count": 114,
   "source": [
    "print('Accuracy: ', cross_val_score(clf3, X3, y3, scoring='accuracy'))"
   ],
   "outputs": [
    {
     "output_type": "stream",
     "name": "stdout",
     "text": [
      "Accuracy:  [0.95692308 0.92283951 0.87962963 0.90432099 0.9691358 ]\n"
     ]
    }
   ],
   "metadata": {}
  },
  {
   "cell_type": "code",
   "execution_count": 118,
   "source": [
    "scores_3 = []\r\n",
    "\r\n",
    "k_fold = StratifiedKFold(n_splits=10,shuffle=True, random_state=758)      # Creating a Stratifiedd K fold object\r\n",
    "# This loop can be done with one line of code using cross_val_score\r\n",
    "for train_index, val_index in k_fold.split(X3, y3):                      # Splitting dataset into 10 fold \r\n",
    "    X_train, X_val = X3.iloc[train_index], X3.iloc[val_index]\r\n",
    "    y_train, y_val = y3.iloc[train_index] , y3.iloc[val_index]\r\n",
    "\r\n",
    "    clf3.fit(X_train, y_train)\r\n",
    "    scores_3.append(clf3.score(X_val, y_val))\r\n",
    "\r\n",
    "broadcast_message(['1766671538'], 'Training is done!')\r\n",
    "print('Linear accuracy score: ', sum(scores_3) / len(scores_3))"
   ],
   "outputs": [
    {
     "output_type": "stream",
     "name": "stdout",
     "text": [
      "{\"ok\":true,\"result\":{\"message_id\":96,\"from\":{\"id\":1917311024,\"is_bot\":true,\"first_name\":\"FallAlert\",\"username\":\"FallAlertPythonBot\"},\"chat\":{\"id\":1766671538,\"first_name\":\"Teddy\",\"last_name\":\"Ordo\\u00f1ez\",\"username\":\"teddsords\",\"type\":\"private\"},\"date\":1634159593,\"text\":\"Training is done!\"}}\n",
      "Linear accuracy score:  0.9487843671892751\n"
     ]
    }
   ],
   "metadata": {}
  },
  {
   "cell_type": "code",
   "execution_count": 121,
   "source": [
    "subject_out_X = subject_out.iloc[:, 7:34]\r\n",
    "subject_out_y = subject_out['Fall']\r\n",
    "subject_out_X.shape, subject_out_y.shape"
   ],
   "outputs": [
    {
     "output_type": "execute_result",
     "data": {
      "text/plain": [
       "((177, 27), (177,))"
      ]
     },
     "metadata": {},
     "execution_count": 121
    }
   ],
   "metadata": {}
  },
  {
   "cell_type": "code",
   "execution_count": 123,
   "source": [
    "subject_out_predicted = clf3.predict(subject_out_X)\r\n",
    "print('Accuracy: ', (accuracy_score(subject_out_y, subject_out_predicted))*100)"
   ],
   "outputs": [
    {
     "output_type": "stream",
     "name": "stdout",
     "text": [
      "Accuracy:  92.65536723163842\n"
     ]
    }
   ],
   "metadata": {}
  },
  {
   "cell_type": "code",
   "execution_count": 124,
   "source": [
    "filename= 'SVM_linear_subject_out.sav'\r\n",
    "pickle.dump(clf3, open(filename, 'wb'))"
   ],
   "outputs": [],
   "metadata": {}
  },
  {
   "cell_type": "markdown",
   "source": [
    "## Testing model of subject out"
   ],
   "metadata": {}
  },
  {
   "cell_type": "code",
   "execution_count": 126,
   "source": [
    "df3 = pd.read_pickle('Dataframes/Dataframe3.pkl')\r\n",
    "subject_out = df3[df3['SubjectID'] == 7]\r\n",
    "subject_out.reset_index(drop=True, inplace=True)\r\n",
    "subject_out.tail()"
   ],
   "outputs": [
    {
     "output_type": "execute_result",
     "data": {
      "text/html": [
       "<div>\n",
       "<style scoped>\n",
       "    .dataframe tbody tr th:only-of-type {\n",
       "        vertical-align: middle;\n",
       "    }\n",
       "\n",
       "    .dataframe tbody tr th {\n",
       "        vertical-align: top;\n",
       "    }\n",
       "\n",
       "    .dataframe thead th {\n",
       "        text-align: right;\n",
       "    }\n",
       "</style>\n",
       "<table border=\"1\" class=\"dataframe\">\n",
       "  <thead>\n",
       "    <tr style=\"text-align: right;\">\n",
       "      <th></th>\n",
       "      <th>SubjectID</th>\n",
       "      <th>Device</th>\n",
       "      <th>ActivityID</th>\n",
       "      <th>TrialNo</th>\n",
       "      <th>Acc</th>\n",
       "      <th>Gyr</th>\n",
       "      <th>Mag</th>\n",
       "      <th>Mean Acc X</th>\n",
       "      <th>Mean Acc Y</th>\n",
       "      <th>Mean Acc Z</th>\n",
       "      <th>...</th>\n",
       "      <th>Mean Mag X</th>\n",
       "      <th>Mean Mag Y</th>\n",
       "      <th>Mean Mag Z</th>\n",
       "      <th>Std Mag X</th>\n",
       "      <th>Std Mag Y</th>\n",
       "      <th>Std Mag Z</th>\n",
       "      <th>Rng Mag X</th>\n",
       "      <th>Rng Mag Y</th>\n",
       "      <th>Rng Mag Z</th>\n",
       "      <th>Fall</th>\n",
       "    </tr>\n",
       "  </thead>\n",
       "  <tbody>\n",
       "    <tr>\n",
       "      <th>179</th>\n",
       "      <td>7</td>\n",
       "      <td>Waist</td>\n",
       "      <td>133</td>\n",
       "      <td>1</td>\n",
       "      <td>[[0.9699, 0.074908, -0.131272], [0.970388, 0.0...</td>\n",
       "      <td>[[-1.54, 1.54, -0.6300000000000001], [-1.96000...</td>\n",
       "      <td>[[0.6202, -0.06817999999999999, 1.097319999999...</td>\n",
       "      <td>0.289409</td>\n",
       "      <td>0.473134</td>\n",
       "      <td>0.061094</td>\n",
       "      <td>...</td>\n",
       "      <td>0.489188</td>\n",
       "      <td>-0.227064</td>\n",
       "      <td>0.992825</td>\n",
       "      <td>0.140160</td>\n",
       "      <td>0.165047</td>\n",
       "      <td>0.099177</td>\n",
       "      <td>0.56896</td>\n",
       "      <td>0.39368</td>\n",
       "      <td>0.37450</td>\n",
       "      <td>1</td>\n",
       "    </tr>\n",
       "    <tr>\n",
       "      <th>180</th>\n",
       "      <td>7</td>\n",
       "      <td>Waist</td>\n",
       "      <td>134</td>\n",
       "      <td>1</td>\n",
       "      <td>[[0.9015799999999999, 0.360876, -0.127124], [0...</td>\n",
       "      <td>[[-0.77, 2.1700000000000004, 1.33], [-2.030000...</td>\n",
       "      <td>[[0.5909399999999999, -0.31961999999999996, 1....</td>\n",
       "      <td>0.265955</td>\n",
       "      <td>0.363287</td>\n",
       "      <td>0.384298</td>\n",
       "      <td>...</td>\n",
       "      <td>0.466250</td>\n",
       "      <td>-0.299380</td>\n",
       "      <td>1.002069</td>\n",
       "      <td>0.133864</td>\n",
       "      <td>0.028454</td>\n",
       "      <td>0.343562</td>\n",
       "      <td>0.45598</td>\n",
       "      <td>0.20510</td>\n",
       "      <td>0.76314</td>\n",
       "      <td>1</td>\n",
       "    </tr>\n",
       "    <tr>\n",
       "      <th>181</th>\n",
       "      <td>7</td>\n",
       "      <td>Waist</td>\n",
       "      <td>134</td>\n",
       "      <td>2</td>\n",
       "      <td>[[0.86254, 0.459696, -0.086376], [0.861564, 0....</td>\n",
       "      <td>[[-1.2600000000000002, 0.77, 0.56], [-1.54, 0....</td>\n",
       "      <td>[[0.5726, -0.36904, 1.3642999999999998], [0.57...</td>\n",
       "      <td>0.410056</td>\n",
       "      <td>0.209789</td>\n",
       "      <td>-0.547802</td>\n",
       "      <td>...</td>\n",
       "      <td>0.365947</td>\n",
       "      <td>-0.215355</td>\n",
       "      <td>1.346780</td>\n",
       "      <td>0.210943</td>\n",
       "      <td>0.157276</td>\n",
       "      <td>0.023506</td>\n",
       "      <td>0.45696</td>\n",
       "      <td>0.35658</td>\n",
       "      <td>0.18802</td>\n",
       "      <td>1</td>\n",
       "    </tr>\n",
       "    <tr>\n",
       "      <th>182</th>\n",
       "      <td>7</td>\n",
       "      <td>Waist</td>\n",
       "      <td>135</td>\n",
       "      <td>1</td>\n",
       "      <td>[[0.97112, 0.126636, -0.006344], [0.972096, 0....</td>\n",
       "      <td>[[-2.7300000000000004, 1.33, 1.05], [-2.730000...</td>\n",
       "      <td>[[0.6071799999999999, -0.34215999999999996, 1....</td>\n",
       "      <td>0.557389</td>\n",
       "      <td>0.542957</td>\n",
       "      <td>0.249808</td>\n",
       "      <td>...</td>\n",
       "      <td>0.467559</td>\n",
       "      <td>-0.409185</td>\n",
       "      <td>1.156426</td>\n",
       "      <td>0.122783</td>\n",
       "      <td>0.055591</td>\n",
       "      <td>0.086048</td>\n",
       "      <td>0.35840</td>\n",
       "      <td>0.14252</td>\n",
       "      <td>0.34538</td>\n",
       "      <td>1</td>\n",
       "    </tr>\n",
       "    <tr>\n",
       "      <th>183</th>\n",
       "      <td>7</td>\n",
       "      <td>Waist</td>\n",
       "      <td>135</td>\n",
       "      <td>2</td>\n",
       "      <td>[[0.974536, -0.010735999999999999, 0.082228], ...</td>\n",
       "      <td>[[-1.05, 1.12, 0.77], [-1.12, 1.54, 0.91000000...</td>\n",
       "      <td>[[0.6332199999999999, -0.29932, 1.221779999999...</td>\n",
       "      <td>0.603237</td>\n",
       "      <td>0.476855</td>\n",
       "      <td>0.272933</td>\n",
       "      <td>...</td>\n",
       "      <td>0.494801</td>\n",
       "      <td>-0.384827</td>\n",
       "      <td>1.153304</td>\n",
       "      <td>0.121670</td>\n",
       "      <td>0.077880</td>\n",
       "      <td>0.057544</td>\n",
       "      <td>0.38794</td>\n",
       "      <td>0.18942</td>\n",
       "      <td>0.31164</td>\n",
       "      <td>1</td>\n",
       "    </tr>\n",
       "  </tbody>\n",
       "</table>\n",
       "<p>5 rows × 35 columns</p>\n",
       "</div>"
      ],
      "text/plain": [
       "     SubjectID Device  ActivityID  TrialNo  \\\n",
       "179          7  Waist         133        1   \n",
       "180          7  Waist         134        1   \n",
       "181          7  Waist         134        2   \n",
       "182          7  Waist         135        1   \n",
       "183          7  Waist         135        2   \n",
       "\n",
       "                                                   Acc  \\\n",
       "179  [[0.9699, 0.074908, -0.131272], [0.970388, 0.0...   \n",
       "180  [[0.9015799999999999, 0.360876, -0.127124], [0...   \n",
       "181  [[0.86254, 0.459696, -0.086376], [0.861564, 0....   \n",
       "182  [[0.97112, 0.126636, -0.006344], [0.972096, 0....   \n",
       "183  [[0.974536, -0.010735999999999999, 0.082228], ...   \n",
       "\n",
       "                                                   Gyr  \\\n",
       "179  [[-1.54, 1.54, -0.6300000000000001], [-1.96000...   \n",
       "180  [[-0.77, 2.1700000000000004, 1.33], [-2.030000...   \n",
       "181  [[-1.2600000000000002, 0.77, 0.56], [-1.54, 0....   \n",
       "182  [[-2.7300000000000004, 1.33, 1.05], [-2.730000...   \n",
       "183  [[-1.05, 1.12, 0.77], [-1.12, 1.54, 0.91000000...   \n",
       "\n",
       "                                                   Mag  Mean Acc X  \\\n",
       "179  [[0.6202, -0.06817999999999999, 1.097319999999...    0.289409   \n",
       "180  [[0.5909399999999999, -0.31961999999999996, 1....    0.265955   \n",
       "181  [[0.5726, -0.36904, 1.3642999999999998], [0.57...    0.410056   \n",
       "182  [[0.6071799999999999, -0.34215999999999996, 1....    0.557389   \n",
       "183  [[0.6332199999999999, -0.29932, 1.221779999999...    0.603237   \n",
       "\n",
       "     Mean Acc Y  Mean Acc Z  ...  Mean Mag X  Mean Mag Y  Mean Mag Z  \\\n",
       "179    0.473134    0.061094  ...    0.489188   -0.227064    0.992825   \n",
       "180    0.363287    0.384298  ...    0.466250   -0.299380    1.002069   \n",
       "181    0.209789   -0.547802  ...    0.365947   -0.215355    1.346780   \n",
       "182    0.542957    0.249808  ...    0.467559   -0.409185    1.156426   \n",
       "183    0.476855    0.272933  ...    0.494801   -0.384827    1.153304   \n",
       "\n",
       "     Std Mag X  Std Mag Y  Std Mag Z  Rng Mag X  Rng Mag Y  Rng Mag Z  Fall  \n",
       "179   0.140160   0.165047   0.099177    0.56896    0.39368    0.37450     1  \n",
       "180   0.133864   0.028454   0.343562    0.45598    0.20510    0.76314     1  \n",
       "181   0.210943   0.157276   0.023506    0.45696    0.35658    0.18802     1  \n",
       "182   0.122783   0.055591   0.086048    0.35840    0.14252    0.34538     1  \n",
       "183   0.121670   0.077880   0.057544    0.38794    0.18942    0.31164     1  \n",
       "\n",
       "[5 rows x 35 columns]"
      ]
     },
     "metadata": {},
     "execution_count": 126
    }
   ],
   "metadata": {}
  },
  {
   "cell_type": "code",
   "execution_count": 127,
   "source": [
    "clf_subject_out = pickle.load(open('SVM_linear_subject_out.sav', 'rb'))"
   ],
   "outputs": [],
   "metadata": {}
  },
  {
   "cell_type": "code",
   "execution_count": 134,
   "source": [
    "X_subject_out = subject_out.iloc[:,7:34]\r\n",
    "print(X_subject_out)\r\n",
    "\r\n",
    "y_subject_out = subject_out['Fall']\r\n",
    "#y_subject_out"
   ],
   "outputs": [
    {
     "output_type": "stream",
     "name": "stdout",
     "text": [
      "     Mean Acc X  Mean Acc Y  Mean Acc Z  Std Acc X  Std Acc Y  Std Acc Z  \\\n",
      "0      0.695474    0.414328    0.381932   0.292781   0.328945   0.179180   \n",
      "1      0.682041    0.423085    0.403508   0.238671   0.305163   0.108893   \n",
      "2      0.814768    0.365238    0.309990   0.249447   0.260044   0.146553   \n",
      "3      0.781191    0.380946    0.333923   0.141490   0.271690   0.025524   \n",
      "4      0.608434    0.515725    0.371942   0.349697   0.303198   0.210928   \n",
      "..          ...         ...         ...        ...        ...        ...   \n",
      "179    0.289409    0.473134    0.061094   0.679276   0.437307   0.202019   \n",
      "180    0.265955    0.363287    0.384298   0.651603   0.185515   0.501734   \n",
      "181    0.410056    0.209789   -0.547802   0.444636   0.275223   0.487826   \n",
      "182    0.557389    0.542957    0.249808   0.371743   0.356311   0.218120   \n",
      "183    0.603237    0.476855    0.272933   0.339538   0.417559   0.163818   \n",
      "\n",
      "     Rng Acc X  Rng Acc Y  Rng Acc Z  Mean Gyr X  ...  Rng Gyr Z  Mean Mag X  \\\n",
      "0     2.755736   1.496696   1.199992  -14.527132  ...     165.76    0.442783   \n",
      "1     0.818376   1.081164   0.678320   -1.641926  ...     121.66    0.440918   \n",
      "2     2.893108   1.277096   1.509140    9.532691  ...     178.78    0.545472   \n",
      "3     0.400160   0.641964   0.184708   -1.757338  ...      43.89    0.535293   \n",
      "4     1.737768   1.611864   1.684332  -16.769235  ...     206.64    0.430517   \n",
      "..         ...        ...        ...         ...  ...        ...         ...   \n",
      "179   2.349720   2.525400   1.573068   -1.232441  ...     375.62    0.489188   \n",
      "180   3.974760   4.808264   4.940756    0.107765  ...     225.26    0.466250   \n",
      "181   3.266672   2.273348   5.321640   -4.620088  ...     254.94    0.365947   \n",
      "182   1.840004   2.362164   1.827316   -1.087176  ...     119.77    0.467559   \n",
      "183   2.340448   1.927844   1.813408   -1.790618  ...     171.64    0.494801   \n",
      "\n",
      "     Mean Mag Y  Mean Mag Z  Std Mag X  Std Mag Y  Std Mag Z  Rng Mag X  \\\n",
      "0     -0.358031    1.028191   0.154266   0.173874   0.127985    0.37226   \n",
      "1     -0.424316    1.107311   0.164861   0.094342   0.017470    0.35098   \n",
      "2     -0.323960    1.013425   0.057322   0.133924   0.133100    0.17416   \n",
      "3     -0.142824    0.691505   0.024061   0.087522   0.017192    0.08722   \n",
      "4     -0.451617    1.257477   0.170039   0.232576   0.245188    0.40320   \n",
      "..          ...         ...        ...        ...        ...        ...   \n",
      "179   -0.227064    0.992825   0.140160   0.165047   0.099177    0.56896   \n",
      "180   -0.299380    1.002069   0.133864   0.028454   0.343562    0.45598   \n",
      "181   -0.215355    1.346780   0.210943   0.157276   0.023506    0.45696   \n",
      "182   -0.409185    1.156426   0.122783   0.055591   0.086048    0.35840   \n",
      "183   -0.384827    1.153304   0.121670   0.077880   0.057544    0.38794   \n",
      "\n",
      "     Rng Mag Y  Rng Mag Z  \n",
      "0      0.52052    0.55510  \n",
      "1      0.21168    0.13678  \n",
      "2      0.47278    0.58786  \n",
      "3      0.19908    0.09366  \n",
      "4      0.62090    0.80164  \n",
      "..         ...        ...  \n",
      "179    0.39368    0.37450  \n",
      "180    0.20510    0.76314  \n",
      "181    0.35658    0.18802  \n",
      "182    0.14252    0.34538  \n",
      "183    0.18942    0.31164  \n",
      "\n",
      "[184 rows x 27 columns]\n"
     ]
    }
   ],
   "metadata": {}
  },
  {
   "cell_type": "code",
   "execution_count": 135,
   "source": [
    "y_predicted_subject_out = clf_subject_out.predict(X_subject_out)\r\n",
    "print('Accuracy with another subject:', accuracy_score(y_subject_out, y_predicted_subject_out))\r\n",
    "\r\n",
    "con_mat = confusion_matrix(y_true=y_subject_out, y_pred=y_predicted_subject_out)\r\n",
    "disp = ConfusionMatrixDisplay(confusion_matrix=con_mat)\r\n",
    "disp.plot(cmap='Blues')\r\n",
    "plt.title('Confusion Matrix for SVM model with C = 1')\r\n",
    "plt.show()"
   ],
   "outputs": [
    {
     "output_type": "stream",
     "name": "stdout",
     "text": [
      "Accuracy with another subject: 0.9456521739130435\n"
     ]
    },
    {
     "output_type": "display_data",
     "data": {
      "image/png": "[encoded data removed]",
      "text/plain": [
       "<Figure size 432x288 with 2 Axes>"
      ]
     },
     "metadata": {
      "needs_background": "light"
     }
    }
   ],
   "metadata": {}
  }
 ],
 "metadata": {
  "orig_nbformat": 4,
  "language_info": {
   "name": "python",
   "version": "3.9.6",
   "mimetype": "text/x-python",
   "codemirror_mode": {
    "name": "ipython",
    "version": 3
   },
   "pygments_lexer": "ipython3",
   "nbconvert_exporter": "python",
   "file_extension": ".py"
  },
  "kernelspec": {
   "name": "python3",
   "display_name": "Python 3.9.6 64-bit"
  },
  "interpreter": {
   "hash": "7b08c00451631029192a61105a26c4bc34ef44237ce27acf2476858d0266e2f1"
  }
 },
 "nbformat": 4,
 "nbformat_minor": 2
}